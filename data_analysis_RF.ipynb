{
  "cells": [
    {
      "cell_type": "code",
      "execution_count": null,
      "metadata": {
        "colab": {
          "base_uri": "https://localhost:8080/"
        },
        "id": "2I_fWpoytiOs",
        "outputId": "61b6a9e3-f7c6-4faf-a5ad-6278558dcedb"
      },
      "outputs": [
        {
          "name": "stdout",
          "output_type": "stream",
          "text": [
            "Collecting ipython-autotime\n",
            "  Downloading ipython_autotime-0.3.2-py2.py3-none-any.whl (7.0 kB)\n",
            "Requirement already satisfied: ipython in /usr/local/lib/python3.10/dist-packages (from ipython-autotime) (7.34.0)\n",
            "Requirement already satisfied: setuptools>=18.5 in /usr/local/lib/python3.10/dist-packages (from ipython->ipython-autotime) (67.7.2)\n",
            "Collecting jedi>=0.16 (from ipython->ipython-autotime)\n",
            "  Downloading jedi-0.19.1-py2.py3-none-any.whl (1.6 MB)\n",
            "\u001b[2K     \u001b[90m━━━━━━━━━━━━━━━━━━━━━━━━━━━━━━━━━━━━━━━━\u001b[0m \u001b[32m1.6/1.6 MB\u001b[0m \u001b[31m9.5 MB/s\u001b[0m eta \u001b[36m0:00:00\u001b[0m\n",
            "\u001b[?25hRequirement already satisfied: decorator in /usr/local/lib/python3.10/dist-packages (from ipython->ipython-autotime) (4.4.2)\n",
            "Requirement already satisfied: pickleshare in /usr/local/lib/python3.10/dist-packages (from ipython->ipython-autotime) (0.7.5)\n",
            "Requirement already satisfied: traitlets>=4.2 in /usr/local/lib/python3.10/dist-packages (from ipython->ipython-autotime) (5.7.1)\n",
            "Requirement already satisfied: prompt-toolkit!=3.0.0,!=3.0.1,<3.1.0,>=2.0.0 in /usr/local/lib/python3.10/dist-packages (from ipython->ipython-autotime) (3.0.39)\n",
            "Requirement already satisfied: pygments in /usr/local/lib/python3.10/dist-packages (from ipython->ipython-autotime) (2.16.1)\n",
            "Requirement already satisfied: backcall in /usr/local/lib/python3.10/dist-packages (from ipython->ipython-autotime) (0.2.0)\n",
            "Requirement already satisfied: matplotlib-inline in /usr/local/lib/python3.10/dist-packages (from ipython->ipython-autotime) (0.1.6)\n",
            "Requirement already satisfied: pexpect>4.3 in /usr/local/lib/python3.10/dist-packages (from ipython->ipython-autotime) (4.8.0)\n",
            "Requirement already satisfied: parso<0.9.0,>=0.8.3 in /usr/local/lib/python3.10/dist-packages (from jedi>=0.16->ipython->ipython-autotime) (0.8.3)\n",
            "Requirement already satisfied: ptyprocess>=0.5 in /usr/local/lib/python3.10/dist-packages (from pexpect>4.3->ipython->ipython-autotime) (0.7.0)\n",
            "Requirement already satisfied: wcwidth in /usr/local/lib/python3.10/dist-packages (from prompt-toolkit!=3.0.0,!=3.0.1,<3.1.0,>=2.0.0->ipython->ipython-autotime) (0.2.8)\n"
          ]
        }
      ],
      "source": [
        "!pip install ipython-autotime\n",
        "%load_ext autotime"
      ]
    },
    {
      "cell_type": "markdown",
      "metadata": {
        "id": "tz-lzZJXlJYg"
      },
      "source": [
        "## Feature analysis by consecutive random forest"
      ]
    },
    {
      "cell_type": "code",
      "execution_count": null,
      "metadata": {
        "id": "n5WprXANlJYk"
      },
      "outputs": [],
      "source": [
        "#importing libreries\n",
        "import pandas as pd\n",
        "import numpy as np\n",
        "from tqdm import tqdm\n",
        "from sklearn.preprocessing import OrdinalEncoder, LabelEncoder\n",
        "from sklearn.ensemble import RandomForestClassifier\n",
        "from sklearn.model_selection import RandomizedSearchCV, train_test_split\n",
        "from sklearn.metrics import precision_recall_fscore_support, confusion_matrix, ConfusionMatrixDisplay\n",
        "import matplotlib.pyplot as plt\n",
        "\n",
        "seed = 42"
      ]
    },
    {
      "cell_type": "markdown",
      "metadata": {
        "id": "W34ckCfvlJYn"
      },
      "source": [
        "### In this notebook, an analysis of the importance of features will be carried out by computing sequential random forests where at each iteration the feature with the least importance will be dropped. The analysis is inclusive of all columns in the dataset including those which are not present at submit time"
      ]
    },
    {
      "cell_type": "markdown",
      "metadata": {
        "id": "vg0bVQBslJYn"
      },
      "source": [
        "#### Taking data and pre-processing features that are not numerical"
      ]
    },
    {
      "cell_type": "code",
      "execution_count": null,
      "metadata": {
        "id": "iHgS261ylJYo"
      },
      "outputs": [],
      "source": [
        "def show_columns_type(data):\n",
        "    for column in data.columns:\n",
        "        print(column, \"=\", type(column))"
      ]
    },
    {
      "cell_type": "code",
      "execution_count": null,
      "metadata": {
        "id": "4W7UqLUXwuEF"
      },
      "outputs": [],
      "source": [
        "from google.colab import drive\n",
        "drive.mount('/content/drive')"
      ]
    },
    {
      "cell_type": "code",
      "execution_count": null,
      "metadata": {
        "id": "w6luasx-lJYp"
      },
      "outputs": [],
      "source": [
        "data = pd.read_parquet(\"/content/drive/MyDrive/job_table.parquet\")\n",
        "#data = pd.read_parquet(\"job_table.parquet\")\n",
        "data = data[0:1000000]\n",
        "data.head(10)"
      ]
    },
    {
      "cell_type": "code",
      "execution_count": null,
      "metadata": {
        "id": "Qo4g76EwlJYq"
      },
      "outputs": [],
      "source": [
        "data.info()"
      ]
    },
    {
      "cell_type": "markdown",
      "metadata": {
        "id": "zANd-4DLlJYr"
      },
      "source": [
        "There are 'category', 'datetime' and 'object' features"
      ]
    },
    {
      "cell_type": "code",
      "execution_count": null,
      "metadata": {
        "id": "70GSKYZelJYs"
      },
      "outputs": [],
      "source": [
        "show_columns_type(data)"
      ]
    },
    {
      "cell_type": "markdown",
      "metadata": {
        "id": "bawwL9R5lJYt"
      },
      "source": [
        "All elements inside colunms are strings"
      ]
    },
    {
      "cell_type": "markdown",
      "metadata": {
        "id": "YD3CCuO4lJYt"
      },
      "source": [
        "Deleting rows classified with usless class for this task"
      ]
    },
    {
      "cell_type": "code",
      "execution_count": null,
      "metadata": {
        "id": "ovL0QfLWlJYu"
      },
      "outputs": [],
      "source": [
        "values = [\"OUT_OF_MEMORY\", \"COMPLETED\", \"FAILED\", \"TIMEOUT\"]\n",
        "data = data[data['job_state'].isin(values)]"
      ]
    },
    {
      "cell_type": "markdown",
      "metadata": {
        "id": "2qv0SdY0lJYu"
      },
      "source": [
        "Considering only two classes: completed job and others as failed.\n",
        "Then encode job exit state as numerical for binary classification task"
      ]
    },
    {
      "cell_type": "code",
      "execution_count": null,
      "metadata": {
        "id": "YfrfCJLjlJYv"
      },
      "outputs": [],
      "source": [
        "labels = data[\"job_state\"]\n",
        "data = data.drop([\"job_state\"], axis=1)\n",
        "\n",
        "print(\"Old labels: \", np.unique(labels))\n",
        "\n",
        "labels[labels == \"OUT_OF_MEMORY\"] = \"FAILED\"\n",
        "labels[labels == \"TIMEOUT\"] = \"FAILED\"\n",
        "\n",
        "print(\"New labels: \", list(np.unique(labels)))\n",
        "\n",
        "lab_enc = LabelEncoder()\n",
        "lab_enc.fit(labels)\n",
        "unique_labels = lab_enc.classes_\n",
        "num_classes = len(unique_labels)\n",
        "\n",
        "labels = lab_enc.transform(labels).astype(float)"
      ]
    },
    {
      "cell_type": "code",
      "execution_count": null,
      "metadata": {
        "id": "ze7w2C2ylJYw"
      },
      "outputs": [],
      "source": [
        "labels"
      ]
    },
    {
      "cell_type": "markdown",
      "metadata": {
        "id": "VAvi8MTIlJYw"
      },
      "source": [
        "Converting all columns to numerical"
      ]
    },
    {
      "cell_type": "code",
      "execution_count": null,
      "metadata": {
        "id": "oPGrF4tYlJYx"
      },
      "outputs": [],
      "source": [
        "ord_enc = OrdinalEncoder(dtype=np.int64)\n",
        "for col in tqdm(data.columns):\n",
        "    val = data[col].values.reshape(-1, 1)\n",
        "    data[col] = ord_enc.fit_transform(val)"
      ]
    },
    {
      "cell_type": "code",
      "execution_count": null,
      "metadata": {
        "id": "HhvSAurBlJYy"
      },
      "outputs": [],
      "source": [
        "data.info()"
      ]
    },
    {
      "cell_type": "markdown",
      "metadata": {
        "id": "jGdWPmuIlJYz"
      },
      "source": [
        "Final Data"
      ]
    },
    {
      "cell_type": "code",
      "execution_count": null,
      "metadata": {
        "id": "-ZppKY4SlJYz"
      },
      "outputs": [],
      "source": [
        "data.head(5)"
      ]
    },
    {
      "cell_type": "markdown",
      "metadata": {
        "id": "phpuTzpqlJY0"
      },
      "source": [
        "#### Random Forest Analysis"
      ]
    },
    {
      "cell_type": "markdown",
      "metadata": {
        "id": "tvSdfx_1lJY0"
      },
      "source": [
        "#### Train, validation and test split"
      ]
    },
    {
      "cell_type": "code",
      "execution_count": null,
      "metadata": {
        "id": "fdXpuMr8lJY1"
      },
      "outputs": [],
      "source": [
        "x_train, x_test, y_train, y_test = train_test_split(data, labels, train_size=0.7, random_state=seed)"
      ]
    },
    {
      "cell_type": "markdown",
      "metadata": {
        "id": "-pnR-YmzlJY1"
      },
      "source": [
        "#### RF consecutive"
      ]
    },
    {
      "cell_type": "code",
      "execution_count": null,
      "metadata": {
        "id": "34pL9TZHlJY1"
      },
      "outputs": [],
      "source": [
        "features_ranking = {}"
      ]
    },
    {
      "cell_type": "code",
      "execution_count": null,
      "metadata": {
        "id": "Y4ZClLEzlJY2"
      },
      "outputs": [],
      "source": [
        "def random_forest():\n",
        "    local_ranking = {}\n",
        "    rf = RandomForestClassifier(random_state=seed)\n",
        "    rf.fit(x_train, y_train)\n",
        "    y_pred = rf.predict(x_test)\n",
        "    precision, recall, f1, _ = precision_recall_fscore_support(\n",
        "        y_test, y_pred, average=\"binary\")\n",
        "    print(\"-------------------------------------------------------------------\")\n",
        "    print(f\"F1 on test set: {f1}\")\n",
        "    print(f\"Recall on test set: {recall}\")\n",
        "    print(f\"Precision on test set: {precision}\")\n",
        "    cm = confusion_matrix(y_test, y_pred)\n",
        "    ConfusionMatrixDisplay(confusion_matrix=cm).plot()\n",
        "    importances = pd.Series(rf.feature_importances_, index=x_train.columns)\n",
        "    importances.sort_values(ascending=True, inplace=True)\n",
        "    i = 0\n",
        "    for key in importances.index:\n",
        "      local_ranking.update({key : importances[i]})\n",
        "      i = i + 1\n",
        "    print(\"Local ranking: \", local_ranking)\n",
        "    print(\"-------------------------------------------------------------------\")\n",
        "    return local_ranking"
      ]
    },
    {
      "cell_type": "code",
      "execution_count": null,
      "metadata": {
        "id": "mGJrV19J1A8-"
      },
      "outputs": [],
      "source": [
        "for i in tqdm(range(0,99)):\n",
        "  print(\"Iteration number: \", i)\n",
        "  local_ranking = random_forest()\n",
        "  column_to_drop = list(local_ranking.keys())[0]\n",
        "  features_ranking.update({(99-i) : column_to_drop})\n",
        "  x_train.drop(column_to_drop, axis='columns', inplace=True)\n",
        "  x_test.drop(column_to_drop, axis='columns', inplace=True)"
      ]
    }
  ],
  "metadata": {
    "accelerator": "GPU",
    "colab": {
      "gpuType": "T4",
      "provenance": []
    },
    "kernelspec": {
      "display_name": "Python 3",
      "name": "python3"
    },
    "language_info": {
      "codemirror_mode": {
        "name": "ipython",
        "version": 3
      },
      "file_extension": ".py",
      "mimetype": "text/x-python",
      "name": "python",
      "nbconvert_exporter": "python",
      "pygments_lexer": "ipython3",
      "version": "3.10.10"
    },
    "orig_nbformat": 4
  },
  "nbformat": 4,
  "nbformat_minor": 0
}
