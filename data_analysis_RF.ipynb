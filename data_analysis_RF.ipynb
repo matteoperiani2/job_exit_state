{
  "cells": [
    {
      "cell_type": "markdown",
      "metadata": {
        "id": "tz-lzZJXlJYg"
      },
      "source": [
        "## Feature analysis by consecutive random forest"
      ]
    },
    {
      "cell_type": "code",
      "execution_count": 1,
      "metadata": {
        "id": "n5WprXANlJYk"
      },
      "outputs": [],
      "source": [
        "#importing libreries\n",
        "import pandas as pd\n",
        "import numpy as np\n",
        "from tqdm import tqdm\n",
        "from sklearn.preprocessing import OrdinalEncoder, LabelEncoder\n",
        "from sklearn.ensemble import RandomForestClassifier\n",
        "from sklearn.model_selection import RandomizedSearchCV, train_test_split\n",
        "from sklearn.metrics import precision_recall_fscore_support, confusion_matrix, ConfusionMatrixDisplay\n",
        "import matplotlib.pyplot as plt\n",
        "\n",
        "seed = 42\n",
        "np.random.seed(seed=seed)"
      ]
    },
    {
      "cell_type": "markdown",
      "metadata": {
        "id": "W34ckCfvlJYn"
      },
      "source": [
        "### In this notebook, an analysis of the importance of features will be carried out by computing sequential random forests where at each iteration the feature with the least importance will be dropped. The analysis is inclusive of all columns in the dataset including those which are not present at submit time"
      ]
    },
    {
      "cell_type": "markdown",
      "metadata": {
        "id": "vg0bVQBslJYn"
      },
      "source": [
        "#### Taking data and pre-processing features that are not numerical"
      ]
    },
    {
      "cell_type": "code",
      "execution_count": 2,
      "metadata": {
        "id": "iHgS261ylJYo"
      },
      "outputs": [],
      "source": [
        "def show_columns_type(data):\n",
        "    for column in data.columns:\n",
        "        print(column, \"=\", dtype(column))"
      ]
    },
    {
      "cell_type": "code",
      "execution_count": 24,
      "metadata": {
        "id": "w6luasx-lJYp"
      },
      "outputs": [
        {
          "data": {
            "text/html": [
              "<div>\n",
              "<style scoped>\n",
              "    .dataframe tbody tr th:only-of-type {\n",
              "        vertical-align: middle;\n",
              "    }\n",
              "\n",
              "    .dataframe tbody tr th {\n",
              "        vertical-align: top;\n",
              "    }\n",
              "\n",
              "    .dataframe thead th {\n",
              "        text-align: right;\n",
              "    }\n",
              "</style>\n",
              "<table border=\"1\" class=\"dataframe\">\n",
              "  <thead>\n",
              "    <tr style=\"text-align: right;\">\n",
              "      <th></th>\n",
              "      <th>pn_min_cpus</th>\n",
              "      <th>resize_time</th>\n",
              "      <th>ntasks_per_socket</th>\n",
              "      <th>tres_freq</th>\n",
              "      <th>comment</th>\n",
              "      <th>ntasks_per_socket_str</th>\n",
              "      <th>std_in</th>\n",
              "      <th>array_task_throttle</th>\n",
              "      <th>max_nodes</th>\n",
              "      <th>contiguous</th>\n",
              "      <th>...</th>\n",
              "      <th>cpus_allocated</th>\n",
              "      <th>billable_tres</th>\n",
              "      <th>last_sched_eval</th>\n",
              "      <th>eligible_time</th>\n",
              "      <th>power_flags</th>\n",
              "      <th>cores_per_socket</th>\n",
              "      <th>sockets_per_node</th>\n",
              "      <th>shared</th>\n",
              "      <th>cpus_per_task</th>\n",
              "      <th>req_nodes</th>\n",
              "    </tr>\n",
              "  </thead>\n",
              "  <tbody>\n",
              "    <tr>\n",
              "      <th>0</th>\n",
              "      <td>4</td>\n",
              "      <td>1970-01-01 01:00:00+00:00</td>\n",
              "      <td></td>\n",
              "      <td></td>\n",
              "      <td></td>\n",
              "      <td>UNLIMITED</td>\n",
              "      <td>/dev/null</td>\n",
              "      <td></td>\n",
              "      <td>0</td>\n",
              "      <td>False</td>\n",
              "      <td>...</td>\n",
              "      <td>{'r245n04': 4}</td>\n",
              "      <td>4.0</td>\n",
              "      <td>2020-05-22T01:07:00.000Z</td>\n",
              "      <td>2020-05-22 01:06:05+00:00</td>\n",
              "      <td>0</td>\n",
              "      <td></td>\n",
              "      <td></td>\n",
              "      <td>OK</td>\n",
              "      <td>4</td>\n",
              "      <td>['r245n04']</td>\n",
              "    </tr>\n",
              "    <tr>\n",
              "      <th>1</th>\n",
              "      <td>4</td>\n",
              "      <td>1970-01-01 01:00:00+00:00</td>\n",
              "      <td></td>\n",
              "      <td></td>\n",
              "      <td></td>\n",
              "      <td>UNLIMITED</td>\n",
              "      <td>/dev/null</td>\n",
              "      <td></td>\n",
              "      <td>0</td>\n",
              "      <td>False</td>\n",
              "      <td>...</td>\n",
              "      <td>{'r250n19': 4}</td>\n",
              "      <td>4.0</td>\n",
              "      <td>2020-05-22T01:07:00.000Z</td>\n",
              "      <td>2020-05-22 01:06:10+00:00</td>\n",
              "      <td>0</td>\n",
              "      <td></td>\n",
              "      <td></td>\n",
              "      <td>OK</td>\n",
              "      <td>4</td>\n",
              "      <td>['r250n19']</td>\n",
              "    </tr>\n",
              "    <tr>\n",
              "      <th>3</th>\n",
              "      <td>4</td>\n",
              "      <td>1970-01-01 01:00:00+00:00</td>\n",
              "      <td></td>\n",
              "      <td></td>\n",
              "      <td></td>\n",
              "      <td>UNLIMITED</td>\n",
              "      <td>/dev/null</td>\n",
              "      <td></td>\n",
              "      <td>0</td>\n",
              "      <td>False</td>\n",
              "      <td>...</td>\n",
              "      <td>{'r209n15': 4}</td>\n",
              "      <td>4.0</td>\n",
              "      <td>2020-05-22T20:39:06.000Z</td>\n",
              "      <td>2020-05-22 01:05:39+00:00</td>\n",
              "      <td>0</td>\n",
              "      <td></td>\n",
              "      <td></td>\n",
              "      <td>OK</td>\n",
              "      <td>4</td>\n",
              "      <td>['r209n15']</td>\n",
              "    </tr>\n",
              "    <tr>\n",
              "      <th>4</th>\n",
              "      <td>256</td>\n",
              "      <td>1970-01-01 01:00:00+00:00</td>\n",
              "      <td>2.0</td>\n",
              "      <td></td>\n",
              "      <td></td>\n",
              "      <td>2</td>\n",
              "      <td>/dev/null</td>\n",
              "      <td></td>\n",
              "      <td>1</td>\n",
              "      <td>False</td>\n",
              "      <td>...</td>\n",
              "      <td></td>\n",
              "      <td></td>\n",
              "      <td>2020-05-22T18:56:39.000Z</td>\n",
              "      <td>2020-05-22 18:56:39+00:00</td>\n",
              "      <td>0</td>\n",
              "      <td></td>\n",
              "      <td></td>\n",
              "      <td>OK</td>\n",
              "      <td>32</td>\n",
              "      <td></td>\n",
              "    </tr>\n",
              "    <tr>\n",
              "      <th>5</th>\n",
              "      <td>4</td>\n",
              "      <td>1970-01-01 01:00:00+00:00</td>\n",
              "      <td></td>\n",
              "      <td></td>\n",
              "      <td></td>\n",
              "      <td>UNLIMITED</td>\n",
              "      <td>/dev/null</td>\n",
              "      <td></td>\n",
              "      <td>0</td>\n",
              "      <td>False</td>\n",
              "      <td>...</td>\n",
              "      <td>{'r245n14': 4}</td>\n",
              "      <td>4.0</td>\n",
              "      <td>2020-05-22T01:07:00.000Z</td>\n",
              "      <td>2020-05-22 01:06:06+00:00</td>\n",
              "      <td>0</td>\n",
              "      <td></td>\n",
              "      <td></td>\n",
              "      <td>OK</td>\n",
              "      <td>4</td>\n",
              "      <td>['r245n14']</td>\n",
              "    </tr>\n",
              "  </tbody>\n",
              "</table>\n",
              "<p>5 rows × 100 columns</p>\n",
              "</div>"
            ],
            "text/plain": [
              "  pn_min_cpus                resize_time ntasks_per_socket tres_freq comment  \\\n",
              "0           4  1970-01-01 01:00:00+00:00                                       \n",
              "1           4  1970-01-01 01:00:00+00:00                                       \n",
              "3           4  1970-01-01 01:00:00+00:00                                       \n",
              "4         256  1970-01-01 01:00:00+00:00               2.0                     \n",
              "5           4  1970-01-01 01:00:00+00:00                                       \n",
              "\n",
              "  ntasks_per_socket_str     std_in array_task_throttle max_nodes contiguous  \\\n",
              "0             UNLIMITED  /dev/null                             0      False   \n",
              "1             UNLIMITED  /dev/null                             0      False   \n",
              "3             UNLIMITED  /dev/null                             0      False   \n",
              "4                     2  /dev/null                             1      False   \n",
              "5             UNLIMITED  /dev/null                             0      False   \n",
              "\n",
              "   ...  cpus_allocated billable_tres           last_sched_eval  \\\n",
              "0  ...  {'r245n04': 4}           4.0  2020-05-22T01:07:00.000Z   \n",
              "1  ...  {'r250n19': 4}           4.0  2020-05-22T01:07:00.000Z   \n",
              "3  ...  {'r209n15': 4}           4.0  2020-05-22T20:39:06.000Z   \n",
              "4  ...                                2020-05-22T18:56:39.000Z   \n",
              "5  ...  {'r245n14': 4}           4.0  2020-05-22T01:07:00.000Z   \n",
              "\n",
              "               eligible_time power_flags cores_per_socket sockets_per_node  \\\n",
              "0  2020-05-22 01:06:05+00:00           0                                     \n",
              "1  2020-05-22 01:06:10+00:00           0                                     \n",
              "3  2020-05-22 01:05:39+00:00           0                                     \n",
              "4  2020-05-22 18:56:39+00:00           0                                     \n",
              "5  2020-05-22 01:06:06+00:00           0                                     \n",
              "\n",
              "  shared cpus_per_task    req_nodes  \n",
              "0     OK             4  ['r245n04']  \n",
              "1     OK             4  ['r250n19']  \n",
              "3     OK             4  ['r209n15']  \n",
              "4     OK            32               \n",
              "5     OK             4  ['r245n14']  \n",
              "\n",
              "[5 rows x 100 columns]"
            ]
          },
          "metadata": {},
          "output_type": "display_data"
        },
        {
          "name": "stdout",
          "output_type": "stream",
          "text": [
            "1016530\n"
          ]
        }
      ],
      "source": [
        "data = pd.read_pickle(\"data/tmp.pkl\")\n",
        "data = data[(data.job_state != \"CANCELLED\") & (data.job_state != \"NODE_FAIL\")]\n",
        "display(data.head())\n",
        "print(len(data))"
      ]
    },
    {
      "cell_type": "code",
      "execution_count": 25,
      "metadata": {},
      "outputs": [
        {
          "data": {
            "text/plain": [
              "array(['None', 'BadConstraints', 'NonZeroExitCode', 'TimeLimit',\n",
              "       'JobLaunchFailure', 'OutOfMemory', 'Prolog', 'JobHeldUser'],\n",
              "      dtype=object)"
            ]
          },
          "execution_count": 25,
          "metadata": {},
          "output_type": "execute_result"
        }
      ],
      "source": [
        "data[\"state_reason\"].unique()"
      ]
    },
    {
      "cell_type": "code",
      "execution_count": 32,
      "metadata": {},
      "outputs": [
        {
          "data": {
            "text/plain": [
              "0          COMPLETED\n",
              "1          COMPLETED\n",
              "3          COMPLETED\n",
              "4             FAILED\n",
              "5          COMPLETED\n",
              "             ...    \n",
              "1074571    COMPLETED\n",
              "1074572    COMPLETED\n",
              "1074573       FAILED\n",
              "1074574    COMPLETED\n",
              "1074575    COMPLETED\n",
              "Name: job_state, Length: 1016530, dtype: category\n",
              "Categories (7, object): ['COMPLETED', 'CANCELLED', 'FAILED', 'TIMEOUT', 'OUT_OF_MEMORY', 'NODE_FAIL', 'PREEMPTED']"
            ]
          },
          "execution_count": 32,
          "metadata": {},
          "output_type": "execute_result"
        }
      ],
      "source": [
        "data[\"job_state\"]"
      ]
    },
    {
      "cell_type": "code",
      "execution_count": 30,
      "metadata": {},
      "outputs": [
        {
          "data": {
            "text/plain": [
              "0          0:0\n",
              "1          0:0\n",
              "3          0:0\n",
              "4          0:1\n",
              "5          0:0\n",
              "          ... \n",
              "1074571    0:0\n",
              "1074572    0:0\n",
              "1074573    1:0\n",
              "1074574    0:0\n",
              "1074575    0:0\n",
              "Name: exit_code, Length: 1016530, dtype: object"
            ]
          },
          "execution_count": 30,
          "metadata": {},
          "output_type": "execute_result"
        }
      ],
      "source": [
        "data[\"exit_code\"]"
      ]
    },
    {
      "cell_type": "code",
      "execution_count": 29,
      "metadata": {},
      "outputs": [
        {
          "data": {
            "text/plain": [
              "122118"
            ]
          },
          "execution_count": 29,
          "metadata": {},
          "output_type": "execute_result"
        }
      ],
      "source": [
        "sum(data[\"job_state\"].apply(lambda l: l!=\"COMPLETED\"))"
      ]
    },
    {
      "cell_type": "code",
      "execution_count": 19,
      "metadata": {},
      "outputs": [
        {
          "data": {
            "text/plain": [
              "0          COMPLETED\n",
              "1          COMPLETED\n",
              "2          CANCELLED\n",
              "3          COMPLETED\n",
              "4             FAILED\n",
              "             ...    \n",
              "1074571    COMPLETED\n",
              "1074572    COMPLETED\n",
              "1074573       FAILED\n",
              "1074574    COMPLETED\n",
              "1074575    COMPLETED\n",
              "Name: job_state, Length: 1074576, dtype: category\n",
              "Categories (7, object): ['COMPLETED', 'CANCELLED', 'FAILED', 'TIMEOUT', 'OUT_OF_MEMORY', 'NODE_FAIL', 'PREEMPTED']"
            ]
          },
          "execution_count": 19,
          "metadata": {},
          "output_type": "execute_result"
        }
      ],
      "source": [
        "data[\"job_state\"]"
      ]
    },
    {
      "cell_type": "code",
      "execution_count": 18,
      "metadata": {},
      "outputs": [
        {
          "data": {
            "text/plain": [
              "0           0:0\n",
              "1           0:0\n",
              "2          0:15\n",
              "3           0:0\n",
              "4           0:1\n",
              "           ... \n",
              "1074571     0:0\n",
              "1074572     0:0\n",
              "1074573     1:0\n",
              "1074574     0:0\n",
              "1074575     0:0\n",
              "Name: exit_code, Length: 1074576, dtype: object"
            ]
          },
          "execution_count": 18,
          "metadata": {},
          "output_type": "execute_result"
        }
      ],
      "source": [
        "data[\"exit_code\"]"
      ]
    },
    {
      "cell_type": "code",
      "execution_count": null,
      "metadata": {},
      "outputs": [],
      "source": []
    },
    {
      "cell_type": "code",
      "execution_count": 17,
      "metadata": {},
      "outputs": [
        {
          "name": "stdout",
          "output_type": "stream",
          "text": [
            "<class 'pandas.core.series.Series'>\n",
            "RangeIndex: 1074576 entries, 0 to 1074575\n",
            "Series name: exit_code\n",
            "Non-Null Count    Dtype \n",
            "--------------    ----- \n",
            "1074576 non-null  object\n",
            "dtypes: object(1)\n",
            "memory usage: 8.2+ MB\n"
          ]
        }
      ],
      "source": [
        "data[\"exit_code\"] = data[\"exit_code\"].replace(\"\", np.nan)\n",
        "data[\"exit_code\"].info()"
      ]
    },
    {
      "cell_type": "code",
      "execution_count": 4,
      "metadata": {},
      "outputs": [],
      "source": [
        "import re\n",
        "\n",
        "fields = [\"req_cpu\", \"req_mem\", \"req_node\", \"req_billing\", \"req_gpu\"]\n",
        "req_str = data.pop('tres_req_str')\n",
        "data[fields] = req_str.str.split(',', n=5, expand=True)\n",
        "for f in fields:\n",
        "    data[f] = data[f].apply(lambda c: re.sub(\"[a-zA-Z=/]\", \"\", c) if c is not None else 0)\n",
        "    \n",
        "data[fields] = data[fields].astype(float)"
      ]
    },
    {
      "cell_type": "markdown",
      "metadata": {
        "id": "zANd-4DLlJYr"
      },
      "source": [
        "There are 'category', 'datetime' and 'object' features"
      ]
    },
    {
      "cell_type": "code",
      "execution_count": 5,
      "metadata": {},
      "outputs": [],
      "source": [
        "for col in data.select_dtypes(\"datetime64[ns, UTC]\").columns:\n",
        "    data[col] = data[col].apply(lambda c: c.toordinal()).astype(int)"
      ]
    },
    {
      "cell_type": "code",
      "execution_count": 6,
      "metadata": {},
      "outputs": [],
      "source": [
        "for col in data.select_dtypes(exclude=[\"int64\", \"float64\"]).columns:\n",
        "    data[col] = data[col].astype(object)"
      ]
    },
    {
      "cell_type": "code",
      "execution_count": 7,
      "metadata": {},
      "outputs": [],
      "source": [
        "data =data.replace('', \"-1\")"
      ]
    },
    {
      "cell_type": "markdown",
      "metadata": {
        "id": "bawwL9R5lJYt"
      },
      "source": [
        "All elements inside colunms are strings"
      ]
    },
    {
      "cell_type": "markdown",
      "metadata": {
        "id": "YD3CCuO4lJYt"
      },
      "source": [
        "Deleting rows classified with usless class for this task"
      ]
    },
    {
      "cell_type": "code",
      "execution_count": 8,
      "metadata": {
        "id": "ovL0QfLWlJYu"
      },
      "outputs": [],
      "source": [
        "values = [\"OUT_OF_MEMORY\", \"COMPLETED\", \"FAILED\", \"TIMEOUT\"]\n",
        "data = data[data['job_state'].isin(values)]"
      ]
    },
    {
      "cell_type": "markdown",
      "metadata": {
        "id": "2qv0SdY0lJYu"
      },
      "source": [
        "Considering only two classes: completed job and others as failed.\n",
        "Then encode job exit state as numerical for binary classification task"
      ]
    },
    {
      "cell_type": "code",
      "execution_count": 9,
      "metadata": {
        "id": "YfrfCJLjlJYv"
      },
      "outputs": [
        {
          "name": "stdout",
          "output_type": "stream",
          "text": [
            "Old labels:  ['COMPLETED' 'FAILED' 'OUT_OF_MEMORY' 'TIMEOUT']\n"
          ]
        },
        {
          "name": "stderr",
          "output_type": "stream",
          "text": [
            "/tmp/ipykernel_12281/693157671.py:7: SettingWithCopyWarning: \n",
            "A value is trying to be set on a copy of a slice from a DataFrame\n",
            "\n",
            "See the caveats in the documentation: https://pandas.pydata.org/pandas-docs/stable/user_guide/indexing.html#returning-a-view-versus-a-copy\n",
            "  data[\"job_state\"][data[\"job_state\"] == \"TIMEOUT\"] = \"FAILED\"\n"
          ]
        },
        {
          "name": "stdout",
          "output_type": "stream",
          "text": [
            "New labels:  ['COMPLETED', 'FAILED']\n"
          ]
        }
      ],
      "source": [
        "# labels = data[\"job_state\"]\n",
        "# data = data.drop([\"job_state\"], axis=1)\n",
        "\n",
        "print(\"Old labels: \", np.unique(data[\"job_state\"]))\n",
        "\n",
        "data[\"job_state\"][data[\"job_state\"] == \"OUT_OF_MEMORY\"] = \"FAILED\"\n",
        "data[\"job_state\"][data[\"job_state\"] == \"TIMEOUT\"] = \"FAILED\"\n",
        "\n",
        "print(\"New labels: \", list(np.unique(data[\"job_state\"])))\n",
        "\n",
        "lab_enc = LabelEncoder()\n",
        "lab_enc.fit(data[\"job_state\"])\n",
        "unique_labels = lab_enc.classes_\n",
        "num_classes = len(unique_labels)\n",
        "\n",
        "data[\"job_state\"] = lab_enc.transform(data[\"job_state\"]).astype(float)"
      ]
    },
    {
      "cell_type": "code",
      "execution_count": 10,
      "metadata": {},
      "outputs": [
        {
          "data": {
            "text/html": [
              "<div>\n",
              "<style scoped>\n",
              "    .dataframe tbody tr th:only-of-type {\n",
              "        vertical-align: middle;\n",
              "    }\n",
              "\n",
              "    .dataframe tbody tr th {\n",
              "        vertical-align: top;\n",
              "    }\n",
              "\n",
              "    .dataframe thead th {\n",
              "        text-align: right;\n",
              "    }\n",
              "</style>\n",
              "<table border=\"1\" class=\"dataframe\">\n",
              "  <thead>\n",
              "    <tr style=\"text-align: right;\">\n",
              "      <th></th>\n",
              "      <th>pn_min_cpus</th>\n",
              "      <th>resize_time</th>\n",
              "      <th>ntasks_per_socket</th>\n",
              "      <th>tres_freq</th>\n",
              "      <th>comment</th>\n",
              "      <th>ntasks_per_socket_str</th>\n",
              "      <th>std_in</th>\n",
              "      <th>array_task_throttle</th>\n",
              "      <th>max_nodes</th>\n",
              "      <th>contiguous</th>\n",
              "      <th>...</th>\n",
              "      <th>cores_per_socket</th>\n",
              "      <th>sockets_per_node</th>\n",
              "      <th>shared</th>\n",
              "      <th>cpus_per_task</th>\n",
              "      <th>req_nodes</th>\n",
              "      <th>req_cpu</th>\n",
              "      <th>req_mem</th>\n",
              "      <th>req_node</th>\n",
              "      <th>req_billing</th>\n",
              "      <th>req_gpu</th>\n",
              "    </tr>\n",
              "  </thead>\n",
              "  <tbody>\n",
              "    <tr>\n",
              "      <th>0</th>\n",
              "      <td>4</td>\n",
              "      <td>1970-01-01 01:00:00+00:00</td>\n",
              "      <td>-1</td>\n",
              "      <td>-1</td>\n",
              "      <td>-1</td>\n",
              "      <td>UNLIMITED</td>\n",
              "      <td>/dev/null</td>\n",
              "      <td>-1</td>\n",
              "      <td>0</td>\n",
              "      <td>False</td>\n",
              "      <td>...</td>\n",
              "      <td>-1</td>\n",
              "      <td>-1</td>\n",
              "      <td>OK</td>\n",
              "      <td>4</td>\n",
              "      <td>['r245n04']</td>\n",
              "      <td>4.0</td>\n",
              "      <td>246000.0</td>\n",
              "      <td>1.0</td>\n",
              "      <td>4.0</td>\n",
              "      <td>0.0</td>\n",
              "    </tr>\n",
              "    <tr>\n",
              "      <th>1</th>\n",
              "      <td>4</td>\n",
              "      <td>1970-01-01 01:00:00+00:00</td>\n",
              "      <td>-1</td>\n",
              "      <td>-1</td>\n",
              "      <td>-1</td>\n",
              "      <td>UNLIMITED</td>\n",
              "      <td>/dev/null</td>\n",
              "      <td>-1</td>\n",
              "      <td>0</td>\n",
              "      <td>False</td>\n",
              "      <td>...</td>\n",
              "      <td>-1</td>\n",
              "      <td>-1</td>\n",
              "      <td>OK</td>\n",
              "      <td>4</td>\n",
              "      <td>['r250n19']</td>\n",
              "      <td>4.0</td>\n",
              "      <td>246000.0</td>\n",
              "      <td>1.0</td>\n",
              "      <td>4.0</td>\n",
              "      <td>0.0</td>\n",
              "    </tr>\n",
              "    <tr>\n",
              "      <th>3</th>\n",
              "      <td>4</td>\n",
              "      <td>1970-01-01 01:00:00+00:00</td>\n",
              "      <td>-1</td>\n",
              "      <td>-1</td>\n",
              "      <td>-1</td>\n",
              "      <td>UNLIMITED</td>\n",
              "      <td>/dev/null</td>\n",
              "      <td>-1</td>\n",
              "      <td>0</td>\n",
              "      <td>False</td>\n",
              "      <td>...</td>\n",
              "      <td>-1</td>\n",
              "      <td>-1</td>\n",
              "      <td>OK</td>\n",
              "      <td>4</td>\n",
              "      <td>['r209n15']</td>\n",
              "      <td>4.0</td>\n",
              "      <td>246000.0</td>\n",
              "      <td>1.0</td>\n",
              "      <td>4.0</td>\n",
              "      <td>0.0</td>\n",
              "    </tr>\n",
              "    <tr>\n",
              "      <th>4</th>\n",
              "      <td>256</td>\n",
              "      <td>1970-01-01 01:00:00+00:00</td>\n",
              "      <td>2.0</td>\n",
              "      <td>-1</td>\n",
              "      <td>-1</td>\n",
              "      <td>2</td>\n",
              "      <td>/dev/null</td>\n",
              "      <td>-1</td>\n",
              "      <td>1</td>\n",
              "      <td>False</td>\n",
              "      <td>...</td>\n",
              "      <td>-1</td>\n",
              "      <td>-1</td>\n",
              "      <td>OK</td>\n",
              "      <td>32</td>\n",
              "      <td>-1</td>\n",
              "      <td>256.0</td>\n",
              "      <td>230000.0</td>\n",
              "      <td>1.0</td>\n",
              "      <td>256.0</td>\n",
              "      <td>1.0</td>\n",
              "    </tr>\n",
              "    <tr>\n",
              "      <th>5</th>\n",
              "      <td>4</td>\n",
              "      <td>1970-01-01 01:00:00+00:00</td>\n",
              "      <td>-1</td>\n",
              "      <td>-1</td>\n",
              "      <td>-1</td>\n",
              "      <td>UNLIMITED</td>\n",
              "      <td>/dev/null</td>\n",
              "      <td>-1</td>\n",
              "      <td>0</td>\n",
              "      <td>False</td>\n",
              "      <td>...</td>\n",
              "      <td>-1</td>\n",
              "      <td>-1</td>\n",
              "      <td>OK</td>\n",
              "      <td>4</td>\n",
              "      <td>['r245n14']</td>\n",
              "      <td>4.0</td>\n",
              "      <td>246000.0</td>\n",
              "      <td>1.0</td>\n",
              "      <td>4.0</td>\n",
              "      <td>0.0</td>\n",
              "    </tr>\n",
              "  </tbody>\n",
              "</table>\n",
              "<p>5 rows × 104 columns</p>\n",
              "</div>"
            ],
            "text/plain": [
              "  pn_min_cpus                resize_time ntasks_per_socket tres_freq comment  \\\n",
              "0           4  1970-01-01 01:00:00+00:00                -1        -1      -1   \n",
              "1           4  1970-01-01 01:00:00+00:00                -1        -1      -1   \n",
              "3           4  1970-01-01 01:00:00+00:00                -1        -1      -1   \n",
              "4         256  1970-01-01 01:00:00+00:00               2.0        -1      -1   \n",
              "5           4  1970-01-01 01:00:00+00:00                -1        -1      -1   \n",
              "\n",
              "  ntasks_per_socket_str     std_in array_task_throttle max_nodes contiguous  \\\n",
              "0             UNLIMITED  /dev/null                  -1         0      False   \n",
              "1             UNLIMITED  /dev/null                  -1         0      False   \n",
              "3             UNLIMITED  /dev/null                  -1         0      False   \n",
              "4                     2  /dev/null                  -1         1      False   \n",
              "5             UNLIMITED  /dev/null                  -1         0      False   \n",
              "\n",
              "   ... cores_per_socket sockets_per_node shared cpus_per_task    req_nodes  \\\n",
              "0  ...               -1               -1     OK             4  ['r245n04']   \n",
              "1  ...               -1               -1     OK             4  ['r250n19']   \n",
              "3  ...               -1               -1     OK             4  ['r209n15']   \n",
              "4  ...               -1               -1     OK            32           -1   \n",
              "5  ...               -1               -1     OK             4  ['r245n14']   \n",
              "\n",
              "  req_cpu   req_mem req_node req_billing req_gpu  \n",
              "0     4.0  246000.0      1.0         4.0     0.0  \n",
              "1     4.0  246000.0      1.0         4.0     0.0  \n",
              "3     4.0  246000.0      1.0         4.0     0.0  \n",
              "4   256.0  230000.0      1.0       256.0     1.0  \n",
              "5     4.0  246000.0      1.0         4.0     0.0  \n",
              "\n",
              "[5 rows x 104 columns]"
            ]
          },
          "execution_count": 10,
          "metadata": {},
          "output_type": "execute_result"
        }
      ],
      "source": [
        "data.head()"
      ]
    },
    {
      "cell_type": "markdown",
      "metadata": {
        "id": "VAvi8MTIlJYw"
      },
      "source": [
        "Converting all columns to numerical"
      ]
    },
    {
      "cell_type": "code",
      "execution_count": 13,
      "metadata": {},
      "outputs": [
        {
          "name": "stderr",
          "output_type": "stream",
          "text": [
            "100%|██████████| 95/95 [03:44<00:00,  2.36s/it]\n"
          ]
        }
      ],
      "source": [
        "from tqdm import tqdm\n",
        "\n",
        "ord_enc = OrdinalEncoder(dtype=float)\n",
        "\n",
        "for col in tqdm(list(data.select_dtypes(exclude=[\"int64\", \"float64\"]).columns)):\n",
        "    if all(data[col].str.isnumeric()):\n",
        "        data[col] = data[col].astype(float)\n",
        "    else:\n",
        "        try:\n",
        "            data[col] = data[col].apply(pd.to_numeric)\n",
        "        except:\n",
        "            val = data[col].values.reshape(-1, 1)\n",
        "            data[col] = ord_enc.fit_transform(val)"
      ]
    },
    {
      "cell_type": "markdown",
      "metadata": {
        "id": "jGdWPmuIlJYz"
      },
      "source": [
        "Final Data"
      ]
    },
    {
      "cell_type": "code",
      "execution_count": 14,
      "metadata": {},
      "outputs": [
        {
          "ename": "RuntimeError",
          "evalue": "No active exception to reraise",
          "output_type": "error",
          "traceback": [
            "\u001b[0;31m---------------------------------------------------------------------------\u001b[0m",
            "\u001b[0;31mRuntimeError\u001b[0m                              Traceback (most recent call last)",
            "\u001b[1;32m/home/matteo/github/job_exit_state/data_analysis_RF.ipynb Cell 21\u001b[0m line \u001b[0;36m2\n\u001b[1;32m      <a href='vscode-notebook-cell:/home/matteo/github/job_exit_state/data_analysis_RF.ipynb#X31sZmlsZQ%3D%3D?line=0'>1</a>\u001b[0m data\u001b[39m.\u001b[39mto_pickle(\u001b[39m\"\u001b[39m\u001b[39mdata/kaggle.pkl\u001b[39m\u001b[39m\"\u001b[39m)\n\u001b[0;32m----> <a href='vscode-notebook-cell:/home/matteo/github/job_exit_state/data_analysis_RF.ipynb#X31sZmlsZQ%3D%3D?line=1'>2</a>\u001b[0m \u001b[39mraise\u001b[39;00m\n",
            "\u001b[0;31mRuntimeError\u001b[0m: No active exception to reraise"
          ]
        }
      ],
      "source": [
        "data.to_pickle(\"data/kaggle.pkl\")\n",
        "raise"
      ]
    },
    {
      "cell_type": "markdown",
      "metadata": {
        "id": "phpuTzpqlJY0"
      },
      "source": [
        "#### Random Forest Analysis"
      ]
    },
    {
      "cell_type": "markdown",
      "metadata": {
        "id": "tvSdfx_1lJY0"
      },
      "source": [
        "#### Train, validation and test split"
      ]
    },
    {
      "cell_type": "code",
      "execution_count": null,
      "metadata": {
        "id": "fdXpuMr8lJY1"
      },
      "outputs": [],
      "source": [
        "x_train, x_test, y_train, y_test = train_test_split(data, labels, train_size=0.7, random_state=seed)"
      ]
    },
    {
      "cell_type": "markdown",
      "metadata": {
        "id": "-pnR-YmzlJY1"
      },
      "source": [
        "#### RF consecutive"
      ]
    },
    {
      "cell_type": "code",
      "execution_count": null,
      "metadata": {
        "id": "34pL9TZHlJY1"
      },
      "outputs": [],
      "source": [
        "features_ranking = {}"
      ]
    },
    {
      "cell_type": "code",
      "execution_count": null,
      "metadata": {
        "id": "Y4ZClLEzlJY2"
      },
      "outputs": [],
      "source": [
        "def random_forest():\n",
        "    local_ranking = {}\n",
        "    rf = RandomForestClassifier(random_state=seed)\n",
        "    rf.fit(x_train, y_train)\n",
        "    y_pred = rf.predict(x_test)\n",
        "    precision, recall, f1, _ = precision_recall_fscore_support(\n",
        "        y_test, y_pred, average=\"binary\")\n",
        "    print(\"-------------------------------------------------------------------\")\n",
        "    print(f\"F1 on test set: {f1}\")\n",
        "    print(f\"Recall on test set: {recall}\")\n",
        "    print(f\"Precision on test set: {precision}\")\n",
        "    cm = confusion_matrix(y_test, y_pred)\n",
        "    ConfusionMatrixDisplay(confusion_matrix=cm).plot()\n",
        "    importances = pd.Series(rf.feature_importances_, index=x_train.columns)\n",
        "    importances.sort_values(ascending=True, inplace=True)\n",
        "    i = 0\n",
        "    for key in importances.index:\n",
        "      local_ranking.update({key : importances[i]})\n",
        "      i = i + 1\n",
        "    print(\"Local ranking: \", local_ranking)\n",
        "    print(\"-------------------------------------------------------------------\")\n",
        "    return local_ranking"
      ]
    },
    {
      "cell_type": "code",
      "execution_count": null,
      "metadata": {
        "id": "mGJrV19J1A8-"
      },
      "outputs": [
        {
          "name": "stderr",
          "output_type": "stream",
          "text": [
            "  0%|          | 0/1 [00:00<?, ?it/s]"
          ]
        },
        {
          "name": "stdout",
          "output_type": "stream",
          "text": [
            "Iteration number:  0\n",
            "-------------------------------------------------------------------\n",
            "F1 on test set: 0.8505086117211884\n",
            "Recall on test set: 0.8440690604565791\n",
            "Precision on test set: 0.8570471753057659\n"
          ]
        },
        {
          "name": "stderr",
          "output_type": "stream",
          "text": [
            "100%|██████████| 1/1 [01:36<00:00, 96.56s/it]"
          ]
        },
        {
          "name": "stdout",
          "output_type": "stream",
          "text": [
            "Local ranking:  {'group_id': 4.5731934844004935e-05, 'partition': 0.0015229155039559216, 'qos': 0.002253148625000886, 'cpus_per_task': 0.012308536834747514, 'req_node': 0.012762098605620815, 'req_billing': 0.02174440981528501, 'num_tasks': 0.023903451941540463, 'req_gpu': 0.02466039972331462, 'req_cpu': 0.026968892653150067, 'req_mem': 0.038615774498582355, 'time_limit': 0.06570907989572677, 'user_id': 0.08619239853528947, 'name': 0.11748273940689283, 'submit_time': 0.12479366171049187, 'priority': 0.19961353518619623, 'command': 0.24142322512936115}\n",
            "-------------------------------------------------------------------\n"
          ]
        },
        {
          "name": "stderr",
          "output_type": "stream",
          "text": [
            "\n"
          ]
        },
        {
          "data": {
            "image/png": "[encoded data removed]",
            "text/plain": [
              "<Figure size 640x480 with 2 Axes>"
            ]
          },
          "metadata": {},
          "output_type": "display_data"
        }
      ],
      "source": [
        "for i in tqdm(range(0,1)):\n",
        "  print(\"Iteration number: \", i)\n",
        "  local_ranking = random_forest()\n",
        "  column_to_drop = list(local_ranking.keys())[0]\n",
        "  features_ranking.update({(99-i) : column_to_drop})\n",
        "  x_train.drop(column_to_drop, axis='columns', inplace=True)\n",
        "  x_test.drop(column_to_drop, axis='columns', inplace=True)"
      ]
    }
  ],
  "metadata": {
    "accelerator": "GPU",
    "colab": {
      "gpuType": "T4",
      "provenance": []
    },
    "kernelspec": {
      "display_name": "Python 3",
      "name": "python3"
    },
    "language_info": {
      "codemirror_mode": {
        "name": "ipython",
        "version": 3
      },
      "file_extension": ".py",
      "mimetype": "text/x-python",
      "name": "python",
      "nbconvert_exporter": "python",
      "pygments_lexer": "ipython3",
      "version": "3.11.4"
    },
    "orig_nbformat": 4
  },
  "nbformat": 4,
  "nbformat_minor": 0
}
