{
 "cells": [
  {
   "cell_type": "code",
   "execution_count": null,
   "metadata": {},
   "outputs": [],
   "source": [
    "import numpy as np\n",
    "\n",
    "import pandas as pd\n",
    "import matplotlib.pyplot as plt\n",
    "\n",
    "#pd.set_option('display.max_columns', None)  "
   ]
  },
  {
   "cell_type": "code",
   "execution_count": null,
   "metadata": {},
   "outputs": [],
   "source": [
    "# defining sets of data\n",
    "df = pd.read_parquet(\"data/job_table.parquet\")\n",
    "\n",
    "tmp = df[[\"name\", \"command\", \"user_id\", \"ntasks_per_socket\", \"time_limit\", \"group_id\", \"account\", \"partition\", \"dependency\", \"qos\", \"req_nodes\"]]\n",
    "\n",
    "label = df[\"job_state\"]\n",
    "\n",
    "failed = df[df[\"job_state\"]== \"FAILED\"]\n",
    "\n",
    "completed = df[df[\"job_state\"] == \"COMPLETED\"]"
   ]
  },
  {
   "cell_type": "code",
   "execution_count": null,
   "metadata": {},
   "outputs": [],
   "source": [
    "df.head()"
   ]
  },
  {
   "cell_type": "code",
   "execution_count": null,
   "metadata": {},
   "outputs": [],
   "source": [
    "print(f\"Number of features: {len(df.columns)}\")"
   ]
  },
  {
   "cell_type": "code",
   "execution_count": null,
   "metadata": {},
   "outputs": [],
   "source": [
    "print(\"Features name:\")\n",
    "for col in df.columns:\n",
    "    print(f\"- {col}\")"
   ]
  },
  {
   "cell_type": "code",
   "execution_count": null,
   "metadata": {},
   "outputs": [],
   "source": [
    "print(set(completed[\"pn_min_cpus\"].unique()) - set(failed[\"pn_min_cpus\"].unique()))"
   ]
  },
  {
   "cell_type": "code",
   "execution_count": null,
   "metadata": {},
   "outputs": [],
   "source": [
    "# Inspecting unique values for each column\n",
    "for col in df.columns:\n",
    "    df_values = df[col].unique()\n",
    "    completed_values = completed[col].unique()\n",
    "    failed_values = failed[col].unique()\n",
    "    print(f\"------------------- column = {col} -----------------\")\n",
    "    print(f\"In df there are this values: {df_values} \\n\")\n",
    "    print(f\"In completed there are this values: {completed_values} \\n\")\n",
    "    print(f\"In failed there are this values: {failed_values} \\n\")\n",
    "    print(f\"Present in compl but not in failed: {set(completed_values) - set(failed_values)}\")     \n",
    "    print(f\"Present in failed but not in compl: {set(failed_values) - set(completed_values)}\")\n",
    "    print(\"----------------------------------------------------\")\n"
   ]
  },
  {
   "cell_type": "code",
   "execution_count": null,
   "metadata": {},
   "outputs": [],
   "source": [
    "tmp.head()"
   ]
  },
  {
   "cell_type": "code",
   "execution_count": null,
   "metadata": {},
   "outputs": [],
   "source": [
    "print(label.unique())\n",
    "print(\"\")\n",
    "print(label.describe())"
   ]
  },
  {
   "cell_type": "code",
   "execution_count": null,
   "metadata": {},
   "outputs": [],
   "source": [
    "completed.head()"
   ]
  },
  {
   "attachments": {},
   "cell_type": "markdown",
   "metadata": {},
   "source": [
    "### Inspection of failed job"
   ]
  },
  {
   "cell_type": "code",
   "execution_count": null,
   "metadata": {},
   "outputs": [],
   "source": [
    "failed.head()"
   ]
  },
  {
   "cell_type": "code",
   "execution_count": null,
   "metadata": {},
   "outputs": [],
   "source": [
    "# Inspection of Nan in failed job\n",
    "for col in failed.columns:\n",
    "    print(f\"Column -{col}- has {failed[col].isna().sum()} Nan values\")\n"
   ]
  },
  {
   "attachments": {},
   "cell_type": "markdown",
   "metadata": {},
   "source": [
    "There are no nan values in failed job"
   ]
  },
  {
   "attachments": {},
   "cell_type": "markdown",
   "metadata": {},
   "source": [
    "### Inspection of completed job"
   ]
  },
  {
   "cell_type": "code",
   "execution_count": null,
   "metadata": {},
   "outputs": [],
   "source": [
    "# Inspection of Nan in completed job\n",
    "for col in completed.columns:\n",
    "    print(f\"Column -{col}- has {failed[col].isna().sum()} Nan values\")\n"
   ]
  }
 ],
 "metadata": {
  "kernelspec": {
   "display_name": "venv",
   "language": "python",
   "name": "python3"
  },
  "language_info": {
   "codemirror_mode": {
    "name": "ipython",
    "version": 3
   },
   "file_extension": ".py",
   "mimetype": "text/x-python",
   "name": "python",
   "nbconvert_exporter": "python",
   "pygments_lexer": "ipython3",
   "version": "3.10.10"
  },
  "orig_nbformat": 4
 },
 "nbformat": 4,
 "nbformat_minor": 2
}
