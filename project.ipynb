{
 "cells": [
  {
   "cell_type": "code",
   "execution_count": 1,
   "metadata": {},
   "outputs": [],
   "source": [
    "%load_ext autoreload\n",
    "%autoreload 2"
   ]
  },
  {
   "cell_type": "code",
   "execution_count": 2,
   "metadata": {},
   "outputs": [
    {
     "name": "stderr",
     "output_type": "stream",
     "text": [
      "2023-05-24 22:42:12.692750: I tensorflow/core/platform/cpu_feature_guard.cc:182] This TensorFlow binary is optimized to use available CPU instructions in performance-critical operations.\n",
      "To enable the following instructions: AVX2 FMA, in other operations, rebuild TensorFlow with the appropriate compiler flags.\n",
      "2023-05-24 22:42:13.426804: W tensorflow/compiler/tf2tensorrt/utils/py_utils.cc:38] TF-TRT Warning: Could not find TensorRT\n",
      "2023-05-24 22:42:14.085665: I tensorflow/compiler/xla/stream_executor/cuda/cuda_gpu_executor.cc:996] successful NUMA node read from SysFS had negative value (-1), but there must be at least one NUMA node, so returning NUMA node zero. See more at https://github.com/torvalds/linux/blob/v6.0/Documentation/ABI/testing/sysfs-bus-pci#L344-L355\n",
      "2023-05-24 22:42:14.108463: I tensorflow/compiler/xla/stream_executor/cuda/cuda_gpu_executor.cc:996] successful NUMA node read from SysFS had negative value (-1), but there must be at least one NUMA node, so returning NUMA node zero. See more at https://github.com/torvalds/linux/blob/v6.0/Documentation/ABI/testing/sysfs-bus-pci#L344-L355\n",
      "2023-05-24 22:42:14.108670: I tensorflow/compiler/xla/stream_executor/cuda/cuda_gpu_executor.cc:996] successful NUMA node read from SysFS had negative value (-1), but there must be at least one NUMA node, so returning NUMA node zero. See more at https://github.com/torvalds/linux/blob/v6.0/Documentation/ABI/testing/sysfs-bus-pci#L344-L355\n"
     ]
    }
   ],
   "source": [
    "import os, random\n",
    "import numpy as np\n",
    "import pandas as pd\n",
    "import seaborn as sns\n",
    "import matplotlib.pyplot as plt\n",
    "from tqdm.notebook import tqdm\n",
    "\n",
    "from sklearn.preprocessing import OrdinalEncoder, LabelEncoder\n",
    "from sklearn.model_selection import RandomizedSearchCV, train_test_split\n",
    "from sklearn.ensemble import RandomForestClassifier\n",
    "from sklearn.metrics import f1_score, confusion_matrix, ConfusionMatrixDisplay\n",
    "from sklearn.utils import class_weight\n",
    "\n",
    "import tensorflow as tf\n",
    "from tensorflow import keras\n",
    "from keras.utils.np_utils import to_categorical\n",
    "from keras.utils import Progbar\n",
    "\n",
    "from util import *\n",
    "\n",
    "seed = 42\n",
    "plt.rc('font', size=8)\n",
    "plt.rc('axes', titlesize=8)\n",
    "gpus = tf.config.experimental.list_physical_devices('GPU')\n",
    "for gpu in gpus:\n",
    "    tf.config.experimental.set_memory_growth(gpu, True)"
   ]
  },
  {
   "cell_type": "code",
   "execution_count": 3,
   "metadata": {},
   "outputs": [],
   "source": [
    "def seed_everything(seed: int = 42):\n",
    "    random.seed(seed)\n",
    "    np.random.seed(seed)\n",
    "    tf.random.set_seed(seed)\n",
    "    tf.keras.utils.set_random_seed(seed)\n",
    "    tf.config.experimental.enable_op_determinism()\n",
    "\n",
    "seed_everything(seed)"
   ]
  },
  {
   "attachments": {},
   "cell_type": "markdown",
   "metadata": {},
   "source": [
    "## Extracting relevant features"
   ]
  },
  {
   "attachments": {},
   "cell_type": "markdown",
   "metadata": {},
   "source": [
    "Since, the dataset contains a lot of information we decided to use only u smal subset of features"
   ]
  },
  {
   "cell_type": "code",
   "execution_count": null,
   "metadata": {},
   "outputs": [],
   "source": [
    "data = pd.read_parquet(\"data/job_table.parquet\")\n",
    "print(f\"Number of features: {len(data.columns)}\")"
   ]
  },
  {
   "cell_type": "code",
   "execution_count": null,
   "metadata": {},
   "outputs": [],
   "source": [
    "# defining sets of data\n",
    "columns = [\"submit_time\", \"user_id\", \"group_id\", \"name\", \"command\", \"partition\", \"cpus_per_task\",\n",
    "           \"num_cpus\", \"num_nodes\", \"num_tasks\", \"priority\", \"qos\", \"req_nodes\", \"time_limit\",\n",
    "           \"tres_req_str\", \"year_month\", \"cpus_per_tres\", \"dependency\", \"ntasks_per_socket\", \"job_state\"]\n",
    "df = data[columns]\n",
    "df = df[df.tres_req_str != \"\"]\n",
    "df = df[(df.job_state != \"CANCELLED\") & (df.job_state != \"NODE_FAIL\")]\n",
    "df.reset_index(drop=True, inplace=True)\n",
    "df"
   ]
  },
  {
   "cell_type": "code",
   "execution_count": null,
   "metadata": {},
   "outputs": [],
   "source": [
    "df.describe()"
   ]
  },
  {
   "attachments": {},
   "cell_type": "markdown",
   "metadata": {},
   "source": [
    "## Data selection"
   ]
  },
  {
   "attachments": {},
   "cell_type": "markdown",
   "metadata": {},
   "source": [
    "As first thing, try to understand how many missing values we had in the dataset"
   ]
  },
  {
   "cell_type": "code",
   "execution_count": null,
   "metadata": {},
   "outputs": [],
   "source": [
    "df = df.replace('', np.nan)\n",
    "print(df.isna().sum(axis=0))\n",
    "prev_len = len(df)\n",
    "print(f\"Num of rows: {len(df)}\")"
   ]
  },
  {
   "attachments": {},
   "cell_type": "markdown",
   "metadata": {},
   "source": [
    "As you can see *req_nodes*, *cpus_per_tres*, *dependency*, *ntasks_per_socket* are mostly NaN in this subset, so re drop that columns for the moment. For the other columns, as first thing let's remove all the rows that contains at least one NaN."
   ]
  },
  {
   "cell_type": "code",
   "execution_count": null,
   "metadata": {},
   "outputs": [],
   "source": [
    "df = df.drop([\"req_nodes\", \"cpus_per_tres\", \"dependency\", \"ntasks_per_socket\"], axis=1)\n",
    "df = df.dropna().reset_index(drop=True)\n",
    "print(df.isna().sum(axis=0))\n",
    "print(f\"Num of rows: {len(df)}\")\n",
    "print(f\"Dropped rows: {prev_len - len(df)} ({(1-(len(df)/prev_len))*100:.1f} %)\")"
   ]
  },
  {
   "attachments": {},
   "cell_type": "markdown",
   "metadata": {},
   "source": [
    "Set time zone to None"
   ]
  },
  {
   "cell_type": "code",
   "execution_count": null,
   "metadata": {},
   "outputs": [],
   "source": [
    "df[\"submit_time\"] = df[\"submit_time\"].dt.tz_localize(None)"
   ]
  },
  {
   "attachments": {},
   "cell_type": "markdown",
   "metadata": {},
   "source": [
    "Save as pickle for more efficent usage"
   ]
  },
  {
   "cell_type": "code",
   "execution_count": null,
   "metadata": {},
   "outputs": [],
   "source": [
    "df.to_pickle(\"data/job_table_reduced.pkl\")"
   ]
  },
  {
   "attachments": {},
   "cell_type": "markdown",
   "metadata": {},
   "source": [
    "## Data fixing"
   ]
  },
  {
   "cell_type": "code",
   "execution_count": null,
   "metadata": {},
   "outputs": [],
   "source": [
    "df =pd.read_pickle(\"data/job_table_reduced.pkl\")\n",
    "df[\"job_state\"] = df[\"job_state\"].astype(object)\n",
    "df.head()"
   ]
  },
  {
   "attachments": {},
   "cell_type": "markdown",
   "metadata": {},
   "source": [
    "Let's inspect how data are"
   ]
  },
  {
   "cell_type": "code",
   "execution_count": null,
   "metadata": {},
   "outputs": [],
   "source": [
    "df.dtypes"
   ]
  },
  {
   "attachments": {},
   "cell_type": "markdown",
   "metadata": {},
   "source": [
    "As you can see, a lot of data are string and these are difficult to use. So, try to convert it into better format\n",
    "\n",
    "Start with those data types that are category"
   ]
  },
  {
   "cell_type": "code",
   "execution_count": null,
   "metadata": {},
   "outputs": [],
   "source": [
    "cat_columns = df.select_dtypes([\"category\"]).columns\n",
    "ord_enc =  OrdinalEncoder(dtype=np.int64)\n",
    "for col in cat_columns:\n",
    "    val = df[col].values.reshape(-1, 1)\n",
    "    df[col] = ord_enc.fit_transform(val)\n",
    "print(f\"Categorical columns transformed: {cat_columns.values}\")\n",
    "print()\n",
    "print(df.dtypes)"
   ]
  },
  {
   "cell_type": "code",
   "execution_count": null,
   "metadata": {},
   "outputs": [],
   "source": [
    "df.head()"
   ]
  },
  {
   "attachments": {},
   "cell_type": "markdown",
   "metadata": {},
   "source": [
    "Now categorical data are in right format, move to integer columns."
   ]
  },
  {
   "cell_type": "code",
   "execution_count": null,
   "metadata": {},
   "outputs": [],
   "source": [
    "int_columns = [\"user_id\", \"group_id\", \"cpus_per_task\", \"num_cpus\", \"num_nodes\", \"num_tasks\", \"priority\", \"time_limit\"]\n",
    "for col in int_columns:\n",
    "    print(f\"Check if all {col} are number: {all([item.isdigit() for item in df[col].unique()])}\")\n",
    "\n",
    "df[int_columns] = df[int_columns].apply(pd.to_numeric)\n",
    "print()\n",
    "print(df.dtypes)"
   ]
  },
  {
   "attachments": {},
   "cell_type": "markdown",
   "metadata": {},
   "source": [
    "for the moment ignore allocated value"
   ]
  },
  {
   "cell_type": "code",
   "execution_count": null,
   "metadata": {},
   "outputs": [],
   "source": [
    "df = df.drop([\"num_cpus\", \"num_nodes\"], axis=1)"
   ]
  },
  {
   "cell_type": "code",
   "execution_count": null,
   "metadata": {},
   "outputs": [],
   "source": [
    "df.head()"
   ]
  },
  {
   "attachments": {},
   "cell_type": "markdown",
   "metadata": {},
   "source": [
    "Now, it's time for *name* and *command*, we will try different approach for these two columns. Now, start with the basic one and use and Integer Encodig."
   ]
  },
  {
   "cell_type": "code",
   "execution_count": null,
   "metadata": {},
   "outputs": [],
   "source": [
    "string_columns = [\"name\", \"command\"]\n",
    "ord_enc =  OrdinalEncoder(dtype=np.int64)\n",
    "for col in string_columns:\n",
    "    val = df[col].values.reshape(-1, 1)\n",
    "    df[col] = ord_enc.fit_transform(val)\n",
    "print(df.dtypes)"
   ]
  },
  {
   "attachments": {},
   "cell_type": "markdown",
   "metadata": {},
   "source": [
    "Now, for the *tres_req_str* we decide to split this column into 5 different columns"
   ]
  },
  {
   "cell_type": "code",
   "execution_count": null,
   "metadata": {},
   "outputs": [],
   "source": [
    "# key = list(set([elem.split(\"=\")[0] for row in df['tres_req_str'] for elem in row.split(\",\")]))\n",
    "key = ['req_cpu', 'req_mem', 'req_node', 'req_billing', 'req_gres/gpu']\n",
    "df[\"tres_req_str\"] = df[\"tres_req_str\"].apply(lambda row: \",\".join([v.split(\"=\")[1] for v in row.split(\",\")]))\n",
    "df[key] =  df['tres_req_str'].str.split(\",\", expand=True)\n",
    "df['req_mem'] = df['req_mem'].str.extract('(\\d+)')\n",
    "df = df.drop([\"tres_req_str\"], axis=1)\n",
    "df[key] = df[key].fillna(0)\n",
    "df[key] = df[key].astype(np.int64)"
   ]
  },
  {
   "cell_type": "code",
   "execution_count": null,
   "metadata": {},
   "outputs": [],
   "source": [
    "df"
   ]
  },
  {
   "cell_type": "code",
   "execution_count": null,
   "metadata": {},
   "outputs": [],
   "source": [
    "df.dtypes"
   ]
  },
  {
   "attachments": {},
   "cell_type": "markdown",
   "metadata": {},
   "source": [
    "## Data Anlaysis"
   ]
  },
  {
   "cell_type": "code",
   "execution_count": null,
   "metadata": {},
   "outputs": [],
   "source": [
    "df = pd.read_pickle(\"data/job_table_r_preproc.pkl\")\n",
    "df.head()"
   ]
  },
  {
   "cell_type": "code",
   "execution_count": null,
   "metadata": {},
   "outputs": [],
   "source": [
    "df.describe()"
   ]
  },
  {
   "cell_type": "code",
   "execution_count": null,
   "metadata": {},
   "outputs": [],
   "source": [
    "sns.countplot(x=df[\"job_state\"])\n",
    "print(df.job_state.value_counts(normalize=True))"
   ]
  },
  {
   "cell_type": "code",
   "execution_count": null,
   "metadata": {},
   "outputs": [],
   "source": [
    "cols = df.select_dtypes(include=\"int64\").columns\n",
    "fig, axs = plt.subplots(4, 4, figsize=(17, 13))\n",
    "i, j = 0, 0\n",
    "for col in cols:\n",
    "    axs[i, j].hist(df[col])\n",
    "    axs[i, j].set_title(col, fontweight=\"bold\")\n",
    "    j+=1\n",
    "    if j%4 == 0:\n",
    "        j = 0\n",
    "        i +=1"
   ]
  },
  {
   "cell_type": "code",
   "execution_count": null,
   "metadata": {},
   "outputs": [],
   "source": [
    "d = df.copy()\n",
    "le = LabelEncoder()\n",
    "d[\"job_state\"] = le.fit_transform(d[\"job_state\"])\n",
    "sns.heatmap(d.corr())"
   ]
  },
  {
   "attachments": {},
   "cell_type": "markdown",
   "metadata": {},
   "source": [
    "## Exit state prediction"
   ]
  },
  {
   "cell_type": "code",
   "execution_count": 4,
   "metadata": {},
   "outputs": [
    {
     "name": "stdout",
     "output_type": "stream",
     "text": [
      "Loading data... Lodaded!\n"
     ]
    }
   ],
   "source": [
    "def get_data(path):\n",
    "    df = pd.read_pickle(\"data/job_table_r_preproc.pkl\")\n",
    "    labels = df[\"job_state\"]\n",
    "    df = df.drop([\"job_state\", \"submit_time\"], axis=1)\n",
    "    return df.to_numpy(), labels.to_numpy()\n",
    "\n",
    "print(\"Loading data... \", end=\"\")\n",
    "data, labels = get_data(\"data/job_table_r_preproc.pkl\")\n",
    "print(\"Lodaded!\")"
   ]
  },
  {
   "attachments": {},
   "cell_type": "markdown",
   "metadata": {},
   "source": [
    "### Using a NN"
   ]
  },
  {
   "attachments": {},
   "cell_type": "markdown",
   "metadata": {},
   "source": [
    "As first attempt we only consider 2 classes:\n",
    " - **0**: for completed job\n",
    " - **1**: for those failed\n",
    " \n",
    "To do so, we firstly convert other failure classes into **FAILED**."
   ]
  },
  {
   "cell_type": "code",
   "execution_count": 5,
   "metadata": {},
   "outputs": [
    {
     "name": "stdout",
     "output_type": "stream",
     "text": [
      "['COMPLETED' 'FAILED' 'OUT_OF_MEMORY' 'TIMEOUT']\n",
      "['COMPLETED', 'FAILED']\n"
     ]
    }
   ],
   "source": [
    "print(np.unique(labels))\n",
    "\n",
    "labels[labels == \"OUT_OF_MEMORY\"] = \"FAILED\"\n",
    "labels[labels == \"TIMEOUT\"] = \"FAILED\"\n",
    "\n",
    "print(list(np.unique(labels)))"
   ]
  },
  {
   "attachments": {},
   "cell_type": "markdown",
   "metadata": {},
   "source": [
    "Encode labels"
   ]
  },
  {
   "cell_type": "code",
   "execution_count": 6,
   "metadata": {},
   "outputs": [],
   "source": [
    "def labels_encoding(labels, unique_labels):\n",
    "    new_labels = []\n",
    "    for label in labels:\n",
    "        new_labels.append(unique_labels.index(label))\n",
    "    return new_labels"
   ]
  },
  {
   "cell_type": "code",
   "execution_count": 7,
   "metadata": {},
   "outputs": [
    {
     "name": "stdout",
     "output_type": "stream",
     "text": [
      "Old values: ['COMPLETED' 'COMPLETED' 'COMPLETED' 'FAILED' 'COMPLETED']\n",
      "New values: [0, 0, 0, 1, 0]\n"
     ]
    }
   ],
   "source": [
    "unique_labels = list(np.unique(labels))\n",
    "num_classes = len(unique_labels)\n",
    "\n",
    "print(f\"Old values: {labels[:5]}\")\n",
    "labels = labels_encoding(labels, unique_labels)\n",
    "print(f\"New values: {labels[:5]}\")"
   ]
  },
  {
   "attachments": {},
   "cell_type": "markdown",
   "metadata": {},
   "source": [
    "Split the data into train, validation and test sets and normalize using only train information"
   ]
  },
  {
   "cell_type": "code",
   "execution_count": 8,
   "metadata": {},
   "outputs": [
    {
     "name": "stdout",
     "output_type": "stream",
     "text": [
      "train data shape: (546095, 16)\n",
      "val data shape: (136524, 16)\n",
      "test data shape: (292551, 16)\n",
      "train labels shape: 546095\n",
      "val labels shape: 136524\n",
      "test labels shape: 292551\n"
     ]
    }
   ],
   "source": [
    "x_train, x_test, y_train, y_test = train_test_split(data, labels, train_size=0.7, random_state=seed)\n",
    "x_train, x_val, y_train, y_val = train_test_split(x_train, y_train, train_size=0.8, random_state=seed)\n",
    "\n",
    "x_train_mean = x_train.mean()\n",
    "x_train_std = x_train.std()\n",
    "\n",
    "x_train = (x_train - x_train_mean) / x_train_std\n",
    "x_val = (x_val - x_train_mean) / x_train_std\n",
    "x_test = (x_test - x_train_mean) / x_train_std\n",
    "\n",
    "y_train = np.asarray(y_train, dtype=np.float32)\n",
    "y_val = np.asarray(y_val, dtype=np.float32)\n",
    "y_test = np.asarray(y_test, dtype=np.float32)\n",
    "\n",
    "print(f\"train data shape: {x_train.shape}\")\n",
    "print(f\"val data shape: {x_val.shape}\")\n",
    "print(f\"test data shape: {x_test.shape}\")\n",
    "print(f\"train labels shape: {len(y_train)}\")\n",
    "print(f\"val labels shape: {len(y_val)}\")\n",
    "print(f\"test labels shape: {len(y_test)}\")"
   ]
  },
  {
   "attachments": {},
   "cell_type": "markdown",
   "metadata": {},
   "source": [
    "#### Work Stuff"
   ]
  },
  {
   "attachments": {},
   "cell_type": "markdown",
   "metadata": {},
   "source": [
    "Build the model"
   ]
  },
  {
   "cell_type": "code",
   "execution_count": 21,
   "metadata": {},
   "outputs": [],
   "source": [
    "def build_model(input_shape, output_shape, hiddens):\n",
    "    model_in = keras.Input(shape=input_shape)\n",
    "    x = model_in\n",
    "    for h in hiddens:\n",
    "        x = keras.layers.Dense(h, activation='relu')(x)\n",
    "    x = keras.layers.Dropout(0.3)(x)\n",
    "    model_out = keras.layers.Dense(output_shape, activation=\"sigmoid\")(x)\n",
    "    model = keras.Model(model_in, model_out)\n",
    "    return model"
   ]
  },
  {
   "cell_type": "code",
   "execution_count": 22,
   "metadata": {},
   "outputs": [
    {
     "name": "stdout",
     "output_type": "stream",
     "text": [
      "Model: \"model\"\n",
      "_________________________________________________________________\n",
      " Layer (type)                Output Shape              Param #   \n",
      "=================================================================\n",
      " input_1 (InputLayer)        [(None, None, 16)]        0         \n",
      "                                                                 \n",
      " dense_3 (Dense)             (None, None, 128)         2176      \n",
      "                                                                 \n",
      " dense_4 (Dense)             (None, None, 128)         16512     \n",
      "                                                                 \n",
      " dropout_1 (Dropout)         (None, None, 128)         0         \n",
      "                                                                 \n",
      " dense_5 (Dense)             (None, None, 1)           129       \n",
      "                                                                 \n",
      "=================================================================\n",
      "Total params: 18,817\n",
      "Trainable params: 18,817\n",
      "Non-trainable params: 0\n",
      "_________________________________________________________________\n"
     ]
    }
   ],
   "source": [
    "model = build_model((None, x_train.shape[1], ), 1, hiddens=[128, 128])\n",
    "model.compile(loss=\"binary_crossentropy\",\n",
    "              optimizer=keras.optimizers.Adam(), \n",
    "              metrics=[\"accuracy\"])\n",
    "model.summary()"
   ]
  },
  {
   "cell_type": "code",
   "execution_count": 23,
   "metadata": {},
   "outputs": [
    {
     "name": "stdout",
     "output_type": "stream",
     "text": [
      "Epoch 1/50\n"
     ]
    },
    {
     "name": "stderr",
     "output_type": "stream",
     "text": [
      "2023-05-24 22:23:11.898362: I tensorflow/core/common_runtime/executor.cc:1197] [/device:CPU:0] (DEBUG INFO) Executor start aborting (this does not indicate an error and you can ignore this message): INVALID_ARGUMENT: You must feed a value for placeholder tensor 'Placeholder/_11' with dtype float and shape [436876]\n",
      "\t [[{{node Placeholder/_11}}]]\n",
      "2023-05-24 22:23:11.898686: I tensorflow/core/common_runtime/executor.cc:1197] [/device:CPU:0] (DEBUG INFO) Executor start aborting (this does not indicate an error and you can ignore this message): INVALID_ARGUMENT: You must feed a value for placeholder tensor 'Placeholder/_11' with dtype float and shape [436876]\n",
      "\t [[{{node Placeholder/_11}}]]\n"
     ]
    },
    {
     "name": "stdout",
     "output_type": "stream",
     "text": [
      "1696/1707 [============================>.] - ETA: 0s - loss: 0.2915 - accuracy: 0.8819"
     ]
    },
    {
     "name": "stderr",
     "output_type": "stream",
     "text": [
      "2023-05-24 22:23:18.196923: I tensorflow/core/common_runtime/executor.cc:1197] [/device:CPU:0] (DEBUG INFO) Executor start aborting (this does not indicate an error and you can ignore this message): INVALID_ARGUMENT: You must feed a value for placeholder tensor 'Placeholder/_11' with dtype float and shape [109219]\n",
      "\t [[{{node Placeholder/_11}}]]\n",
      "2023-05-24 22:23:18.197200: I tensorflow/core/common_runtime/executor.cc:1197] [/device:CPU:0] (DEBUG INFO) Executor start aborting (this does not indicate an error and you can ignore this message): INVALID_ARGUMENT: You must feed a value for placeholder tensor 'Placeholder/_11' with dtype float and shape [109219]\n",
      "\t [[{{node Placeholder/_11}}]]\n"
     ]
    },
    {
     "name": "stdout",
     "output_type": "stream",
     "text": [
      "1707/1707 [==============================] - 7s 3ms/step - loss: 0.2913 - accuracy: 0.8819 - val_loss: 0.2630 - val_accuracy: 0.8869\n",
      "Epoch 2/50\n",
      "1707/1707 [==============================] - 5s 3ms/step - loss: 0.2538 - accuracy: 0.8899 - val_loss: 0.2434 - val_accuracy: 0.8923\n",
      "Epoch 3/50\n",
      " 678/1707 [==========>...................] - ETA: 2s - loss: 0.2438 - accuracy: 0.8922"
     ]
    },
    {
     "ename": "KeyboardInterrupt",
     "evalue": "",
     "output_type": "error",
     "traceback": [
      "\u001b[0;31m---------------------------------------------------------------------------\u001b[0m",
      "\u001b[0;31mKeyboardInterrupt\u001b[0m                         Traceback (most recent call last)",
      "Cell \u001b[0;32mIn[23], line 2\u001b[0m\n\u001b[1;32m      1\u001b[0m callback \u001b[39m=\u001b[39m tf\u001b[39m.\u001b[39mkeras\u001b[39m.\u001b[39mcallbacks\u001b[39m.\u001b[39mEarlyStopping(monitor\u001b[39m=\u001b[39m\u001b[39m'\u001b[39m\u001b[39mval_loss\u001b[39m\u001b[39m'\u001b[39m, patience\u001b[39m=\u001b[39m\u001b[39m3\u001b[39m)\n\u001b[0;32m----> 2\u001b[0m history \u001b[39m=\u001b[39m model\u001b[39m.\u001b[39;49mfit(x_train, y_train, epochs\u001b[39m=\u001b[39;49m\u001b[39m50\u001b[39;49m, validation_split\u001b[39m=\u001b[39;49m\u001b[39m0.2\u001b[39;49m, batch_size\u001b[39m=\u001b[39;49m\u001b[39m256\u001b[39;49m, callbacks\u001b[39m=\u001b[39;49m[callback])\n\u001b[1;32m      3\u001b[0m plot_training_history(history)\n",
      "File \u001b[0;32m~/uni/aii/job_exit_state/.venv/lib/python3.8/site-packages/keras/utils/traceback_utils.py:65\u001b[0m, in \u001b[0;36mfilter_traceback.<locals>.error_handler\u001b[0;34m(*args, **kwargs)\u001b[0m\n\u001b[1;32m     63\u001b[0m filtered_tb \u001b[39m=\u001b[39m \u001b[39mNone\u001b[39;00m\n\u001b[1;32m     64\u001b[0m \u001b[39mtry\u001b[39;00m:\n\u001b[0;32m---> 65\u001b[0m     \u001b[39mreturn\u001b[39;00m fn(\u001b[39m*\u001b[39;49margs, \u001b[39m*\u001b[39;49m\u001b[39m*\u001b[39;49mkwargs)\n\u001b[1;32m     66\u001b[0m \u001b[39mexcept\u001b[39;00m \u001b[39mException\u001b[39;00m \u001b[39mas\u001b[39;00m e:\n\u001b[1;32m     67\u001b[0m     filtered_tb \u001b[39m=\u001b[39m _process_traceback_frames(e\u001b[39m.\u001b[39m__traceback__)\n",
      "File \u001b[0;32m~/uni/aii/job_exit_state/.venv/lib/python3.8/site-packages/keras/engine/training.py:1685\u001b[0m, in \u001b[0;36mModel.fit\u001b[0;34m(self, x, y, batch_size, epochs, verbose, callbacks, validation_split, validation_data, shuffle, class_weight, sample_weight, initial_epoch, steps_per_epoch, validation_steps, validation_batch_size, validation_freq, max_queue_size, workers, use_multiprocessing)\u001b[0m\n\u001b[1;32m   1677\u001b[0m \u001b[39mwith\u001b[39;00m tf\u001b[39m.\u001b[39mprofiler\u001b[39m.\u001b[39mexperimental\u001b[39m.\u001b[39mTrace(\n\u001b[1;32m   1678\u001b[0m     \u001b[39m\"\u001b[39m\u001b[39mtrain\u001b[39m\u001b[39m\"\u001b[39m,\n\u001b[1;32m   1679\u001b[0m     epoch_num\u001b[39m=\u001b[39mepoch,\n\u001b[0;32m   (...)\u001b[0m\n\u001b[1;32m   1682\u001b[0m     _r\u001b[39m=\u001b[39m\u001b[39m1\u001b[39m,\n\u001b[1;32m   1683\u001b[0m ):\n\u001b[1;32m   1684\u001b[0m     callbacks\u001b[39m.\u001b[39mon_train_batch_begin(step)\n\u001b[0;32m-> 1685\u001b[0m     tmp_logs \u001b[39m=\u001b[39m \u001b[39mself\u001b[39;49m\u001b[39m.\u001b[39;49mtrain_function(iterator)\n\u001b[1;32m   1686\u001b[0m     \u001b[39mif\u001b[39;00m data_handler\u001b[39m.\u001b[39mshould_sync:\n\u001b[1;32m   1687\u001b[0m         context\u001b[39m.\u001b[39masync_wait()\n",
      "File \u001b[0;32m~/uni/aii/job_exit_state/.venv/lib/python3.8/site-packages/tensorflow/python/util/traceback_utils.py:150\u001b[0m, in \u001b[0;36mfilter_traceback.<locals>.error_handler\u001b[0;34m(*args, **kwargs)\u001b[0m\n\u001b[1;32m    148\u001b[0m filtered_tb \u001b[39m=\u001b[39m \u001b[39mNone\u001b[39;00m\n\u001b[1;32m    149\u001b[0m \u001b[39mtry\u001b[39;00m:\n\u001b[0;32m--> 150\u001b[0m   \u001b[39mreturn\u001b[39;00m fn(\u001b[39m*\u001b[39;49margs, \u001b[39m*\u001b[39;49m\u001b[39m*\u001b[39;49mkwargs)\n\u001b[1;32m    151\u001b[0m \u001b[39mexcept\u001b[39;00m \u001b[39mException\u001b[39;00m \u001b[39mas\u001b[39;00m e:\n\u001b[1;32m    152\u001b[0m   filtered_tb \u001b[39m=\u001b[39m _process_traceback_frames(e\u001b[39m.\u001b[39m__traceback__)\n",
      "File \u001b[0;32m~/uni/aii/job_exit_state/.venv/lib/python3.8/site-packages/tensorflow/python/eager/polymorphic_function/polymorphic_function.py:894\u001b[0m, in \u001b[0;36mFunction.__call__\u001b[0;34m(self, *args, **kwds)\u001b[0m\n\u001b[1;32m    891\u001b[0m compiler \u001b[39m=\u001b[39m \u001b[39m\"\u001b[39m\u001b[39mxla\u001b[39m\u001b[39m\"\u001b[39m \u001b[39mif\u001b[39;00m \u001b[39mself\u001b[39m\u001b[39m.\u001b[39m_jit_compile \u001b[39melse\u001b[39;00m \u001b[39m\"\u001b[39m\u001b[39mnonXla\u001b[39m\u001b[39m\"\u001b[39m\n\u001b[1;32m    893\u001b[0m \u001b[39mwith\u001b[39;00m OptionalXlaContext(\u001b[39mself\u001b[39m\u001b[39m.\u001b[39m_jit_compile):\n\u001b[0;32m--> 894\u001b[0m   result \u001b[39m=\u001b[39m \u001b[39mself\u001b[39;49m\u001b[39m.\u001b[39;49m_call(\u001b[39m*\u001b[39;49margs, \u001b[39m*\u001b[39;49m\u001b[39m*\u001b[39;49mkwds)\n\u001b[1;32m    896\u001b[0m new_tracing_count \u001b[39m=\u001b[39m \u001b[39mself\u001b[39m\u001b[39m.\u001b[39mexperimental_get_tracing_count()\n\u001b[1;32m    897\u001b[0m without_tracing \u001b[39m=\u001b[39m (tracing_count \u001b[39m==\u001b[39m new_tracing_count)\n",
      "File \u001b[0;32m~/uni/aii/job_exit_state/.venv/lib/python3.8/site-packages/tensorflow/python/eager/polymorphic_function/polymorphic_function.py:926\u001b[0m, in \u001b[0;36mFunction._call\u001b[0;34m(self, *args, **kwds)\u001b[0m\n\u001b[1;32m    923\u001b[0m   \u001b[39mself\u001b[39m\u001b[39m.\u001b[39m_lock\u001b[39m.\u001b[39mrelease()\n\u001b[1;32m    924\u001b[0m   \u001b[39m# In this case we have created variables on the first call, so we run the\u001b[39;00m\n\u001b[1;32m    925\u001b[0m   \u001b[39m# defunned version which is guaranteed to never create variables.\u001b[39;00m\n\u001b[0;32m--> 926\u001b[0m   \u001b[39mreturn\u001b[39;00m \u001b[39mself\u001b[39;49m\u001b[39m.\u001b[39;49m_no_variable_creation_fn(\u001b[39m*\u001b[39;49margs, \u001b[39m*\u001b[39;49m\u001b[39m*\u001b[39;49mkwds)  \u001b[39m# pylint: disable=not-callable\u001b[39;00m\n\u001b[1;32m    927\u001b[0m \u001b[39melif\u001b[39;00m \u001b[39mself\u001b[39m\u001b[39m.\u001b[39m_variable_creation_fn \u001b[39mis\u001b[39;00m \u001b[39mnot\u001b[39;00m \u001b[39mNone\u001b[39;00m:\n\u001b[1;32m    928\u001b[0m   \u001b[39m# Release the lock early so that multiple threads can perform the call\u001b[39;00m\n\u001b[1;32m    929\u001b[0m   \u001b[39m# in parallel.\u001b[39;00m\n\u001b[1;32m    930\u001b[0m   \u001b[39mself\u001b[39m\u001b[39m.\u001b[39m_lock\u001b[39m.\u001b[39mrelease()\n",
      "File \u001b[0;32m~/uni/aii/job_exit_state/.venv/lib/python3.8/site-packages/tensorflow/python/eager/polymorphic_function/tracing_compiler.py:143\u001b[0m, in \u001b[0;36mTracingCompiler.__call__\u001b[0;34m(self, *args, **kwargs)\u001b[0m\n\u001b[1;32m    140\u001b[0m \u001b[39mwith\u001b[39;00m \u001b[39mself\u001b[39m\u001b[39m.\u001b[39m_lock:\n\u001b[1;32m    141\u001b[0m   (concrete_function,\n\u001b[1;32m    142\u001b[0m    filtered_flat_args) \u001b[39m=\u001b[39m \u001b[39mself\u001b[39m\u001b[39m.\u001b[39m_maybe_define_function(args, kwargs)\n\u001b[0;32m--> 143\u001b[0m \u001b[39mreturn\u001b[39;00m concrete_function\u001b[39m.\u001b[39;49m_call_flat(\n\u001b[1;32m    144\u001b[0m     filtered_flat_args, captured_inputs\u001b[39m=\u001b[39;49mconcrete_function\u001b[39m.\u001b[39;49mcaptured_inputs)\n",
      "File \u001b[0;32m~/uni/aii/job_exit_state/.venv/lib/python3.8/site-packages/tensorflow/python/eager/polymorphic_function/monomorphic_function.py:1757\u001b[0m, in \u001b[0;36mConcreteFunction._call_flat\u001b[0;34m(self, args, captured_inputs, cancellation_manager)\u001b[0m\n\u001b[1;32m   1753\u001b[0m possible_gradient_type \u001b[39m=\u001b[39m gradients_util\u001b[39m.\u001b[39mPossibleTapeGradientTypes(args)\n\u001b[1;32m   1754\u001b[0m \u001b[39mif\u001b[39;00m (possible_gradient_type \u001b[39m==\u001b[39m gradients_util\u001b[39m.\u001b[39mPOSSIBLE_GRADIENT_TYPES_NONE\n\u001b[1;32m   1755\u001b[0m     \u001b[39mand\u001b[39;00m executing_eagerly):\n\u001b[1;32m   1756\u001b[0m   \u001b[39m# No tape is watching; skip to running the function.\u001b[39;00m\n\u001b[0;32m-> 1757\u001b[0m   \u001b[39mreturn\u001b[39;00m \u001b[39mself\u001b[39m\u001b[39m.\u001b[39m_build_call_outputs(\u001b[39mself\u001b[39;49m\u001b[39m.\u001b[39;49m_inference_function\u001b[39m.\u001b[39;49mcall(\n\u001b[1;32m   1758\u001b[0m       ctx, args, cancellation_manager\u001b[39m=\u001b[39;49mcancellation_manager))\n\u001b[1;32m   1759\u001b[0m forward_backward \u001b[39m=\u001b[39m \u001b[39mself\u001b[39m\u001b[39m.\u001b[39m_select_forward_and_backward_functions(\n\u001b[1;32m   1760\u001b[0m     args,\n\u001b[1;32m   1761\u001b[0m     possible_gradient_type,\n\u001b[1;32m   1762\u001b[0m     executing_eagerly)\n\u001b[1;32m   1763\u001b[0m forward_function, args_with_tangents \u001b[39m=\u001b[39m forward_backward\u001b[39m.\u001b[39mforward()\n",
      "File \u001b[0;32m~/uni/aii/job_exit_state/.venv/lib/python3.8/site-packages/tensorflow/python/eager/polymorphic_function/monomorphic_function.py:381\u001b[0m, in \u001b[0;36m_EagerDefinedFunction.call\u001b[0;34m(self, ctx, args, cancellation_manager)\u001b[0m\n\u001b[1;32m    379\u001b[0m \u001b[39mwith\u001b[39;00m _InterpolateFunctionError(\u001b[39mself\u001b[39m):\n\u001b[1;32m    380\u001b[0m   \u001b[39mif\u001b[39;00m cancellation_manager \u001b[39mis\u001b[39;00m \u001b[39mNone\u001b[39;00m:\n\u001b[0;32m--> 381\u001b[0m     outputs \u001b[39m=\u001b[39m execute\u001b[39m.\u001b[39;49mexecute(\n\u001b[1;32m    382\u001b[0m         \u001b[39mstr\u001b[39;49m(\u001b[39mself\u001b[39;49m\u001b[39m.\u001b[39;49msignature\u001b[39m.\u001b[39;49mname),\n\u001b[1;32m    383\u001b[0m         num_outputs\u001b[39m=\u001b[39;49m\u001b[39mself\u001b[39;49m\u001b[39m.\u001b[39;49m_num_outputs,\n\u001b[1;32m    384\u001b[0m         inputs\u001b[39m=\u001b[39;49margs,\n\u001b[1;32m    385\u001b[0m         attrs\u001b[39m=\u001b[39;49mattrs,\n\u001b[1;32m    386\u001b[0m         ctx\u001b[39m=\u001b[39;49mctx)\n\u001b[1;32m    387\u001b[0m   \u001b[39melse\u001b[39;00m:\n\u001b[1;32m    388\u001b[0m     outputs \u001b[39m=\u001b[39m execute\u001b[39m.\u001b[39mexecute_with_cancellation(\n\u001b[1;32m    389\u001b[0m         \u001b[39mstr\u001b[39m(\u001b[39mself\u001b[39m\u001b[39m.\u001b[39msignature\u001b[39m.\u001b[39mname),\n\u001b[1;32m    390\u001b[0m         num_outputs\u001b[39m=\u001b[39m\u001b[39mself\u001b[39m\u001b[39m.\u001b[39m_num_outputs,\n\u001b[0;32m   (...)\u001b[0m\n\u001b[1;32m    393\u001b[0m         ctx\u001b[39m=\u001b[39mctx,\n\u001b[1;32m    394\u001b[0m         cancellation_manager\u001b[39m=\u001b[39mcancellation_manager)\n",
      "File \u001b[0;32m~/uni/aii/job_exit_state/.venv/lib/python3.8/site-packages/tensorflow/python/eager/execute.py:52\u001b[0m, in \u001b[0;36mquick_execute\u001b[0;34m(op_name, num_outputs, inputs, attrs, ctx, name)\u001b[0m\n\u001b[1;32m     50\u001b[0m \u001b[39mtry\u001b[39;00m:\n\u001b[1;32m     51\u001b[0m   ctx\u001b[39m.\u001b[39mensure_initialized()\n\u001b[0;32m---> 52\u001b[0m   tensors \u001b[39m=\u001b[39m pywrap_tfe\u001b[39m.\u001b[39;49mTFE_Py_Execute(ctx\u001b[39m.\u001b[39;49m_handle, device_name, op_name,\n\u001b[1;32m     53\u001b[0m                                       inputs, attrs, num_outputs)\n\u001b[1;32m     54\u001b[0m \u001b[39mexcept\u001b[39;00m core\u001b[39m.\u001b[39m_NotOkStatusException \u001b[39mas\u001b[39;00m e:\n\u001b[1;32m     55\u001b[0m   \u001b[39mif\u001b[39;00m name \u001b[39mis\u001b[39;00m \u001b[39mnot\u001b[39;00m \u001b[39mNone\u001b[39;00m:\n",
      "\u001b[0;31mKeyboardInterrupt\u001b[0m: "
     ]
    }
   ],
   "source": [
    "callback = tf.keras.callbacks.EarlyStopping(monitor='val_loss', patience=3)\n",
    "history = model.fit(x_train, y_train, epochs=50, validation_split=0.2, batch_size=256, callbacks=[callback])\n",
    "plot_training_history(history)"
   ]
  },
  {
   "cell_type": "code",
   "execution_count": null,
   "metadata": {},
   "outputs": [],
   "source": [
    "y_pred = model.predict(x_test, batch_size=1024)\n",
    "y_pred = tf.reshape(y_pred, y_pred.shape[0]).numpy()\n",
    "y_pred = np.where(y_pred < 0.5, 0, 1)\n",
    "\n",
    "# Create the confusion matrix\n",
    "cm_nn = confusion_matrix(y_test, y_pred)\n",
    "ConfusionMatrixDisplay(confusion_matrix=cm_nn).plot()\n",
    "\n",
    "f1 = f1_score(y_test, y_pred, average=\"binary\")\n",
    "print(f\"F1 on test set: {f1}\")"
   ]
  },
  {
   "attachments": {},
   "cell_type": "markdown",
   "metadata": {},
   "source": [
    "Weight the the loss function"
   ]
  },
  {
   "cell_type": "code",
   "execution_count": null,
   "metadata": {},
   "outputs": [],
   "source": [
    "class WeightDecayBCE(keras.losses.Loss):\n",
    "    def __init__(self, weights, from_logits=False,\n",
    "                 reduction=keras.losses.Reduction.AUTO,\n",
    "                 name='weighted_decay_bce'):\n",
    "        super().__init__(reduction=reduction, name=name)\n",
    "        self.weights = weights\n",
    "        self.from_logits = from_logits\n",
    "\n",
    "    def call(self, y_true, y_pred):\n",
    "        weights_v = tf.where(tf.equal(y_true, 1), self.weights[1], self.weights[0])\n",
    "        weights_v = tf.cast(weights_v, dtype=tf.float32)\n",
    "        bce = keras.backend.binary_crossentropy(y_true, y_pred, from_logits=self.from_logits)\n",
    "        loss = keras.backend.mean(tf.multiply(bce, weights_v))\n",
    "        return loss"
   ]
  },
  {
   "cell_type": "code",
   "execution_count": null,
   "metadata": {},
   "outputs": [],
   "source": [
    "weights = class_weight.compute_class_weight(class_weight='balanced',\n",
    "                                            classes=np.unique(y_train),\n",
    "                                            y=y_train)\n",
    "weighted_bce = WeightDecayBCE(weights)\n",
    "\n",
    "model2 = build_model((None, x_train.shape[1], ), 1, hiddens=[128, 128])\n",
    "model2.compile(loss=weighted_bce,\n",
    "              optimizer=keras.optimizers.Adam(), \n",
    "              metrics=[\"accuracy\"])\n",
    "model2.summary()"
   ]
  },
  {
   "cell_type": "code",
   "execution_count": null,
   "metadata": {},
   "outputs": [],
   "source": [
    "callback = tf.keras.callbacks.EarlyStopping(monitor='val_loss', patience=3)\n",
    "history2 = model2.fit(x_train, y_train, epochs=50, validation_split=0.2, batch_size=256, callbacks=[callback])\n",
    "plot_training_history(history2)"
   ]
  },
  {
   "cell_type": "code",
   "execution_count": null,
   "metadata": {},
   "outputs": [],
   "source": [
    "y_pred = model2.predict(x_test, batch_size=1024)\n",
    "y_pred = tf.reshape(y_pred, y_pred.shape[0]).numpy()\n",
    "y_pred = np.where(y_pred < 0.5, 0, 1)\n",
    "\n",
    "# Create the confusion matrix\n",
    "cm_nn = confusion_matrix(y_test, y_pred)\n",
    "ConfusionMatrixDisplay(confusion_matrix=cm_nn).plot()\n",
    "\n",
    "f1 = f1_score(y_test, y_pred, average=\"binary\")\n",
    "print(f\"F1 on test set: {f1}\")"
   ]
  },
  {
   "attachments": {},
   "cell_type": "markdown",
   "metadata": {},
   "source": [
    "#### Test classes"
   ]
  },
  {
   "cell_type": "code",
   "execution_count": 9,
   "metadata": {},
   "outputs": [],
   "source": [
    "class WeightDecayBCE(keras.losses.Loss):\n",
    "    def __init__(self, weights, from_logits=False,\n",
    "                 reduction=keras.losses.Reduction.AUTO,\n",
    "                 name='weighted_decay_bce'):\n",
    "        super().__init__(reduction=reduction, name=name)\n",
    "        self.weights = weights\n",
    "        self.from_logits = from_logits\n",
    "\n",
    "    def call(self, y_true, y_pred):\n",
    "        weights_v = tf.where(tf.equal(y_true, 1), self.weights[1], self.weights[0])\n",
    "        weights_v = tf.cast(weights_v, dtype=tf.float32)\n",
    "        bce = keras.backend.binary_crossentropy(y_true, y_pred, from_logits=self.from_logits)\n",
    "        loss = keras.backend.mean(tf.multiply(bce, weights_v))\n",
    "        return loss"
   ]
  },
  {
   "cell_type": "code",
   "execution_count": 10,
   "metadata": {},
   "outputs": [],
   "source": [
    "class TabMLP(keras.Model):\n",
    "    def __init__(self, output_shape=1, binary_task=True):\n",
    "        super(TabMLP, self).__init__()\n",
    "        self.d1 = keras.layers.Dense(128, activation='relu')\n",
    "        self.d2 = keras.layers.Dense(128, activation='relu')\n",
    "        self.do = keras.layers.Dropout(0.3)\n",
    "        self.classifier = keras.layers.Dense(output_shape, activation=\"sigmoid\")\n",
    "\n",
    "    def call(self, inputs):\n",
    "        x = self.d1(inputs)\n",
    "        x = self.d2(x)\n",
    "        x = self.do(x)\n",
    "        return self.classifier(x)"
   ]
  },
  {
   "cell_type": "code",
   "execution_count": 11,
   "metadata": {},
   "outputs": [
    {
     "name": "stderr",
     "output_type": "stream",
     "text": [
      "2023-05-24 22:42:29.812075: I tensorflow/compiler/xla/stream_executor/cuda/cuda_gpu_executor.cc:996] successful NUMA node read from SysFS had negative value (-1), but there must be at least one NUMA node, so returning NUMA node zero. See more at https://github.com/torvalds/linux/blob/v6.0/Documentation/ABI/testing/sysfs-bus-pci#L344-L355\n",
      "2023-05-24 22:42:29.812281: I tensorflow/compiler/xla/stream_executor/cuda/cuda_gpu_executor.cc:996] successful NUMA node read from SysFS had negative value (-1), but there must be at least one NUMA node, so returning NUMA node zero. See more at https://github.com/torvalds/linux/blob/v6.0/Documentation/ABI/testing/sysfs-bus-pci#L344-L355\n",
      "2023-05-24 22:42:29.812440: I tensorflow/compiler/xla/stream_executor/cuda/cuda_gpu_executor.cc:996] successful NUMA node read from SysFS had negative value (-1), but there must be at least one NUMA node, so returning NUMA node zero. See more at https://github.com/torvalds/linux/blob/v6.0/Documentation/ABI/testing/sysfs-bus-pci#L344-L355\n",
      "2023-05-24 22:42:30.339290: I tensorflow/compiler/xla/stream_executor/cuda/cuda_gpu_executor.cc:996] successful NUMA node read from SysFS had negative value (-1), but there must be at least one NUMA node, so returning NUMA node zero. See more at https://github.com/torvalds/linux/blob/v6.0/Documentation/ABI/testing/sysfs-bus-pci#L344-L355\n",
      "2023-05-24 22:42:30.339475: I tensorflow/compiler/xla/stream_executor/cuda/cuda_gpu_executor.cc:996] successful NUMA node read from SysFS had negative value (-1), but there must be at least one NUMA node, so returning NUMA node zero. See more at https://github.com/torvalds/linux/blob/v6.0/Documentation/ABI/testing/sysfs-bus-pci#L344-L355\n",
      "2023-05-24 22:42:30.339623: I tensorflow/compiler/xla/stream_executor/cuda/cuda_gpu_executor.cc:996] successful NUMA node read from SysFS had negative value (-1), but there must be at least one NUMA node, so returning NUMA node zero. See more at https://github.com/torvalds/linux/blob/v6.0/Documentation/ABI/testing/sysfs-bus-pci#L344-L355\n",
      "2023-05-24 22:42:30.339730: I tensorflow/core/common_runtime/gpu/gpu_device.cc:1635] Created device /job:localhost/replica:0/task:0/device:GPU:0 with 9827 MB memory:  -> device: 0, name: NVIDIA GeForce GTX 1080 Ti, pci bus id: 0000:08:00.0, compute capability: 6.1\n"
     ]
    }
   ],
   "source": [
    "batch_size = 256\n",
    "\n",
    "optimizer = tf.keras.optimizers.Adam(learning_rate=1e-3)\n",
    "\n",
    "weights = class_weight.compute_class_weight(class_weight='balanced',\n",
    "                                            classes=np.unique(y_train),\n",
    "                                            y=y_train)\n",
    "loss_fn = WeightDecayBCE(weights)\n",
    "\n",
    "train_dataset = tf.data.Dataset.from_tensor_slices((x_train, y_train))\n",
    "train_dataset = train_dataset.shuffle(buffer_size=x_train.shape[0]).batch(batch_size)\n",
    "\n",
    "val_dataset = tf.data.Dataset.from_tensor_slices((x_val, y_val))\n",
    "val_dataset = val_dataset.batch(batch_size)"
   ]
  },
  {
   "cell_type": "code",
   "execution_count": 12,
   "metadata": {},
   "outputs": [],
   "source": [
    "@tf.function\n",
    "def train_step(x, y):\n",
    "    with tf.GradientTape() as tape:\n",
    "        out = model(x, training=True)\n",
    "        loss_value = loss_fn(y, tf.squeeze(out))\n",
    "    grads = tape.gradient(loss_value, model.trainable_weights)\n",
    "    optimizer.apply_gradients(zip(grads, model.trainable_weights))\n",
    "    return loss_value\n",
    "\n",
    "@tf.function\n",
    "def val_step(x, y):\n",
    "    out = model(x, training=False)\n",
    "    loss_value = loss_fn(y, tf.squeeze(out))\n",
    "    return loss_value\n",
    "\n",
    "@tf.function\n",
    "def test_step(x):\n",
    "    out = model(x, training=False)\n",
    "    return out"
   ]
  },
  {
   "cell_type": "code",
   "execution_count": 13,
   "metadata": {},
   "outputs": [
    {
     "name": "stdout",
     "output_type": "stream",
     "text": [
      "\n",
      "Epoch 1/30\n"
     ]
    },
    {
     "name": "stderr",
     "output_type": "stream",
     "text": [
      "2023-05-24 22:42:35.289431: I tensorflow/core/common_runtime/executor.cc:1197] [/device:CPU:0] (DEBUG INFO) Executor start aborting (this does not indicate an error and you can ignore this message): INVALID_ARGUMENT: You must feed a value for placeholder tensor 'Placeholder/_1' with dtype float and shape [546095]\n",
      "\t [[{{node Placeholder/_1}}]]\n",
      "2023-05-24 22:42:36.676083: I tensorflow/compiler/xla/service/service.cc:169] XLA service 0x7f88a0015ec0 initialized for platform CUDA (this does not guarantee that XLA will be used). Devices:\n",
      "2023-05-24 22:42:36.676111: I tensorflow/compiler/xla/service/service.cc:177]   StreamExecutor device (0): NVIDIA GeForce GTX 1080 Ti, Compute Capability 6.1\n",
      "2023-05-24 22:42:36.680075: I tensorflow/compiler/mlir/tensorflow/utils/dump_mlir_util.cc:269] disabling MLIR crash reproducer, set env var `MLIR_CRASH_REPRODUCER_DIRECTORY` to enable.\n",
      "2023-05-24 22:42:36.809232: I tensorflow/compiler/xla/stream_executor/cuda/cuda_dnn.cc:424] Loaded cuDNN version 8901\n",
      "2023-05-24 22:42:36.944941: I ./tensorflow/compiler/jit/device_compiler.h:180] Compiled cluster using XLA!  This line is logged at most once for the lifetime of the process.\n"
     ]
    },
    {
     "name": "stdout",
     "output_type": "stream",
     "text": [
      "2134/2135 [============================>.] - ETA: 0s - train_loss: 0.4556"
     ]
    },
    {
     "name": "stderr",
     "output_type": "stream",
     "text": [
      "2023-05-24 22:42:43.288213: I tensorflow/core/common_runtime/executor.cc:1197] [/device:CPU:0] (DEBUG INFO) Executor start aborting (this does not indicate an error and you can ignore this message): INVALID_ARGUMENT: You must feed a value for placeholder tensor 'Placeholder/_1' with dtype float and shape [136524]\n",
      "\t [[{{node Placeholder/_1}}]]\n"
     ]
    },
    {
     "name": "stdout",
     "output_type": "stream",
     "text": [
      "2135/2135 [==============================] - 9s 3ms/step - train_loss: 0.4556 - val_loss: 0.4070\n",
      "\n",
      "Epoch 2/30\n",
      "2135/2135 [==============================] - 6s 3ms/step - train_loss: 0.4012 - val_loss: 0.3811\n",
      "\n",
      "Epoch 3/30\n",
      "2135/2135 [==============================] - 6s 3ms/step - train_loss: 0.3760 - val_loss: 0.3610\n",
      "\n",
      "Epoch 4/30\n",
      "2135/2135 [==============================] - 6s 3ms/step - train_loss: 0.3539 - val_loss: 0.3365\n",
      "\n",
      "Epoch 5/30\n",
      "2135/2135 [==============================] - 6s 3ms/step - train_loss: 0.3386 - val_loss: 0.3247\n",
      "\n",
      "Epoch 6/30\n",
      "2135/2135 [==============================] - 6s 3ms/step - train_loss: 0.3277 - val_loss: 0.3137\n",
      "\n",
      "Epoch 7/30\n",
      "2135/2135 [==============================] - 6s 3ms/step - train_loss: 0.3204 - val_loss: 0.3084\n",
      "\n",
      "Epoch 8/30\n",
      "2135/2135 [==============================] - 6s 3ms/step - train_loss: 0.3144 - val_loss: 0.3059\n",
      "\n",
      "Epoch 9/30\n",
      "2135/2135 [==============================] - 6s 2ms/step - train_loss: 0.3098 - val_loss: 0.2988\n",
      "\n",
      "Epoch 10/30\n",
      "2135/2135 [==============================] - 6s 2ms/step - train_loss: 0.3066 - val_loss: 0.2953\n",
      "\n",
      "Epoch 11/30\n",
      "2135/2135 [==============================] - 6s 3ms/step - train_loss: 0.3038 - val_loss: 0.2958\n",
      "\n",
      "Epoch 12/30\n",
      "2135/2135 [==============================] - 6s 3ms/step - train_loss: 0.3014 - val_loss: 0.2948\n",
      "\n",
      "Epoch 13/30\n",
      "2135/2135 [==============================] - 6s 2ms/step - train_loss: 0.2993 - val_loss: 0.2931\n",
      "\n",
      "Epoch 14/30\n",
      "2135/2135 [==============================] - 6s 2ms/step - train_loss: 0.2968 - val_loss: 0.2926\n",
      "\n",
      "Epoch 15/30\n",
      "2135/2135 [==============================] - 6s 3ms/step - train_loss: 0.2956 - val_loss: 0.2892\n",
      "\n",
      "Epoch 16/30\n",
      "2135/2135 [==============================] - 7s 3ms/step - train_loss: 0.2937 - val_loss: 0.2845\n",
      "\n",
      "Epoch 17/30\n",
      "2135/2135 [==============================] - 6s 3ms/step - train_loss: 0.2930 - val_loss: 0.2815\n",
      "\n",
      "Epoch 18/30\n",
      "2135/2135 [==============================] - 6s 3ms/step - train_loss: 0.2909 - val_loss: 0.2806\n",
      "\n",
      "Epoch 19/30\n",
      "2135/2135 [==============================] - 6s 2ms/step - train_loss: 0.2891 - val_loss: 0.2838\n",
      "\n",
      "Epoch 20/30\n",
      "2135/2135 [==============================] - 6s 2ms/step - train_loss: 0.2869 - val_loss: 0.2772\n",
      "\n",
      "Epoch 21/30\n",
      "2135/2135 [==============================] - 6s 3ms/step - train_loss: 0.2855 - val_loss: 0.2773\n",
      "\n",
      "Epoch 22/30\n",
      "2135/2135 [==============================] - 6s 3ms/step - train_loss: 0.2842 - val_loss: 0.2760\n",
      "\n",
      "Epoch 23/30\n",
      "2135/2135 [==============================] - 7s 3ms/step - train_loss: 0.2832 - val_loss: 0.2730\n",
      "\n",
      "Epoch 24/30\n",
      "2135/2135 [==============================] - 6s 3ms/step - train_loss: 0.2821 - val_loss: 0.2786\n",
      "\n",
      "Epoch 25/30\n",
      "2135/2135 [==============================] - 6s 3ms/step - train_loss: 0.2811 - val_loss: 0.2846\n",
      "\n",
      "Epoch 26/30\n",
      "2135/2135 [==============================] - 6s 3ms/step - train_loss: 0.2802 - val_loss: 0.2731\n",
      "\n",
      "Epoch 27/30\n",
      "2135/2135 [==============================] - 6s 2ms/step - train_loss: 0.2790 - val_loss: 0.2717\n",
      "\n",
      "Epoch 28/30\n",
      "2135/2135 [==============================] - 6s 3ms/step - train_loss: 0.2780 - val_loss: 0.2711\n",
      "\n",
      "Epoch 29/30\n",
      "2135/2135 [==============================] - 6s 3ms/step - train_loss: 0.2764 - val_loss: 0.2690\n",
      "\n",
      "Epoch 30/30\n",
      "2135/2135 [==============================] - 6s 3ms/step - train_loss: 0.2762 - val_loss: 0.2665\n"
     ]
    }
   ],
   "source": [
    "epochs = 30\n",
    "train_length = len(train_dataset)\n",
    "val_length = len(val_dataset)\n",
    "\n",
    "model = TabMLP()\n",
    "\n",
    "# Iterate over epochs.\n",
    "for epoch in range(epochs):\n",
    "    e_tloss = 0\n",
    "    e_vloss = 0\n",
    "    print(f\"\\nEpoch {epoch+1}/{epochs}\")\n",
    "\n",
    "    pb = Progbar(train_length+1, stateful_metrics=[\"train_loss\", \"val_loss\"])\n",
    "\n",
    "    # train loop\n",
    "    for step, (inputs, labels) in enumerate(train_dataset):\n",
    "        loss = train_step(inputs, labels)\n",
    "        e_tloss += loss\n",
    "        pb.add(1, values=[(\"train_loss\",e_tloss/(step+1))])\n",
    "        \n",
    "\n",
    "    ## val loop\n",
    "    for step, (inputs, labels) in enumerate(val_dataset):\n",
    "        loss = val_step(inputs, labels)\n",
    "        e_vloss += loss\n",
    "    \n",
    "    pb.add(1, values=[(\"val_loss\",e_vloss/(step+1))])"
   ]
  },
  {
   "cell_type": "code",
   "execution_count": 23,
   "metadata": {},
   "outputs": [
    {
     "ename": "TypeError",
     "evalue": "'<' not supported between instances of 'list' and 'float'",
     "output_type": "error",
     "traceback": [
      "\u001b[0;31m---------------------------------------------------------------------------\u001b[0m",
      "\u001b[0;31mTypeError\u001b[0m                                 Traceback (most recent call last)",
      "Cell \u001b[0;32mIn[23], line 12\u001b[0m\n\u001b[1;32m      1\u001b[0m \u001b[39m# test_dataset = tf.data.Dataset.from_tensor_slices(x_test)\u001b[39;00m\n\u001b[1;32m      2\u001b[0m \u001b[39m# test_dataset = test_dataset.batch(batch_size)\u001b[39;00m\n\u001b[1;32m      3\u001b[0m \n\u001b[0;32m   (...)\u001b[0m\n\u001b[1;32m      9\u001b[0m \u001b[39m#     y_pred.extend(pred)\u001b[39;00m\n\u001b[1;32m     10\u001b[0m \u001b[39m#     pb.add(1, values=[])\u001b[39;00m\n\u001b[0;32m---> 12\u001b[0m y_pred[y_pred \u001b[39m<\u001b[39;49m \u001b[39m0.5\u001b[39;49m] \u001b[39m=\u001b[39m \u001b[39m0\u001b[39m\n\u001b[1;32m     13\u001b[0m y_pred[y_pred \u001b[39m>\u001b[39m\u001b[39m=\u001b[39m \u001b[39m0.5\u001b[39m] \u001b[39m=\u001b[39m \u001b[39m0\u001b[39m\n\u001b[1;32m     15\u001b[0m \u001b[39m# Create the confusion matrix\u001b[39;00m\n",
      "\u001b[0;31mTypeError\u001b[0m: '<' not supported between instances of 'list' and 'float'"
     ]
    }
   ],
   "source": [
    "test_dataset = tf.data.Dataset.from_tensor_slices(x_test)\n",
    "test_dataset = test_dataset.batch(batch_size)\n",
    "\n",
    "pb = Progbar(len(test_dataset), stateful_metrics=[])\n",
    "y_pred = []\n",
    "# train loop\n",
    "for inputs in test_dataset:\n",
    "    pred = test_step(inputs)\n",
    "    y_pred.extend(pred)\n",
    "    pb.add(1, values=[])\n",
    "\n",
    "y_pred[y_pred < 0.5] = 0\n",
    "y_pred[y_pred >= 0.5] = 0\n",
    "\n",
    "# Create the confusion matrix\n",
    "cm = confusion_matrix(y_test, y_pred)\n",
    "ConfusionMatrixDisplay(confusion_matrix=cm).plot()\n",
    "\n",
    "f1 = f1_score(y_test, y_pred, average=\"binary\")\n",
    "print(f\"F1 on test set: {f1}\")"
   ]
  },
  {
   "attachments": {},
   "cell_type": "markdown",
   "metadata": {},
   "source": [
    "### ML Approach"
   ]
  },
  {
   "cell_type": "code",
   "execution_count": null,
   "metadata": {},
   "outputs": [],
   "source": [
    "param_dist = {'n_estimators': randint(50,500),\n",
    "              'max_depth': randint(1,20)}\n",
    "\n",
    "# Create a random forest classifier\n",
    "rf = RandomForestClassifier()\n",
    "\n",
    "# Use random search to find the best hyperparameters\n",
    "# rand_search = RandomizedSearchCV(rf, \n",
    "#                                  param_distributions = param_dist, \n",
    "#                                  n_iter=5, \n",
    "#                                  cv=5)\n",
    "# # Fit the random search object to the data\n",
    "# rand_search.fit(x_train[inputs], y_train)\n",
    "\n",
    "rf.fit(x_train[inputs], y_train)"
   ]
  },
  {
   "cell_type": "code",
   "execution_count": null,
   "metadata": {},
   "outputs": [],
   "source": [
    "y_pred = rf.predict(x_test[inputs])\n",
    "f1 = f1_score(y_test, y_pred)\n",
    "print(\"F1 on test set:\", f1)"
   ]
  },
  {
   "cell_type": "code",
   "execution_count": null,
   "metadata": {},
   "outputs": [],
   "source": [
    "# Create the confusion matrix\n",
    "cm = confusion_matrix(y_test, y_pred)\n",
    "\n",
    "ConfusionMatrixDisplay(confusion_matrix=cm).plot();"
   ]
  }
 ],
 "metadata": {
  "kernelspec": {
   "display_name": "venv",
   "language": "python",
   "name": "python3"
  },
  "language_info": {
   "codemirror_mode": {
    "name": "ipython",
    "version": 3
   },
   "file_extension": ".py",
   "mimetype": "text/x-python",
   "name": "python",
   "nbconvert_exporter": "python",
   "pygments_lexer": "ipython3",
   "version": "3.8.10"
  },
  "orig_nbformat": 4
 },
 "nbformat": 4,
 "nbformat_minor": 2
}
