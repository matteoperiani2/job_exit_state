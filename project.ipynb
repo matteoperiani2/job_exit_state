{
 "cells": [
  {
   "cell_type": "code",
   "execution_count": 1,
   "metadata": {},
   "outputs": [],
   "source": [
    "%load_ext autoreload\n",
    "%autoreload 2"
   ]
  },
  {
   "cell_type": "code",
   "execution_count": 2,
   "metadata": {},
   "outputs": [],
   "source": [
    "%%capture\n",
    "%pip install numpy pandas seaborn matplotlib scikit-learn xgboost hyperopt"
   ]
  },
  {
   "cell_type": "code",
   "execution_count": 2,
   "metadata": {},
   "outputs": [],
   "source": [
    "import os, random\n",
    "import numpy as np\n",
    "import pandas as pd\n",
    "import seaborn as sns\n",
    "import matplotlib.pyplot as plt\n",
    "import re\n",
    "\n",
    "from sklearn.preprocessing import OrdinalEncoder, LabelEncoder\n",
    "from sklearn.model_selection import train_test_split\n",
    "from sklearn.ensemble import RandomForestClassifier\n",
    "from sklearn.tree import DecisionTreeClassifier\n",
    "from sklearn.linear_model import LogisticRegression\n",
    "from sklearn.metrics import fbeta_score\n",
    "from xgboost import XGBClassifier\n",
    "from hyperopt import fmin, hp, tpe, STATUS_OK\n",
    "\n",
    "from src.util import evaluate_model, seed_everything, get_data\n",
    "\n",
    "# import tensorflow as tf\n",
    "# from tensorflow import keras\n",
    "# from keras.utils import to_categorical\n",
    "\n",
    "seed = 42\n",
    "seed_everything(seed)"
   ]
  },
  {
   "attachments": {},
   "cell_type": "markdown",
   "metadata": {},
   "source": [
    "## Data inspection & selection\n",
    "Load the dataset and look inside it"
   ]
  },
  {
   "cell_type": "code",
   "execution_count": 4,
   "metadata": {},
   "outputs": [
    {
     "ename": "",
     "evalue": "",
     "output_type": "error",
     "traceback": [
      "\u001b[1;31mThe Kernel crashed while executing code in the the current cell or a previous cell. Please review the code in the cell(s) to identify a possible cause of the failure. Click <a href='https://aka.ms/vscodeJupyterKernelCrash'>here</a> for more info. View Jupyter <a href='command:jupyter.viewOutput'>log</a> for further details."
     ]
    }
   ],
   "source": [
    "data = pd.read_parquet(\"data/job_table.parquet\")\n",
    "data.head(10)"
   ]
  },
  {
   "cell_type": "code",
   "execution_count": 5,
   "metadata": {},
   "outputs": [
    {
     "name": "stdout",
     "output_type": "stream",
     "text": [
      "Number of rows: 6236346\n",
      "Number of columns: 100\n",
      "Index(['pn_min_cpus', 'resize_time', 'ntasks_per_socket', 'tres_freq',\n",
      "       'comment', 'ntasks_per_socket_str', 'std_in', 'array_task_throttle',\n",
      "       'max_nodes', 'contiguous', 'max_cpus', 'resv_name', 'user_id',\n",
      "       'tres_per_task', 'derived_ec', 'tres_per_socket', 'exc_nodes',\n",
      "       'tres_req_str', 'array_job_id', 'boards_per_node', 'priority',\n",
      "       'num_nodes', 'tres_per_node', 'cpus_alloc_layout', 'name',\n",
      "       'run_time_str', 'array_task_str', 'time_min', 'time_limit_str',\n",
      "       'end_time', 'year_month', 'alloc_sid', 'mem_per_cpu', 'req_switch',\n",
      "       'show_flags', 'group_id', 'wait4switch', 'array_task_id', 'exit_code',\n",
      "       'mem_per_node', 'restart_cnt', 'requeue', 'tres_bind', 'profile',\n",
      "       'batch_flag', 'plugin', 'work_dir', 'pn_min_memory', 'nice',\n",
      "       'ntasks_per_node', 'ntasks_per_core_str', 'accrue_time',\n",
      "       'tres_alloc_str', 'nodes', 'sockets_per_board', 'std_out',\n",
      "       'array_max_tasks', 'job_id', 'account', 'assoc_id', 'dependency',\n",
      "       'threads_per_core', 'min_memory_cpu', 'state_reason', 'start_time',\n",
      "       'suspend_time', 'batch_host', 'command', 'partition', 'tres_per_job',\n",
      "       'num_tasks', 'metric', 'std_err', 'wckey', 'qos', 'alloc_node',\n",
      "       'min_memory_node', 'pn_min_tmp_disk', 'ntasks_per_board',\n",
      "       'ntasks_per_core', 'sched_nodes', 'cpus_per_tres', 'run_time',\n",
      "       'num_cpus', 'reboot', 'time_limit', 'bitflags', 'job_state',\n",
      "       'submit_time', 'features', 'cpus_allocated', 'billable_tres',\n",
      "       'last_sched_eval', 'eligible_time', 'power_flags', 'cores_per_socket',\n",
      "       'sockets_per_node', 'shared', 'cpus_per_task', 'req_nodes'],\n",
      "      dtype='object')\n"
     ]
    }
   ],
   "source": [
    "print(f\"Number of rows: {len(data)}\")\n",
    "print(f\"Number of columns: {len(data.columns)}\")\n",
    "print(data.columns)"
   ]
  },
  {
   "cell_type": "markdown",
   "metadata": {},
   "source": [
    "Since, the dataset contains a huge set of information, we decided to use only a smal subset of it. In particular, for the early stage of our work, we use submit time features. So, we have only data that have the string *tres_req_str* present (by which cpu,gpu,mem,ecc are rquested) and the toehr features avaliable at request time(requested by the submitter).\n",
    "\n",
    "We only consider job that are in one of the possible states: COMPLETED, FAILED, OUT_OF_MEMORY, TIMEOUT"
   ]
  },
  {
   "cell_type": "code",
   "execution_count": 6,
   "metadata": {},
   "outputs": [
    {
     "data": {
      "text/html": [
       "<div>\n",
       "<style scoped>\n",
       "    .dataframe tbody tr th:only-of-type {\n",
       "        vertical-align: middle;\n",
       "    }\n",
       "\n",
       "    .dataframe tbody tr th {\n",
       "        vertical-align: top;\n",
       "    }\n",
       "\n",
       "    .dataframe thead th {\n",
       "        text-align: right;\n",
       "    }\n",
       "</style>\n",
       "<table border=\"1\" class=\"dataframe\">\n",
       "  <thead>\n",
       "    <tr style=\"text-align: right;\">\n",
       "      <th></th>\n",
       "      <th>submit_time</th>\n",
       "      <th>user_id</th>\n",
       "      <th>group_id</th>\n",
       "      <th>name</th>\n",
       "      <th>command</th>\n",
       "      <th>partition</th>\n",
       "      <th>priority</th>\n",
       "      <th>qos</th>\n",
       "      <th>time_limit</th>\n",
       "      <th>cpus_per_task</th>\n",
       "      <th>num_tasks</th>\n",
       "      <th>tres_req_str</th>\n",
       "      <th>job_state</th>\n",
       "    </tr>\n",
       "  </thead>\n",
       "  <tbody>\n",
       "    <tr>\n",
       "      <th>0</th>\n",
       "      <td>2020-05-22 01:06:05+00:00</td>\n",
       "      <td>32171</td>\n",
       "      <td>25200</td>\n",
       "      <td>slurm_multinode_prova</td>\n",
       "      <td>/m100_scratch/userinternal/nshukla1/stream_CPU...</td>\n",
       "      <td>m100_usr_prod</td>\n",
       "      <td>87034</td>\n",
       "      <td>normal</td>\n",
       "      <td>10</td>\n",
       "      <td>4</td>\n",
       "      <td>1</td>\n",
       "      <td>cpu=4,mem=246000M,node=1,billing=4</td>\n",
       "      <td>COMPLETED</td>\n",
       "    </tr>\n",
       "    <tr>\n",
       "      <th>1</th>\n",
       "      <td>2020-05-22 01:06:10+00:00</td>\n",
       "      <td>32171</td>\n",
       "      <td>25200</td>\n",
       "      <td>slurm_multinode_prova</td>\n",
       "      <td>/m100_scratch/userinternal/nshukla1/stream_CPU...</td>\n",
       "      <td>m100_usr_prod</td>\n",
       "      <td>85884</td>\n",
       "      <td>normal</td>\n",
       "      <td>10</td>\n",
       "      <td>4</td>\n",
       "      <td>1</td>\n",
       "      <td>cpu=4,mem=246000M,node=1,billing=4</td>\n",
       "      <td>COMPLETED</td>\n",
       "    </tr>\n",
       "    <tr>\n",
       "      <th>2</th>\n",
       "      <td>2020-05-22 01:05:39+00:00</td>\n",
       "      <td>32171</td>\n",
       "      <td>25200</td>\n",
       "      <td>slurm_multinode_prova</td>\n",
       "      <td>/m100_scratch/userinternal/nshukla1/stream_CPU...</td>\n",
       "      <td>m100_usr_prod</td>\n",
       "      <td>115982</td>\n",
       "      <td>normal</td>\n",
       "      <td>10</td>\n",
       "      <td>4</td>\n",
       "      <td>1</td>\n",
       "      <td>cpu=4,mem=246000M,node=1,billing=4</td>\n",
       "      <td>COMPLETED</td>\n",
       "    </tr>\n",
       "    <tr>\n",
       "      <th>3</th>\n",
       "      <td>2020-05-22 18:56:39+00:00</td>\n",
       "      <td>32152</td>\n",
       "      <td>25200</td>\n",
       "      <td>CBC</td>\n",
       "      <td>/m100_scratch/userexternal/squlagha/CaB3C3/job...</td>\n",
       "      <td>m100_usr_prod</td>\n",
       "      <td>80216</td>\n",
       "      <td>normal</td>\n",
       "      <td>360</td>\n",
       "      <td>32</td>\n",
       "      <td>8</td>\n",
       "      <td>cpu=256,mem=230000M,node=1,billing=256,gres/gpu=1</td>\n",
       "      <td>FAILED</td>\n",
       "    </tr>\n",
       "    <tr>\n",
       "      <th>4</th>\n",
       "      <td>2020-05-22 01:06:06+00:00</td>\n",
       "      <td>32171</td>\n",
       "      <td>25200</td>\n",
       "      <td>slurm_multinode_prova</td>\n",
       "      <td>/m100_scratch/userinternal/nshukla1/stream_CPU...</td>\n",
       "      <td>m100_usr_prod</td>\n",
       "      <td>86934</td>\n",
       "      <td>normal</td>\n",
       "      <td>10</td>\n",
       "      <td>4</td>\n",
       "      <td>1</td>\n",
       "      <td>cpu=4,mem=246000M,node=1,billing=4</td>\n",
       "      <td>COMPLETED</td>\n",
       "    </tr>\n",
       "    <tr>\n",
       "      <th>...</th>\n",
       "      <td>...</td>\n",
       "      <td>...</td>\n",
       "      <td>...</td>\n",
       "      <td>...</td>\n",
       "      <td>...</td>\n",
       "      <td>...</td>\n",
       "      <td>...</td>\n",
       "      <td>...</td>\n",
       "      <td>...</td>\n",
       "      <td>...</td>\n",
       "      <td>...</td>\n",
       "      <td>...</td>\n",
       "      <td>...</td>\n",
       "    </tr>\n",
       "    <tr>\n",
       "      <th>1016525</th>\n",
       "      <td>2020-10-08 20:31:23+00:00</td>\n",
       "      <td>32588</td>\n",
       "      <td>25200</td>\n",
       "      <td>sire_pjc</td>\n",
       "      <td>/m100_work/hpce3_Tosco/WANG_FULL_OFF_121/RERUN...</td>\n",
       "      <td>m100_usr_prod</td>\n",
       "      <td>297707</td>\n",
       "      <td>normal</td>\n",
       "      <td>720</td>\n",
       "      <td>1</td>\n",
       "      <td>4</td>\n",
       "      <td>cpu=4,mem=8000M,node=1,billing=4,gres/gpu=1</td>\n",
       "      <td>COMPLETED</td>\n",
       "    </tr>\n",
       "    <tr>\n",
       "      <th>1016526</th>\n",
       "      <td>2020-10-09 05:18:51+00:00</td>\n",
       "      <td>31392</td>\n",
       "      <td>25200</td>\n",
       "      <td>praAnt-run4-2m</td>\n",
       "      <td>/m100_work/IscrB_INwARDS_0/NR/NR3/PRant-Run4/r...</td>\n",
       "      <td>m100_usr_prod</td>\n",
       "      <td>145536</td>\n",
       "      <td>normal</td>\n",
       "      <td>1440</td>\n",
       "      <td>32</td>\n",
       "      <td>4</td>\n",
       "      <td>cpu=128,mem=237.50G,node=1,billing=128,gres/gpu=4</td>\n",
       "      <td>COMPLETED</td>\n",
       "    </tr>\n",
       "    <tr>\n",
       "      <th>1016527</th>\n",
       "      <td>2020-10-09 10:20:40+00:00</td>\n",
       "      <td>26429</td>\n",
       "      <td>25200</td>\n",
       "      <td>job_density.sh</td>\n",
       "      <td>/m100_scratch/userexternal/mfarnesi/CP2K_Inter...</td>\n",
       "      <td>m100_usr_prod</td>\n",
       "      <td>917</td>\n",
       "      <td>qos_lowprio</td>\n",
       "      <td>60</td>\n",
       "      <td>32</td>\n",
       "      <td>4</td>\n",
       "      <td>cpu=128,mem=230000M,node=1,billing=128,gres/gpu=4</td>\n",
       "      <td>FAILED</td>\n",
       "    </tr>\n",
       "    <tr>\n",
       "      <th>1016528</th>\n",
       "      <td>2020-10-09 01:36:42+00:00</td>\n",
       "      <td>32232</td>\n",
       "      <td>25200</td>\n",
       "      <td>script.marconi100.x</td>\n",
       "      <td>/m100/home/userexternal/nthomopu/script.marcon...</td>\n",
       "      <td>m100_usr_prod</td>\n",
       "      <td>330946</td>\n",
       "      <td>normal</td>\n",
       "      <td>10</td>\n",
       "      <td>1</td>\n",
       "      <td>8</td>\n",
       "      <td>cpu=8,mem=7100M,node=1,billing=8,gres/gpu=1</td>\n",
       "      <td>COMPLETED</td>\n",
       "    </tr>\n",
       "    <tr>\n",
       "      <th>1016529</th>\n",
       "      <td>2020-10-08 19:06:04+00:00</td>\n",
       "      <td>32588</td>\n",
       "      <td>25200</td>\n",
       "      <td>sire_pjc</td>\n",
       "      <td>/m100_work/hpce3_Tosco/VARIATION_TEST/MCL/L21/...</td>\n",
       "      <td>m100_usr_prod</td>\n",
       "      <td>301746</td>\n",
       "      <td>normal</td>\n",
       "      <td>720</td>\n",
       "      <td>1</td>\n",
       "      <td>4</td>\n",
       "      <td>cpu=4,mem=8000M,node=1,billing=4,gres/gpu=1</td>\n",
       "      <td>COMPLETED</td>\n",
       "    </tr>\n",
       "  </tbody>\n",
       "</table>\n",
       "<p>1016530 rows × 13 columns</p>\n",
       "</div>"
      ],
      "text/plain": [
       "                      submit_time user_id group_id                   name  \\\n",
       "0       2020-05-22 01:06:05+00:00   32171    25200  slurm_multinode_prova   \n",
       "1       2020-05-22 01:06:10+00:00   32171    25200  slurm_multinode_prova   \n",
       "2       2020-05-22 01:05:39+00:00   32171    25200  slurm_multinode_prova   \n",
       "3       2020-05-22 18:56:39+00:00   32152    25200                    CBC   \n",
       "4       2020-05-22 01:06:06+00:00   32171    25200  slurm_multinode_prova   \n",
       "...                           ...     ...      ...                    ...   \n",
       "1016525 2020-10-08 20:31:23+00:00   32588    25200               sire_pjc   \n",
       "1016526 2020-10-09 05:18:51+00:00   31392    25200         praAnt-run4-2m   \n",
       "1016527 2020-10-09 10:20:40+00:00   26429    25200         job_density.sh   \n",
       "1016528 2020-10-09 01:36:42+00:00   32232    25200    script.marconi100.x   \n",
       "1016529 2020-10-08 19:06:04+00:00   32588    25200               sire_pjc   \n",
       "\n",
       "                                                   command      partition  \\\n",
       "0        /m100_scratch/userinternal/nshukla1/stream_CPU...  m100_usr_prod   \n",
       "1        /m100_scratch/userinternal/nshukla1/stream_CPU...  m100_usr_prod   \n",
       "2        /m100_scratch/userinternal/nshukla1/stream_CPU...  m100_usr_prod   \n",
       "3        /m100_scratch/userexternal/squlagha/CaB3C3/job...  m100_usr_prod   \n",
       "4        /m100_scratch/userinternal/nshukla1/stream_CPU...  m100_usr_prod   \n",
       "...                                                    ...            ...   \n",
       "1016525  /m100_work/hpce3_Tosco/WANG_FULL_OFF_121/RERUN...  m100_usr_prod   \n",
       "1016526  /m100_work/IscrB_INwARDS_0/NR/NR3/PRant-Run4/r...  m100_usr_prod   \n",
       "1016527  /m100_scratch/userexternal/mfarnesi/CP2K_Inter...  m100_usr_prod   \n",
       "1016528  /m100/home/userexternal/nthomopu/script.marcon...  m100_usr_prod   \n",
       "1016529  /m100_work/hpce3_Tosco/VARIATION_TEST/MCL/L21/...  m100_usr_prod   \n",
       "\n",
       "        priority          qos time_limit cpus_per_task num_tasks  \\\n",
       "0          87034       normal         10             4         1   \n",
       "1          85884       normal         10             4         1   \n",
       "2         115982       normal         10             4         1   \n",
       "3          80216       normal        360            32         8   \n",
       "4          86934       normal         10             4         1   \n",
       "...          ...          ...        ...           ...       ...   \n",
       "1016525   297707       normal        720             1         4   \n",
       "1016526   145536       normal       1440            32         4   \n",
       "1016527      917  qos_lowprio         60            32         4   \n",
       "1016528   330946       normal         10             1         8   \n",
       "1016529   301746       normal        720             1         4   \n",
       "\n",
       "                                              tres_req_str  job_state  \n",
       "0                       cpu=4,mem=246000M,node=1,billing=4  COMPLETED  \n",
       "1                       cpu=4,mem=246000M,node=1,billing=4  COMPLETED  \n",
       "2                       cpu=4,mem=246000M,node=1,billing=4  COMPLETED  \n",
       "3        cpu=256,mem=230000M,node=1,billing=256,gres/gpu=1     FAILED  \n",
       "4                       cpu=4,mem=246000M,node=1,billing=4  COMPLETED  \n",
       "...                                                    ...        ...  \n",
       "1016525        cpu=4,mem=8000M,node=1,billing=4,gres/gpu=1  COMPLETED  \n",
       "1016526  cpu=128,mem=237.50G,node=1,billing=128,gres/gpu=4  COMPLETED  \n",
       "1016527  cpu=128,mem=230000M,node=1,billing=128,gres/gpu=4     FAILED  \n",
       "1016528        cpu=8,mem=7100M,node=1,billing=8,gres/gpu=1  COMPLETED  \n",
       "1016529        cpu=4,mem=8000M,node=1,billing=4,gres/gpu=1  COMPLETED  \n",
       "\n",
       "[1016530 rows x 13 columns]"
      ]
     },
     "execution_count": 6,
     "metadata": {},
     "output_type": "execute_result"
    }
   ],
   "source": [
    "columns = [\"submit_time\", \"user_id\", \"group_id\", \"name\", \"command\", \"partition\", \"priority\",\n",
    "           \"qos\", \"time_limit\", \"cpus_per_task\", 'num_tasks', \"tres_req_str\", \"job_state\"]\n",
    "\n",
    "# [\"cpus_per_tres\", \"num_cpus\", \"num_nodes\", \"ntasks_per_socket\", \"req_nodes\"]\n",
    "\n",
    "df = data[columns]\n",
    "df = df[df.tres_req_str != \"\"]\n",
    "df = df[(df.job_state != \"CANCELLED\") & (df.job_state != \"NODE_FAIL\")]\n",
    "df.reset_index(drop=True, inplace=True)\n",
    "df"
   ]
  },
  {
   "attachments": {},
   "cell_type": "markdown",
   "metadata": {},
   "source": [
    "Print number of  missing values per columns.."
   ]
  },
  {
   "cell_type": "code",
   "execution_count": 7,
   "metadata": {},
   "outputs": [
    {
     "name": "stdout",
     "output_type": "stream",
     "text": [
      "submit_time          0\n",
      "user_id              0\n",
      "group_id             0\n",
      "name                 0\n",
      "command           3584\n",
      "partition            0\n",
      "priority             0\n",
      "qos                  0\n",
      "time_limit           0\n",
      "cpus_per_task        0\n",
      "num_tasks        37945\n",
      "tres_req_str         0\n",
      "job_state            0\n",
      "dtype: int64\n",
      "Num of rows: 1016530\n"
     ]
    }
   ],
   "source": [
    "df = df.replace('', np.nan)\n",
    "print(df.isna().sum())\n",
    "prev_len = len(df)\n",
    "print(f\"Num of rows: {len(df)}\")"
   ]
  },
  {
   "attachments": {},
   "cell_type": "markdown",
   "metadata": {},
   "source": [
    "The presence of nan values in thi subset is not too much. In order to avoid problem after, drop all the rows that contains at leat a nan values."
   ]
  },
  {
   "cell_type": "code",
   "execution_count": 8,
   "metadata": {},
   "outputs": [
    {
     "name": "stdout",
     "output_type": "stream",
     "text": [
      "submit_time      0\n",
      "user_id          0\n",
      "group_id         0\n",
      "name             0\n",
      "command          0\n",
      "partition        0\n",
      "priority         0\n",
      "qos              0\n",
      "time_limit       0\n",
      "cpus_per_task    0\n",
      "num_tasks        0\n",
      "tres_req_str     0\n",
      "job_state        0\n",
      "dtype: int64\n",
      "Num of rows: 975170\n",
      "Dropped rows: 41360 (4.1%)\n"
     ]
    }
   ],
   "source": [
    "df = df.dropna().reset_index(drop=True)\n",
    "print(df.isna().sum())\n",
    "print(f\"Num of rows: {len(df)}\")\n",
    "print(f\"Dropped rows: {prev_len - len(df)} ({(1-(len(df)/prev_len)):.1%})\")"
   ]
  },
  {
   "attachments": {},
   "cell_type": "markdown",
   "metadata": {},
   "source": [
    "Set time zone to None, bacuse we are not interested in it. At the end, store the subset for the future."
   ]
  },
  {
   "cell_type": "code",
   "execution_count": 9,
   "metadata": {},
   "outputs": [],
   "source": [
    "df[\"submit_time\"] = df[\"submit_time\"].dt.tz_localize(None)\n",
    "df.to_pickle(\"data/job_table_reduced.pkl\")\n",
    "del data \n",
    "del df"
   ]
  },
  {
   "attachments": {},
   "cell_type": "markdown",
   "metadata": {},
   "source": [
    "## Data Preprocessing"
   ]
  },
  {
   "cell_type": "code",
   "execution_count": 3,
   "metadata": {},
   "outputs": [
    {
     "data": {
      "text/html": [
       "<div>\n",
       "<style scoped>\n",
       "    .dataframe tbody tr th:only-of-type {\n",
       "        vertical-align: middle;\n",
       "    }\n",
       "\n",
       "    .dataframe tbody tr th {\n",
       "        vertical-align: top;\n",
       "    }\n",
       "\n",
       "    .dataframe thead th {\n",
       "        text-align: right;\n",
       "    }\n",
       "</style>\n",
       "<table border=\"1\" class=\"dataframe\">\n",
       "  <thead>\n",
       "    <tr style=\"text-align: right;\">\n",
       "      <th></th>\n",
       "      <th>submit_time</th>\n",
       "      <th>user_id</th>\n",
       "      <th>group_id</th>\n",
       "      <th>name</th>\n",
       "      <th>command</th>\n",
       "      <th>partition</th>\n",
       "      <th>priority</th>\n",
       "      <th>qos</th>\n",
       "      <th>time_limit</th>\n",
       "      <th>cpus_per_task</th>\n",
       "      <th>num_tasks</th>\n",
       "      <th>tres_req_str</th>\n",
       "      <th>job_state</th>\n",
       "    </tr>\n",
       "  </thead>\n",
       "  <tbody>\n",
       "    <tr>\n",
       "      <th>0</th>\n",
       "      <td>2020-05-22 01:06:05</td>\n",
       "      <td>32171</td>\n",
       "      <td>25200</td>\n",
       "      <td>slurm_multinode_prova</td>\n",
       "      <td>/m100_scratch/userinternal/nshukla1/stream_CPU...</td>\n",
       "      <td>m100_usr_prod</td>\n",
       "      <td>87034</td>\n",
       "      <td>normal</td>\n",
       "      <td>10</td>\n",
       "      <td>4</td>\n",
       "      <td>1</td>\n",
       "      <td>cpu=4,mem=246000M,node=1,billing=4</td>\n",
       "      <td>COMPLETED</td>\n",
       "    </tr>\n",
       "    <tr>\n",
       "      <th>1</th>\n",
       "      <td>2020-05-22 01:06:10</td>\n",
       "      <td>32171</td>\n",
       "      <td>25200</td>\n",
       "      <td>slurm_multinode_prova</td>\n",
       "      <td>/m100_scratch/userinternal/nshukla1/stream_CPU...</td>\n",
       "      <td>m100_usr_prod</td>\n",
       "      <td>85884</td>\n",
       "      <td>normal</td>\n",
       "      <td>10</td>\n",
       "      <td>4</td>\n",
       "      <td>1</td>\n",
       "      <td>cpu=4,mem=246000M,node=1,billing=4</td>\n",
       "      <td>COMPLETED</td>\n",
       "    </tr>\n",
       "    <tr>\n",
       "      <th>2</th>\n",
       "      <td>2020-05-22 01:05:39</td>\n",
       "      <td>32171</td>\n",
       "      <td>25200</td>\n",
       "      <td>slurm_multinode_prova</td>\n",
       "      <td>/m100_scratch/userinternal/nshukla1/stream_CPU...</td>\n",
       "      <td>m100_usr_prod</td>\n",
       "      <td>115982</td>\n",
       "      <td>normal</td>\n",
       "      <td>10</td>\n",
       "      <td>4</td>\n",
       "      <td>1</td>\n",
       "      <td>cpu=4,mem=246000M,node=1,billing=4</td>\n",
       "      <td>COMPLETED</td>\n",
       "    </tr>\n",
       "    <tr>\n",
       "      <th>3</th>\n",
       "      <td>2020-05-22 18:56:39</td>\n",
       "      <td>32152</td>\n",
       "      <td>25200</td>\n",
       "      <td>CBC</td>\n",
       "      <td>/m100_scratch/userexternal/squlagha/CaB3C3/job...</td>\n",
       "      <td>m100_usr_prod</td>\n",
       "      <td>80216</td>\n",
       "      <td>normal</td>\n",
       "      <td>360</td>\n",
       "      <td>32</td>\n",
       "      <td>8</td>\n",
       "      <td>cpu=256,mem=230000M,node=1,billing=256,gres/gpu=1</td>\n",
       "      <td>FAILED</td>\n",
       "    </tr>\n",
       "    <tr>\n",
       "      <th>4</th>\n",
       "      <td>2020-05-22 01:06:06</td>\n",
       "      <td>32171</td>\n",
       "      <td>25200</td>\n",
       "      <td>slurm_multinode_prova</td>\n",
       "      <td>/m100_scratch/userinternal/nshukla1/stream_CPU...</td>\n",
       "      <td>m100_usr_prod</td>\n",
       "      <td>86934</td>\n",
       "      <td>normal</td>\n",
       "      <td>10</td>\n",
       "      <td>4</td>\n",
       "      <td>1</td>\n",
       "      <td>cpu=4,mem=246000M,node=1,billing=4</td>\n",
       "      <td>COMPLETED</td>\n",
       "    </tr>\n",
       "  </tbody>\n",
       "</table>\n",
       "</div>"
      ],
      "text/plain": [
       "          submit_time user_id group_id                   name  \\\n",
       "0 2020-05-22 01:06:05   32171    25200  slurm_multinode_prova   \n",
       "1 2020-05-22 01:06:10   32171    25200  slurm_multinode_prova   \n",
       "2 2020-05-22 01:05:39   32171    25200  slurm_multinode_prova   \n",
       "3 2020-05-22 18:56:39   32152    25200                    CBC   \n",
       "4 2020-05-22 01:06:06   32171    25200  slurm_multinode_prova   \n",
       "\n",
       "                                             command      partition priority  \\\n",
       "0  /m100_scratch/userinternal/nshukla1/stream_CPU...  m100_usr_prod    87034   \n",
       "1  /m100_scratch/userinternal/nshukla1/stream_CPU...  m100_usr_prod    85884   \n",
       "2  /m100_scratch/userinternal/nshukla1/stream_CPU...  m100_usr_prod   115982   \n",
       "3  /m100_scratch/userexternal/squlagha/CaB3C3/job...  m100_usr_prod    80216   \n",
       "4  /m100_scratch/userinternal/nshukla1/stream_CPU...  m100_usr_prod    86934   \n",
       "\n",
       "      qos time_limit cpus_per_task num_tasks  \\\n",
       "0  normal         10             4         1   \n",
       "1  normal         10             4         1   \n",
       "2  normal         10             4         1   \n",
       "3  normal        360            32         8   \n",
       "4  normal         10             4         1   \n",
       "\n",
       "                                        tres_req_str  job_state  \n",
       "0                 cpu=4,mem=246000M,node=1,billing=4  COMPLETED  \n",
       "1                 cpu=4,mem=246000M,node=1,billing=4  COMPLETED  \n",
       "2                 cpu=4,mem=246000M,node=1,billing=4  COMPLETED  \n",
       "3  cpu=256,mem=230000M,node=1,billing=256,gres/gpu=1     FAILED  \n",
       "4                 cpu=4,mem=246000M,node=1,billing=4  COMPLETED  "
      ]
     },
     "execution_count": 3,
     "metadata": {},
     "output_type": "execute_result"
    }
   ],
   "source": [
    "df =pd.read_pickle(\"data/job_table_reduced.pkl\")\n",
    "df.head()"
   ]
  },
  {
   "attachments": {},
   "cell_type": "markdown",
   "metadata": {},
   "source": [
    "As you can see from above table, not all the faetures are numeric, but there are a lot of text data. This type of date don't suit very well for learning algorithm, so fix it.\n",
    "\n",
    "Start with those data types that are text, convert it into a number."
   ]
  },
  {
   "cell_type": "code",
   "execution_count": 30,
   "metadata": {},
   "outputs": [
    {
     "name": "stdout",
     "output_type": "stream",
     "text": [
      "Text columns transformed: ['name', 'command', 'partition', 'qos']\n"
     ]
    },
    {
     "data": {
      "text/html": [
       "<div>\n",
       "<style scoped>\n",
       "    .dataframe tbody tr th:only-of-type {\n",
       "        vertical-align: middle;\n",
       "    }\n",
       "\n",
       "    .dataframe tbody tr th {\n",
       "        vertical-align: top;\n",
       "    }\n",
       "\n",
       "    .dataframe thead th {\n",
       "        text-align: right;\n",
       "    }\n",
       "</style>\n",
       "<table border=\"1\" class=\"dataframe\">\n",
       "  <thead>\n",
       "    <tr style=\"text-align: right;\">\n",
       "      <th></th>\n",
       "      <th>submit_time</th>\n",
       "      <th>user_id</th>\n",
       "      <th>group_id</th>\n",
       "      <th>name</th>\n",
       "      <th>command</th>\n",
       "      <th>partition</th>\n",
       "      <th>priority</th>\n",
       "      <th>qos</th>\n",
       "      <th>time_limit</th>\n",
       "      <th>cpus_per_task</th>\n",
       "      <th>num_tasks</th>\n",
       "      <th>tres_req_str</th>\n",
       "      <th>job_state</th>\n",
       "    </tr>\n",
       "  </thead>\n",
       "  <tbody>\n",
       "    <tr>\n",
       "      <th>0</th>\n",
       "      <td>2020-05-22 01:06:05</td>\n",
       "      <td>32171</td>\n",
       "      <td>25200</td>\n",
       "      <td>77949</td>\n",
       "      <td>62668</td>\n",
       "      <td>3</td>\n",
       "      <td>87034</td>\n",
       "      <td>4</td>\n",
       "      <td>10</td>\n",
       "      <td>4</td>\n",
       "      <td>1</td>\n",
       "      <td>cpu=4,mem=246000M,node=1,billing=4</td>\n",
       "      <td>COMPLETED</td>\n",
       "    </tr>\n",
       "    <tr>\n",
       "      <th>1</th>\n",
       "      <td>2020-05-22 01:06:10</td>\n",
       "      <td>32171</td>\n",
       "      <td>25200</td>\n",
       "      <td>77949</td>\n",
       "      <td>62782</td>\n",
       "      <td>3</td>\n",
       "      <td>85884</td>\n",
       "      <td>4</td>\n",
       "      <td>10</td>\n",
       "      <td>4</td>\n",
       "      <td>1</td>\n",
       "      <td>cpu=4,mem=246000M,node=1,billing=4</td>\n",
       "      <td>COMPLETED</td>\n",
       "    </tr>\n",
       "    <tr>\n",
       "      <th>2</th>\n",
       "      <td>2020-05-22 01:05:39</td>\n",
       "      <td>32171</td>\n",
       "      <td>25200</td>\n",
       "      <td>77949</td>\n",
       "      <td>62085</td>\n",
       "      <td>3</td>\n",
       "      <td>115982</td>\n",
       "      <td>4</td>\n",
       "      <td>10</td>\n",
       "      <td>4</td>\n",
       "      <td>1</td>\n",
       "      <td>cpu=4,mem=246000M,node=1,billing=4</td>\n",
       "      <td>COMPLETED</td>\n",
       "    </tr>\n",
       "    <tr>\n",
       "      <th>3</th>\n",
       "      <td>2020-05-22 18:56:39</td>\n",
       "      <td>32152</td>\n",
       "      <td>25200</td>\n",
       "      <td>30918</td>\n",
       "      <td>51406</td>\n",
       "      <td>3</td>\n",
       "      <td>80216</td>\n",
       "      <td>4</td>\n",
       "      <td>360</td>\n",
       "      <td>32</td>\n",
       "      <td>8</td>\n",
       "      <td>cpu=256,mem=230000M,node=1,billing=256,gres/gpu=1</td>\n",
       "      <td>FAILED</td>\n",
       "    </tr>\n",
       "    <tr>\n",
       "      <th>4</th>\n",
       "      <td>2020-05-22 01:06:06</td>\n",
       "      <td>32171</td>\n",
       "      <td>25200</td>\n",
       "      <td>77949</td>\n",
       "      <td>62678</td>\n",
       "      <td>3</td>\n",
       "      <td>86934</td>\n",
       "      <td>4</td>\n",
       "      <td>10</td>\n",
       "      <td>4</td>\n",
       "      <td>1</td>\n",
       "      <td>cpu=4,mem=246000M,node=1,billing=4</td>\n",
       "      <td>COMPLETED</td>\n",
       "    </tr>\n",
       "  </tbody>\n",
       "</table>\n",
       "</div>"
      ],
      "text/plain": [
       "          submit_time  user_id  group_id   name  command  partition  priority  \\\n",
       "0 2020-05-22 01:06:05    32171     25200  77949    62668          3     87034   \n",
       "1 2020-05-22 01:06:10    32171     25200  77949    62782          3     85884   \n",
       "2 2020-05-22 01:05:39    32171     25200  77949    62085          3    115982   \n",
       "3 2020-05-22 18:56:39    32152     25200  30918    51406          3     80216   \n",
       "4 2020-05-22 01:06:06    32171     25200  77949    62678          3     86934   \n",
       "\n",
       "   qos  time_limit  cpus_per_task  num_tasks  \\\n",
       "0    4          10              4          1   \n",
       "1    4          10              4          1   \n",
       "2    4          10              4          1   \n",
       "3    4         360             32          8   \n",
       "4    4          10              4          1   \n",
       "\n",
       "                                        tres_req_str  job_state  \n",
       "0                 cpu=4,mem=246000M,node=1,billing=4  COMPLETED  \n",
       "1                 cpu=4,mem=246000M,node=1,billing=4  COMPLETED  \n",
       "2                 cpu=4,mem=246000M,node=1,billing=4  COMPLETED  \n",
       "3  cpu=256,mem=230000M,node=1,billing=256,gres/gpu=1     FAILED  \n",
       "4                 cpu=4,mem=246000M,node=1,billing=4  COMPLETED  "
      ]
     },
     "metadata": {},
     "output_type": "display_data"
    },
    {
     "name": "stdout",
     "output_type": "stream",
     "text": [
      "Number of unique values in name columns: 78586\n",
      "Number of unique values in command columns: 238768\n",
      "Number of unique values in partition columns: 4\n",
      "Number of unique values in qos columns: 8\n"
     ]
    }
   ],
   "source": [
    "text_columns = [\"name\", \"command\", \"partition\", \"qos\"]\n",
    "ord_enc =  OrdinalEncoder(dtype=np.int64)\n",
    "for col in text_columns:\n",
    "    val = df[col].values.reshape(-1, 1)\n",
    "    df[col] = ord_enc.fit_transform(val)\n",
    "print(f\"Text columns transformed: {text_columns}\")\n",
    "\n",
    "df[df.columns[1:-2]] = df[df.columns[1:-2]].apply(pd.to_numeric)\n",
    "\n",
    "display(df.head())\n",
    "for col in text_columns:\n",
    "    print(f\"Number of unique values in {col} columns: {len(df[col].unique())}\")"
   ]
  },
  {
   "attachments": {},
   "cell_type": "markdown",
   "metadata": {},
   "source": [
    "Watching the above values, we can say that for **partition** and **qos** columns integer encodig is perfect due their few unique values. For the other 2 instead, it may be the case to find a better way in the feature to improve performance.\n",
    "\n",
    "Now, for the **tres_req_str** we decide to split this column into 5 different columns: **req_cpu**, **req_mem**, **req_node**, **req_billing**, **req_gpu**. Each column is been filled with the value after the \"=\" and if not present with a 0. An example of string is and the corresponding splittig is:<br>\n",
    "cpu=256,mem=230000M,node=1,billing=256,gres/gpu=1\n",
    "| req_cpu | req_mem | req_node | req_billing | req_gpu |\n",
    "|---------|---------|----------|-------------|---------|\n",
    "| 256     | 230000  | 1        | 256         | 1       |"
   ]
  },
  {
   "cell_type": "code",
   "execution_count": 31,
   "metadata": {},
   "outputs": [
    {
     "data": {
      "text/html": [
       "<div>\n",
       "<style scoped>\n",
       "    .dataframe tbody tr th:only-of-type {\n",
       "        vertical-align: middle;\n",
       "    }\n",
       "\n",
       "    .dataframe tbody tr th {\n",
       "        vertical-align: top;\n",
       "    }\n",
       "\n",
       "    .dataframe thead th {\n",
       "        text-align: right;\n",
       "    }\n",
       "</style>\n",
       "<table border=\"1\" class=\"dataframe\">\n",
       "  <thead>\n",
       "    <tr style=\"text-align: right;\">\n",
       "      <th></th>\n",
       "      <th>submit_time</th>\n",
       "      <th>user_id</th>\n",
       "      <th>group_id</th>\n",
       "      <th>name</th>\n",
       "      <th>command</th>\n",
       "      <th>partition</th>\n",
       "      <th>priority</th>\n",
       "      <th>qos</th>\n",
       "      <th>time_limit</th>\n",
       "      <th>cpus_per_task</th>\n",
       "      <th>num_tasks</th>\n",
       "      <th>req_cpu</th>\n",
       "      <th>req_mem</th>\n",
       "      <th>req_node</th>\n",
       "      <th>req_billing</th>\n",
       "      <th>req_gpu</th>\n",
       "      <th>job_state</th>\n",
       "    </tr>\n",
       "  </thead>\n",
       "  <tbody>\n",
       "    <tr>\n",
       "      <th>0</th>\n",
       "      <td>2020-05-22 01:06:05</td>\n",
       "      <td>32171</td>\n",
       "      <td>25200</td>\n",
       "      <td>77949</td>\n",
       "      <td>62668</td>\n",
       "      <td>3</td>\n",
       "      <td>87034</td>\n",
       "      <td>4</td>\n",
       "      <td>10</td>\n",
       "      <td>4</td>\n",
       "      <td>1</td>\n",
       "      <td>4</td>\n",
       "      <td>246000.0</td>\n",
       "      <td>1</td>\n",
       "      <td>4</td>\n",
       "      <td>0</td>\n",
       "      <td>COMPLETED</td>\n",
       "    </tr>\n",
       "    <tr>\n",
       "      <th>1</th>\n",
       "      <td>2020-05-22 01:06:10</td>\n",
       "      <td>32171</td>\n",
       "      <td>25200</td>\n",
       "      <td>77949</td>\n",
       "      <td>62782</td>\n",
       "      <td>3</td>\n",
       "      <td>85884</td>\n",
       "      <td>4</td>\n",
       "      <td>10</td>\n",
       "      <td>4</td>\n",
       "      <td>1</td>\n",
       "      <td>4</td>\n",
       "      <td>246000.0</td>\n",
       "      <td>1</td>\n",
       "      <td>4</td>\n",
       "      <td>0</td>\n",
       "      <td>COMPLETED</td>\n",
       "    </tr>\n",
       "    <tr>\n",
       "      <th>2</th>\n",
       "      <td>2020-05-22 01:05:39</td>\n",
       "      <td>32171</td>\n",
       "      <td>25200</td>\n",
       "      <td>77949</td>\n",
       "      <td>62085</td>\n",
       "      <td>3</td>\n",
       "      <td>115982</td>\n",
       "      <td>4</td>\n",
       "      <td>10</td>\n",
       "      <td>4</td>\n",
       "      <td>1</td>\n",
       "      <td>4</td>\n",
       "      <td>246000.0</td>\n",
       "      <td>1</td>\n",
       "      <td>4</td>\n",
       "      <td>0</td>\n",
       "      <td>COMPLETED</td>\n",
       "    </tr>\n",
       "    <tr>\n",
       "      <th>3</th>\n",
       "      <td>2020-05-22 18:56:39</td>\n",
       "      <td>32152</td>\n",
       "      <td>25200</td>\n",
       "      <td>30918</td>\n",
       "      <td>51406</td>\n",
       "      <td>3</td>\n",
       "      <td>80216</td>\n",
       "      <td>4</td>\n",
       "      <td>360</td>\n",
       "      <td>32</td>\n",
       "      <td>8</td>\n",
       "      <td>256</td>\n",
       "      <td>230000.0</td>\n",
       "      <td>1</td>\n",
       "      <td>256</td>\n",
       "      <td>1</td>\n",
       "      <td>FAILED</td>\n",
       "    </tr>\n",
       "    <tr>\n",
       "      <th>4</th>\n",
       "      <td>2020-05-22 01:06:06</td>\n",
       "      <td>32171</td>\n",
       "      <td>25200</td>\n",
       "      <td>77949</td>\n",
       "      <td>62678</td>\n",
       "      <td>3</td>\n",
       "      <td>86934</td>\n",
       "      <td>4</td>\n",
       "      <td>10</td>\n",
       "      <td>4</td>\n",
       "      <td>1</td>\n",
       "      <td>4</td>\n",
       "      <td>246000.0</td>\n",
       "      <td>1</td>\n",
       "      <td>4</td>\n",
       "      <td>0</td>\n",
       "      <td>COMPLETED</td>\n",
       "    </tr>\n",
       "  </tbody>\n",
       "</table>\n",
       "</div>"
      ],
      "text/plain": [
       "          submit_time  user_id  group_id   name  command  partition  priority  \\\n",
       "0 2020-05-22 01:06:05    32171     25200  77949    62668          3     87034   \n",
       "1 2020-05-22 01:06:10    32171     25200  77949    62782          3     85884   \n",
       "2 2020-05-22 01:05:39    32171     25200  77949    62085          3    115982   \n",
       "3 2020-05-22 18:56:39    32152     25200  30918    51406          3     80216   \n",
       "4 2020-05-22 01:06:06    32171     25200  77949    62678          3     86934   \n",
       "\n",
       "   qos  time_limit  cpus_per_task  num_tasks  req_cpu   req_mem  req_node  \\\n",
       "0    4          10              4          1        4  246000.0         1   \n",
       "1    4          10              4          1        4  246000.0         1   \n",
       "2    4          10              4          1        4  246000.0         1   \n",
       "3    4         360             32          8      256  230000.0         1   \n",
       "4    4          10              4          1        4  246000.0         1   \n",
       "\n",
       "   req_billing  req_gpu  job_state  \n",
       "0            4        0  COMPLETED  \n",
       "1            4        0  COMPLETED  \n",
       "2            4        0  COMPLETED  \n",
       "3          256        1     FAILED  \n",
       "4            4        0  COMPLETED  "
      ]
     },
     "execution_count": 31,
     "metadata": {},
     "output_type": "execute_result"
    }
   ],
   "source": [
    "labels = df.pop(\"job_state\")\n",
    "\n",
    "fields = [\"req_cpu\", \"req_mem\", \"req_node\", \"req_billing\", \"req_gpu\"]\n",
    "req_str = df.pop('tres_req_str')\n",
    "df[fields] = req_str.str.split(',', n=5, expand=True)\n",
    "for f in fields:\n",
    "    df[f] = df[f].apply(lambda c: re.sub(\"[a-zA-Z=/]\", \"\", c) if c is not None else 0)\n",
    "    \n",
    "df[fields] = df[fields].apply(pd.to_numeric)   \n",
    "    \n",
    "df[\"job_state\"] = labels.astype(str)\n",
    "\n",
    "df.head()"
   ]
  },
  {
   "cell_type": "markdown",
   "metadata": {},
   "source": [
    "Last column to preprocess is *submit_time*. For this column, we will use the proleptic Gregorian ordinal, so the count from the the day 1 of the month 1 of th year 1."
   ]
  },
  {
   "cell_type": "code",
   "execution_count": 32,
   "metadata": {},
   "outputs": [
    {
     "data": {
      "text/html": [
       "<div>\n",
       "<style scoped>\n",
       "    .dataframe tbody tr th:only-of-type {\n",
       "        vertical-align: middle;\n",
       "    }\n",
       "\n",
       "    .dataframe tbody tr th {\n",
       "        vertical-align: top;\n",
       "    }\n",
       "\n",
       "    .dataframe thead th {\n",
       "        text-align: right;\n",
       "    }\n",
       "</style>\n",
       "<table border=\"1\" class=\"dataframe\">\n",
       "  <thead>\n",
       "    <tr style=\"text-align: right;\">\n",
       "      <th></th>\n",
       "      <th>submit_time</th>\n",
       "      <th>user_id</th>\n",
       "      <th>group_id</th>\n",
       "      <th>name</th>\n",
       "      <th>command</th>\n",
       "      <th>partition</th>\n",
       "      <th>priority</th>\n",
       "      <th>qos</th>\n",
       "      <th>time_limit</th>\n",
       "      <th>cpus_per_task</th>\n",
       "      <th>num_tasks</th>\n",
       "      <th>req_cpu</th>\n",
       "      <th>req_mem</th>\n",
       "      <th>req_node</th>\n",
       "      <th>req_billing</th>\n",
       "      <th>req_gpu</th>\n",
       "      <th>job_state</th>\n",
       "    </tr>\n",
       "  </thead>\n",
       "  <tbody>\n",
       "    <tr>\n",
       "      <th>0</th>\n",
       "      <td>737567</td>\n",
       "      <td>32171</td>\n",
       "      <td>25200</td>\n",
       "      <td>77949</td>\n",
       "      <td>62668</td>\n",
       "      <td>3</td>\n",
       "      <td>87034</td>\n",
       "      <td>4</td>\n",
       "      <td>10</td>\n",
       "      <td>4</td>\n",
       "      <td>1</td>\n",
       "      <td>4</td>\n",
       "      <td>246000.0</td>\n",
       "      <td>1</td>\n",
       "      <td>4</td>\n",
       "      <td>0</td>\n",
       "      <td>COMPLETED</td>\n",
       "    </tr>\n",
       "    <tr>\n",
       "      <th>1</th>\n",
       "      <td>737567</td>\n",
       "      <td>32171</td>\n",
       "      <td>25200</td>\n",
       "      <td>77949</td>\n",
       "      <td>62782</td>\n",
       "      <td>3</td>\n",
       "      <td>85884</td>\n",
       "      <td>4</td>\n",
       "      <td>10</td>\n",
       "      <td>4</td>\n",
       "      <td>1</td>\n",
       "      <td>4</td>\n",
       "      <td>246000.0</td>\n",
       "      <td>1</td>\n",
       "      <td>4</td>\n",
       "      <td>0</td>\n",
       "      <td>COMPLETED</td>\n",
       "    </tr>\n",
       "    <tr>\n",
       "      <th>2</th>\n",
       "      <td>737567</td>\n",
       "      <td>32171</td>\n",
       "      <td>25200</td>\n",
       "      <td>77949</td>\n",
       "      <td>62085</td>\n",
       "      <td>3</td>\n",
       "      <td>115982</td>\n",
       "      <td>4</td>\n",
       "      <td>10</td>\n",
       "      <td>4</td>\n",
       "      <td>1</td>\n",
       "      <td>4</td>\n",
       "      <td>246000.0</td>\n",
       "      <td>1</td>\n",
       "      <td>4</td>\n",
       "      <td>0</td>\n",
       "      <td>COMPLETED</td>\n",
       "    </tr>\n",
       "    <tr>\n",
       "      <th>3</th>\n",
       "      <td>737567</td>\n",
       "      <td>32152</td>\n",
       "      <td>25200</td>\n",
       "      <td>30918</td>\n",
       "      <td>51406</td>\n",
       "      <td>3</td>\n",
       "      <td>80216</td>\n",
       "      <td>4</td>\n",
       "      <td>360</td>\n",
       "      <td>32</td>\n",
       "      <td>8</td>\n",
       "      <td>256</td>\n",
       "      <td>230000.0</td>\n",
       "      <td>1</td>\n",
       "      <td>256</td>\n",
       "      <td>1</td>\n",
       "      <td>FAILED</td>\n",
       "    </tr>\n",
       "    <tr>\n",
       "      <th>4</th>\n",
       "      <td>737567</td>\n",
       "      <td>32171</td>\n",
       "      <td>25200</td>\n",
       "      <td>77949</td>\n",
       "      <td>62678</td>\n",
       "      <td>3</td>\n",
       "      <td>86934</td>\n",
       "      <td>4</td>\n",
       "      <td>10</td>\n",
       "      <td>4</td>\n",
       "      <td>1</td>\n",
       "      <td>4</td>\n",
       "      <td>246000.0</td>\n",
       "      <td>1</td>\n",
       "      <td>4</td>\n",
       "      <td>0</td>\n",
       "      <td>COMPLETED</td>\n",
       "    </tr>\n",
       "  </tbody>\n",
       "</table>\n",
       "</div>"
      ],
      "text/plain": [
       "   submit_time  user_id  group_id   name  command  partition  priority  qos  \\\n",
       "0       737567    32171     25200  77949    62668          3     87034    4   \n",
       "1       737567    32171     25200  77949    62782          3     85884    4   \n",
       "2       737567    32171     25200  77949    62085          3    115982    4   \n",
       "3       737567    32152     25200  30918    51406          3     80216    4   \n",
       "4       737567    32171     25200  77949    62678          3     86934    4   \n",
       "\n",
       "   time_limit  cpus_per_task  num_tasks  req_cpu   req_mem  req_node  \\\n",
       "0          10              4          1        4  246000.0         1   \n",
       "1          10              4          1        4  246000.0         1   \n",
       "2          10              4          1        4  246000.0         1   \n",
       "3         360             32          8      256  230000.0         1   \n",
       "4          10              4          1        4  246000.0         1   \n",
       "\n",
       "   req_billing  req_gpu  job_state  \n",
       "0            4        0  COMPLETED  \n",
       "1            4        0  COMPLETED  \n",
       "2            4        0  COMPLETED  \n",
       "3          256        1     FAILED  \n",
       "4            4        0  COMPLETED  "
      ]
     },
     "execution_count": 32,
     "metadata": {},
     "output_type": "execute_result"
    }
   ],
   "source": [
    "df[\"submit_time\"] = df[\"submit_time\"].apply(lambda c: c.toordinal())\n",
    "df.head(5)"
   ]
  },
  {
   "cell_type": "markdown",
   "metadata": {},
   "source": [
    "Save the data for the future."
   ]
  },
  {
   "cell_type": "code",
   "execution_count": 33,
   "metadata": {},
   "outputs": [],
   "source": [
    "df.to_pickle(\"data/job_table_preproc.pkl\")\n",
    "del df"
   ]
  },
  {
   "attachments": {},
   "cell_type": "markdown",
   "metadata": {},
   "source": [
    "## Data Anlaysis"
   ]
  },
  {
   "cell_type": "code",
   "execution_count": 4,
   "metadata": {},
   "outputs": [
    {
     "data": {
      "text/html": [
       "<div>\n",
       "<style scoped>\n",
       "    .dataframe tbody tr th:only-of-type {\n",
       "        vertical-align: middle;\n",
       "    }\n",
       "\n",
       "    .dataframe tbody tr th {\n",
       "        vertical-align: top;\n",
       "    }\n",
       "\n",
       "    .dataframe thead th {\n",
       "        text-align: right;\n",
       "    }\n",
       "</style>\n",
       "<table border=\"1\" class=\"dataframe\">\n",
       "  <thead>\n",
       "    <tr style=\"text-align: right;\">\n",
       "      <th></th>\n",
       "      <th>submit_time</th>\n",
       "      <th>user_id</th>\n",
       "      <th>group_id</th>\n",
       "      <th>name</th>\n",
       "      <th>command</th>\n",
       "      <th>partition</th>\n",
       "      <th>priority</th>\n",
       "      <th>qos</th>\n",
       "      <th>time_limit</th>\n",
       "      <th>cpus_per_task</th>\n",
       "      <th>num_tasks</th>\n",
       "      <th>req_cpu</th>\n",
       "      <th>req_mem</th>\n",
       "      <th>req_node</th>\n",
       "      <th>req_billing</th>\n",
       "      <th>req_gpu</th>\n",
       "      <th>job_state</th>\n",
       "    </tr>\n",
       "  </thead>\n",
       "  <tbody>\n",
       "    <tr>\n",
       "      <th>0</th>\n",
       "      <td>737567</td>\n",
       "      <td>32171</td>\n",
       "      <td>25200</td>\n",
       "      <td>77949</td>\n",
       "      <td>62668</td>\n",
       "      <td>3</td>\n",
       "      <td>87034</td>\n",
       "      <td>4</td>\n",
       "      <td>10</td>\n",
       "      <td>4</td>\n",
       "      <td>1</td>\n",
       "      <td>4</td>\n",
       "      <td>246000.0</td>\n",
       "      <td>1</td>\n",
       "      <td>4</td>\n",
       "      <td>0</td>\n",
       "      <td>COMPLETED</td>\n",
       "    </tr>\n",
       "    <tr>\n",
       "      <th>1</th>\n",
       "      <td>737567</td>\n",
       "      <td>32171</td>\n",
       "      <td>25200</td>\n",
       "      <td>77949</td>\n",
       "      <td>62782</td>\n",
       "      <td>3</td>\n",
       "      <td>85884</td>\n",
       "      <td>4</td>\n",
       "      <td>10</td>\n",
       "      <td>4</td>\n",
       "      <td>1</td>\n",
       "      <td>4</td>\n",
       "      <td>246000.0</td>\n",
       "      <td>1</td>\n",
       "      <td>4</td>\n",
       "      <td>0</td>\n",
       "      <td>COMPLETED</td>\n",
       "    </tr>\n",
       "    <tr>\n",
       "      <th>2</th>\n",
       "      <td>737567</td>\n",
       "      <td>32171</td>\n",
       "      <td>25200</td>\n",
       "      <td>77949</td>\n",
       "      <td>62085</td>\n",
       "      <td>3</td>\n",
       "      <td>115982</td>\n",
       "      <td>4</td>\n",
       "      <td>10</td>\n",
       "      <td>4</td>\n",
       "      <td>1</td>\n",
       "      <td>4</td>\n",
       "      <td>246000.0</td>\n",
       "      <td>1</td>\n",
       "      <td>4</td>\n",
       "      <td>0</td>\n",
       "      <td>COMPLETED</td>\n",
       "    </tr>\n",
       "    <tr>\n",
       "      <th>3</th>\n",
       "      <td>737567</td>\n",
       "      <td>32152</td>\n",
       "      <td>25200</td>\n",
       "      <td>30918</td>\n",
       "      <td>51406</td>\n",
       "      <td>3</td>\n",
       "      <td>80216</td>\n",
       "      <td>4</td>\n",
       "      <td>360</td>\n",
       "      <td>32</td>\n",
       "      <td>8</td>\n",
       "      <td>256</td>\n",
       "      <td>230000.0</td>\n",
       "      <td>1</td>\n",
       "      <td>256</td>\n",
       "      <td>1</td>\n",
       "      <td>FAILED</td>\n",
       "    </tr>\n",
       "    <tr>\n",
       "      <th>4</th>\n",
       "      <td>737567</td>\n",
       "      <td>32171</td>\n",
       "      <td>25200</td>\n",
       "      <td>77949</td>\n",
       "      <td>62678</td>\n",
       "      <td>3</td>\n",
       "      <td>86934</td>\n",
       "      <td>4</td>\n",
       "      <td>10</td>\n",
       "      <td>4</td>\n",
       "      <td>1</td>\n",
       "      <td>4</td>\n",
       "      <td>246000.0</td>\n",
       "      <td>1</td>\n",
       "      <td>4</td>\n",
       "      <td>0</td>\n",
       "      <td>COMPLETED</td>\n",
       "    </tr>\n",
       "  </tbody>\n",
       "</table>\n",
       "</div>"
      ],
      "text/plain": [
       "   submit_time  user_id  group_id   name  command  partition  priority  qos  \\\n",
       "0       737567    32171     25200  77949    62668          3     87034    4   \n",
       "1       737567    32171     25200  77949    62782          3     85884    4   \n",
       "2       737567    32171     25200  77949    62085          3    115982    4   \n",
       "3       737567    32152     25200  30918    51406          3     80216    4   \n",
       "4       737567    32171     25200  77949    62678          3     86934    4   \n",
       "\n",
       "   time_limit  cpus_per_task  num_tasks  req_cpu   req_mem  req_node  \\\n",
       "0          10              4          1        4  246000.0         1   \n",
       "1          10              4          1        4  246000.0         1   \n",
       "2          10              4          1        4  246000.0         1   \n",
       "3         360             32          8      256  230000.0         1   \n",
       "4          10              4          1        4  246000.0         1   \n",
       "\n",
       "   req_billing  req_gpu  job_state  \n",
       "0            4        0  COMPLETED  \n",
       "1            4        0  COMPLETED  \n",
       "2            4        0  COMPLETED  \n",
       "3          256        1     FAILED  \n",
       "4            4        0  COMPLETED  "
      ]
     },
     "execution_count": 4,
     "metadata": {},
     "output_type": "execute_result"
    }
   ],
   "source": [
    "df = pd.read_pickle(\"data/job_table_preproc.pkl\")\n",
    "df.head()"
   ]
  },
  {
   "cell_type": "markdown",
   "metadata": {},
   "source": [
    "Print some statistics..."
   ]
  },
  {
   "cell_type": "code",
   "execution_count": 13,
   "metadata": {},
   "outputs": [
    {
     "data": {
      "text/html": [
       "<div>\n",
       "<style scoped>\n",
       "    .dataframe tbody tr th:only-of-type {\n",
       "        vertical-align: middle;\n",
       "    }\n",
       "\n",
       "    .dataframe tbody tr th {\n",
       "        vertical-align: top;\n",
       "    }\n",
       "\n",
       "    .dataframe thead th {\n",
       "        text-align: right;\n",
       "    }\n",
       "</style>\n",
       "<table border=\"1\" class=\"dataframe\">\n",
       "  <thead>\n",
       "    <tr style=\"text-align: right;\">\n",
       "      <th></th>\n",
       "      <th>count</th>\n",
       "      <th>mean</th>\n",
       "      <th>std</th>\n",
       "      <th>min</th>\n",
       "      <th>25%</th>\n",
       "      <th>50%</th>\n",
       "      <th>75%</th>\n",
       "      <th>max</th>\n",
       "    </tr>\n",
       "  </thead>\n",
       "  <tbody>\n",
       "    <tr>\n",
       "      <th>qos</th>\n",
       "      <td>975170.0</td>\n",
       "      <td>3.983316</td>\n",
       "      <td>0.373767</td>\n",
       "      <td>0.0</td>\n",
       "      <td>4.0</td>\n",
       "      <td>4.0</td>\n",
       "      <td>4.0</td>\n",
       "      <td>7.0</td>\n",
       "    </tr>\n",
       "    <tr>\n",
       "      <th>time_limit</th>\n",
       "      <td>975170.0</td>\n",
       "      <td>1063.603737</td>\n",
       "      <td>511.217883</td>\n",
       "      <td>1.0</td>\n",
       "      <td>720.0</td>\n",
       "      <td>1440.0</td>\n",
       "      <td>1440.0</td>\n",
       "      <td>1440.0</td>\n",
       "    </tr>\n",
       "    <tr>\n",
       "      <th>cpus_per_task</th>\n",
       "      <td>975170.0</td>\n",
       "      <td>13.301554</td>\n",
       "      <td>16.250140</td>\n",
       "      <td>1.0</td>\n",
       "      <td>1.0</td>\n",
       "      <td>2.0</td>\n",
       "      <td>32.0</td>\n",
       "      <td>4444.0</td>\n",
       "    </tr>\n",
       "    <tr>\n",
       "      <th>num_tasks</th>\n",
       "      <td>975170.0</td>\n",
       "      <td>16.523853</td>\n",
       "      <td>160.926988</td>\n",
       "      <td>0.0</td>\n",
       "      <td>4.0</td>\n",
       "      <td>4.0</td>\n",
       "      <td>24.0</td>\n",
       "      <td>32768.0</td>\n",
       "    </tr>\n",
       "    <tr>\n",
       "      <th>req_cpu</th>\n",
       "      <td>975170.0</td>\n",
       "      <td>114.862959</td>\n",
       "      <td>621.956853</td>\n",
       "      <td>1.0</td>\n",
       "      <td>4.0</td>\n",
       "      <td>24.0</td>\n",
       "      <td>128.0</td>\n",
       "      <td>65536.0</td>\n",
       "    </tr>\n",
       "    <tr>\n",
       "      <th>req_mem</th>\n",
       "      <td>975170.0</td>\n",
       "      <td>98244.121300</td>\n",
       "      <td>534760.600495</td>\n",
       "      <td>1.0</td>\n",
       "      <td>237.5</td>\n",
       "      <td>8000.0</td>\n",
       "      <td>86000.0</td>\n",
       "      <td>57960000.0</td>\n",
       "    </tr>\n",
       "    <tr>\n",
       "      <th>req_node</th>\n",
       "      <td>975170.0</td>\n",
       "      <td>1.724648</td>\n",
       "      <td>7.200674</td>\n",
       "      <td>1.0</td>\n",
       "      <td>1.0</td>\n",
       "      <td>1.0</td>\n",
       "      <td>1.0</td>\n",
       "      <td>256.0</td>\n",
       "    </tr>\n",
       "    <tr>\n",
       "      <th>req_billing</th>\n",
       "      <td>975170.0</td>\n",
       "      <td>114.862959</td>\n",
       "      <td>621.956853</td>\n",
       "      <td>1.0</td>\n",
       "      <td>4.0</td>\n",
       "      <td>24.0</td>\n",
       "      <td>128.0</td>\n",
       "      <td>65536.0</td>\n",
       "    </tr>\n",
       "    <tr>\n",
       "      <th>req_gpu</th>\n",
       "      <td>975170.0</td>\n",
       "      <td>4.596272</td>\n",
       "      <td>27.519665</td>\n",
       "      <td>0.0</td>\n",
       "      <td>0.0</td>\n",
       "      <td>1.0</td>\n",
       "      <td>4.0</td>\n",
       "      <td>1024.0</td>\n",
       "    </tr>\n",
       "  </tbody>\n",
       "</table>\n",
       "</div>"
      ],
      "text/plain": [
       "                  count          mean            std  min    25%     50%  \\\n",
       "qos            975170.0      3.983316       0.373767  0.0    4.0     4.0   \n",
       "time_limit     975170.0   1063.603737     511.217883  1.0  720.0  1440.0   \n",
       "cpus_per_task  975170.0     13.301554      16.250140  1.0    1.0     2.0   \n",
       "num_tasks      975170.0     16.523853     160.926988  0.0    4.0     4.0   \n",
       "req_cpu        975170.0    114.862959     621.956853  1.0    4.0    24.0   \n",
       "req_mem        975170.0  98244.121300  534760.600495  1.0  237.5  8000.0   \n",
       "req_node       975170.0      1.724648       7.200674  1.0    1.0     1.0   \n",
       "req_billing    975170.0    114.862959     621.956853  1.0    4.0    24.0   \n",
       "req_gpu        975170.0      4.596272      27.519665  0.0    0.0     1.0   \n",
       "\n",
       "                   75%         max  \n",
       "qos                4.0         7.0  \n",
       "time_limit      1440.0      1440.0  \n",
       "cpus_per_task     32.0      4444.0  \n",
       "num_tasks         24.0     32768.0  \n",
       "req_cpu          128.0     65536.0  \n",
       "req_mem        86000.0  57960000.0  \n",
       "req_node           1.0       256.0  \n",
       "req_billing      128.0     65536.0  \n",
       "req_gpu            4.0      1024.0  "
      ]
     },
     "execution_count": 13,
     "metadata": {},
     "output_type": "execute_result"
    }
   ],
   "source": [
    "feature_to_describe = [\"qos\", \"time_limit\", \"cpus_per_task\", \"num_tasks\",\n",
    "                        \"req_cpu\", \"req_mem\", \"req_node\", \"req_billing\", \"req_gpu\"]\n",
    "\n",
    "df[feature_to_describe].describe().T"
   ]
  },
  {
   "cell_type": "markdown",
   "metadata": {},
   "source": [
    "From the above statistics, we can highlight:\n",
    "1. data are neither normalized nor standardized\n",
    "2. *qos* column have values very close to the mean, looking the std\n",
    "3. half of the job have the maximum time limit\n",
    "4. all the req features have values very smaller rather than the max, it mean that bigger values are outliers\n",
    "\n",
    "Now, plot job's exit state statistics\n",
    "<a id='job_state_dist'></a>"
   ]
  },
  {
   "cell_type": "code",
   "execution_count": 8,
   "metadata": {},
   "outputs": [
    {
     "name": "stdout",
     "output_type": "stream",
     "text": [
      "job_state\n",
      "COMPLETED        0.879829\n",
      "FAILED           0.101628\n",
      "TIMEOUT          0.014265\n",
      "OUT_OF_MEMORY    0.004277\n",
      "Name: proportion, dtype: float64\n"
     ]
    },
    {
     "data": {
      "image/png": "[encoded data removed]",
      "text/plain": [
       "<Figure size 640x480 with 1 Axes>"
      ]
     },
     "metadata": {},
     "output_type": "display_data"
    }
   ],
   "source": [
    "sns.countplot(x=df[\"job_state\"])\n",
    "print(df.job_state.value_counts(normalize=True))"
   ]
  },
  {
   "cell_type": "markdown",
   "metadata": {},
   "source": [
    "As you can see, it is a very unbulanced dataset, but we expected it since we are work on HPC job and the presence of many failed would represent a big problem for the company."
   ]
  },
  {
   "cell_type": "code",
   "execution_count": 18,
   "metadata": {},
   "outputs": [
    {
     "data": {
      "image/png": "[encoded data removed]",
      "text/plain": [
       "<Figure size 1700x1300 with 16 Axes>"
      ]
     },
     "metadata": {},
     "output_type": "display_data"
    }
   ],
   "source": [
    "cols = df.select_dtypes(include=\"int64\").columns\n",
    "fig, axs = plt.subplots(4, 4, figsize=(17, 13))\n",
    "i, j = 0, 0\n",
    "for col in cols:\n",
    "    counts, edges, bars = axs[i, j].hist(df[col])\n",
    "    axs[i, j].set_title(col, fontweight=\"bold\")\n",
    "    j+=1\n",
    "    if j%4 == 0:\n",
    "        j = 0\n",
    "        i +=1"
   ]
  },
  {
   "cell_type": "code",
   "execution_count": 43,
   "metadata": {},
   "outputs": [
    {
     "data": {
      "text/plain": [
       "<Axes: >"
      ]
     },
     "execution_count": 43,
     "metadata": {},
     "output_type": "execute_result"
    },
    {
     "data": {
      "image/png": "[encoded data removed]",
      "text/plain": [
       "<Figure size 640x480 with 2 Axes>"
      ]
     },
     "metadata": {},
     "output_type": "display_data"
    }
   ],
   "source": [
    "df_corr = df.drop([\"job_state\", \"submit_time\"], axis=1)\n",
    "corr_matrix=df_corr.corr()\n",
    "mask = np.zeros_like(corr_matrix)\n",
    "mask[np.triu_indices_from(mask)] = True\n",
    "sns.heatmap(corr_matrix, mask=mask, square=True)"
   ]
  },
  {
   "attachments": {},
   "cell_type": "markdown",
   "metadata": {},
   "source": [
    "Inspect unique column values to better understand how it's usefull for exit status detection. Now we only consider binary case for semplicity were job are or Completed or Failed"
   ]
  },
  {
   "cell_type": "code",
   "execution_count": 44,
   "metadata": {},
   "outputs": [
    {
     "name": "stdout",
     "output_type": "stream",
     "text": [
      "user_id unique values: 510\n",
      "group_id unique values: 6\n",
      "name unique values: 78586\n",
      "command unique values: 238768\n",
      "partition unique values: 4\n",
      "priority unique values: 86357\n",
      "qos unique values: 8\n",
      "time_limit unique values: 355\n",
      "cpus_per_task unique values: 34\n",
      "num_tasks unique values: 115\n",
      "req_cpu unique values: 156\n",
      "req_node unique values: 62\n",
      "req_billing unique values: 156\n",
      "req_gpu unique values: 71\n",
      "job_state unique values: 2\n"
     ]
    }
   ],
   "source": [
    "df_bin = df.drop([\"submit_time\"], axis=1)\n",
    "df_bin[\"job_state\"] = df_bin[\"job_state\"].replace({\"OUT_OF_MEMORY\": \"FAILED\", \"TIMEOUT\": \"FAILED\"})\n",
    "df_bin[\"job_state\"] = df_bin[\"job_state\"].replace({\"COMPLETED\": 0, \"FAILED\": 1}).astype(np.int64)\n",
    "\n",
    "for col in df_bin.select_dtypes(include=\"int\").columns:\n",
    "    print(f\"{col} unique values: {len(df_bin[col].unique())}\")"
   ]
  },
  {
   "attachments": {},
   "cell_type": "markdown",
   "metadata": {},
   "source": [
    "Now excluding *command* feature which has to much unique values, plot hist plot"
   ]
  },
  {
   "cell_type": "code",
   "execution_count": 45,
   "metadata": {},
   "outputs": [
    {
     "ename": "KeyboardInterrupt",
     "evalue": "",
     "output_type": "error",
     "traceback": [
      "\u001b[0;31m---------------------------------------------------------------------------\u001b[0m",
      "\u001b[0;31mKeyboardInterrupt\u001b[0m                         Traceback (most recent call last)",
      "\u001b[1;32m/home/matteo/github/job_exit_state/project.ipynb Cell 36\u001b[0m line \u001b[0;36m1\n\u001b[1;32m      <a href='vscode-notebook-cell:/home/matteo/github/job_exit_state/project.ipynb#X51sZmlsZQ%3D%3D?line=8'>9</a>\u001b[0m sns\u001b[39m.\u001b[39mhistplot(data\u001b[39m=\u001b[39mdf_bin, x\u001b[39m=\u001b[39m\u001b[39m\"\u001b[39m\u001b[39mqos\u001b[39m\u001b[39m\"\u001b[39m, hue\u001b[39m=\u001b[39m\u001b[39m\"\u001b[39m\u001b[39mjob_state\u001b[39m\u001b[39m\"\u001b[39m, kde\u001b[39m=\u001b[39m\u001b[39mTrue\u001b[39;00m, color\u001b[39m=\u001b[39m\u001b[39m\"\u001b[39m\u001b[39mskyblue\u001b[39m\u001b[39m\"\u001b[39m, ax\u001b[39m=\u001b[39maxs[\u001b[39m1\u001b[39m, \u001b[39m1\u001b[39m])\n\u001b[1;32m     <a href='vscode-notebook-cell:/home/matteo/github/job_exit_state/project.ipynb#X51sZmlsZQ%3D%3D?line=9'>10</a>\u001b[0m sns\u001b[39m.\u001b[39mhistplot(data\u001b[39m=\u001b[39mdf_bin, x\u001b[39m=\u001b[39m\u001b[39m\"\u001b[39m\u001b[39mtime_limit\u001b[39m\u001b[39m\"\u001b[39m, hue\u001b[39m=\u001b[39m\u001b[39m\"\u001b[39m\u001b[39mjob_state\u001b[39m\u001b[39m\"\u001b[39m, kde\u001b[39m=\u001b[39m\u001b[39mTrue\u001b[39;00m, color\u001b[39m=\u001b[39m\u001b[39m\"\u001b[39m\u001b[39mskyblue\u001b[39m\u001b[39m\"\u001b[39m, ax\u001b[39m=\u001b[39maxs[\u001b[39m1\u001b[39m, \u001b[39m2\u001b[39m])\n\u001b[0;32m---> <a href='vscode-notebook-cell:/home/matteo/github/job_exit_state/project.ipynb#X51sZmlsZQ%3D%3D?line=10'>11</a>\u001b[0m sns\u001b[39m.\u001b[39;49mhistplot(data\u001b[39m=\u001b[39;49mdf_bin, x\u001b[39m=\u001b[39;49m\u001b[39m\"\u001b[39;49m\u001b[39mreq_cpu\u001b[39;49m\u001b[39m\"\u001b[39;49m, hue\u001b[39m=\u001b[39;49m\u001b[39m\"\u001b[39;49m\u001b[39mjob_state\u001b[39;49m\u001b[39m\"\u001b[39;49m, kde\u001b[39m=\u001b[39;49m\u001b[39mTrue\u001b[39;49;00m, color\u001b[39m=\u001b[39;49m\u001b[39m\"\u001b[39;49m\u001b[39mskyblue\u001b[39;49m\u001b[39m\"\u001b[39;49m, ax\u001b[39m=\u001b[39;49maxs[\u001b[39m1\u001b[39;49m, \u001b[39m3\u001b[39;49m])\n\u001b[1;32m     <a href='vscode-notebook-cell:/home/matteo/github/job_exit_state/project.ipynb#X51sZmlsZQ%3D%3D?line=11'>12</a>\u001b[0m sns\u001b[39m.\u001b[39mhistplot(data\u001b[39m=\u001b[39mdf_bin, x\u001b[39m=\u001b[39m\u001b[39m\"\u001b[39m\u001b[39mreq_mem\u001b[39m\u001b[39m\"\u001b[39m, hue\u001b[39m=\u001b[39m\u001b[39m\"\u001b[39m\u001b[39mjob_state\u001b[39m\u001b[39m\"\u001b[39m, kde\u001b[39m=\u001b[39m\u001b[39mTrue\u001b[39;00m, color\u001b[39m=\u001b[39m\u001b[39m\"\u001b[39m\u001b[39mskyblue\u001b[39m\u001b[39m\"\u001b[39m, ax\u001b[39m=\u001b[39maxs[\u001b[39m2\u001b[39m, \u001b[39m0\u001b[39m])\n\u001b[1;32m     <a href='vscode-notebook-cell:/home/matteo/github/job_exit_state/project.ipynb#X51sZmlsZQ%3D%3D?line=12'>13</a>\u001b[0m sns\u001b[39m.\u001b[39mhistplot(data\u001b[39m=\u001b[39mdf_bin, x\u001b[39m=\u001b[39m\u001b[39m\"\u001b[39m\u001b[39mreq_node\u001b[39m\u001b[39m\"\u001b[39m, hue\u001b[39m=\u001b[39m\u001b[39m\"\u001b[39m\u001b[39mjob_state\u001b[39m\u001b[39m\"\u001b[39m, kde\u001b[39m=\u001b[39m\u001b[39mTrue\u001b[39;00m, color\u001b[39m=\u001b[39m\u001b[39m\"\u001b[39m\u001b[39mskyblue\u001b[39m\u001b[39m\"\u001b[39m, ax\u001b[39m=\u001b[39maxs[\u001b[39m2\u001b[39m, \u001b[39m1\u001b[39m])\n",
      "File \u001b[0;32m~/miniconda3/envs/nlp/lib/python3.11/site-packages/seaborn/distributions.py:1432\u001b[0m, in \u001b[0;36mhistplot\u001b[0;34m(data, x, y, hue, weights, stat, bins, binwidth, binrange, discrete, cumulative, common_bins, common_norm, multiple, element, fill, shrink, kde, kde_kws, line_kws, thresh, pthresh, pmax, cbar, cbar_ax, cbar_kws, palette, hue_order, hue_norm, color, log_scale, legend, ax, **kwargs)\u001b[0m\n\u001b[1;32m   1421\u001b[0m estimate_kws \u001b[39m=\u001b[39m \u001b[39mdict\u001b[39m(\n\u001b[1;32m   1422\u001b[0m     stat\u001b[39m=\u001b[39mstat,\n\u001b[1;32m   1423\u001b[0m     bins\u001b[39m=\u001b[39mbins,\n\u001b[0;32m   (...)\u001b[0m\n\u001b[1;32m   1427\u001b[0m     cumulative\u001b[39m=\u001b[39mcumulative,\n\u001b[1;32m   1428\u001b[0m )\n\u001b[1;32m   1430\u001b[0m \u001b[39mif\u001b[39;00m p\u001b[39m.\u001b[39munivariate:\n\u001b[0;32m-> 1432\u001b[0m     p\u001b[39m.\u001b[39;49mplot_univariate_histogram(\n\u001b[1;32m   1433\u001b[0m         multiple\u001b[39m=\u001b[39;49mmultiple,\n\u001b[1;32m   1434\u001b[0m         element\u001b[39m=\u001b[39;49melement,\n\u001b[1;32m   1435\u001b[0m         fill\u001b[39m=\u001b[39;49mfill,\n\u001b[1;32m   1436\u001b[0m         shrink\u001b[39m=\u001b[39;49mshrink,\n\u001b[1;32m   1437\u001b[0m         common_norm\u001b[39m=\u001b[39;49mcommon_norm,\n\u001b[1;32m   1438\u001b[0m         common_bins\u001b[39m=\u001b[39;49mcommon_bins,\n\u001b[1;32m   1439\u001b[0m         kde\u001b[39m=\u001b[39;49mkde,\n\u001b[1;32m   1440\u001b[0m         kde_kws\u001b[39m=\u001b[39;49mkde_kws,\n\u001b[1;32m   1441\u001b[0m         color\u001b[39m=\u001b[39;49mcolor,\n\u001b[1;32m   1442\u001b[0m         legend\u001b[39m=\u001b[39;49mlegend,\n\u001b[1;32m   1443\u001b[0m         estimate_kws\u001b[39m=\u001b[39;49mestimate_kws,\n\u001b[1;32m   1444\u001b[0m         line_kws\u001b[39m=\u001b[39;49mline_kws,\n\u001b[1;32m   1445\u001b[0m         \u001b[39m*\u001b[39;49m\u001b[39m*\u001b[39;49mkwargs,\n\u001b[1;32m   1446\u001b[0m     )\n\u001b[1;32m   1448\u001b[0m \u001b[39melse\u001b[39;00m:\n\u001b[1;32m   1450\u001b[0m     p\u001b[39m.\u001b[39mplot_bivariate_histogram(\n\u001b[1;32m   1451\u001b[0m         common_bins\u001b[39m=\u001b[39mcommon_bins,\n\u001b[1;32m   1452\u001b[0m         common_norm\u001b[39m=\u001b[39mcommon_norm,\n\u001b[0;32m   (...)\u001b[0m\n\u001b[1;32m   1462\u001b[0m         \u001b[39m*\u001b[39m\u001b[39m*\u001b[39mkwargs,\n\u001b[1;32m   1463\u001b[0m     )\n",
      "File \u001b[0;32m~/miniconda3/envs/nlp/lib/python3.11/site-packages/seaborn/distributions.py:575\u001b[0m, in \u001b[0;36m_DistributionPlotter.plot_univariate_histogram\u001b[0;34m(self, multiple, element, fill, common_norm, common_bins, shrink, kde, kde_kws, color, legend, line_kws, estimate_kws, **plot_kws)\u001b[0m\n\u001b[1;32m    570\u001b[0m \u001b[39mif\u001b[39;00m element \u001b[39m==\u001b[39m \u001b[39m\"\u001b[39m\u001b[39mbars\u001b[39m\u001b[39m\"\u001b[39m:\n\u001b[1;32m    571\u001b[0m \n\u001b[1;32m    572\u001b[0m     \u001b[39m# Use matplotlib bar plotting\u001b[39;00m\n\u001b[1;32m    574\u001b[0m     plot_func \u001b[39m=\u001b[39m ax\u001b[39m.\u001b[39mbar \u001b[39mif\u001b[39;00m \u001b[39mself\u001b[39m\u001b[39m.\u001b[39mdata_variable \u001b[39m==\u001b[39m \u001b[39m\"\u001b[39m\u001b[39mx\u001b[39m\u001b[39m\"\u001b[39m \u001b[39melse\u001b[39;00m ax\u001b[39m.\u001b[39mbarh\n\u001b[0;32m--> 575\u001b[0m     artists \u001b[39m=\u001b[39m plot_func(\n\u001b[1;32m    576\u001b[0m         hist[\u001b[39m\"\u001b[39;49m\u001b[39medges\u001b[39;49m\u001b[39m\"\u001b[39;49m],\n\u001b[1;32m    577\u001b[0m         hist[\u001b[39m\"\u001b[39;49m\u001b[39mheights\u001b[39;49m\u001b[39m\"\u001b[39;49m] \u001b[39m-\u001b[39;49m bottom,\n\u001b[1;32m    578\u001b[0m         hist[\u001b[39m\"\u001b[39;49m\u001b[39mwidths\u001b[39;49m\u001b[39m\"\u001b[39;49m],\n\u001b[1;32m    579\u001b[0m         bottom,\n\u001b[1;32m    580\u001b[0m         align\u001b[39m=\u001b[39;49m\u001b[39m\"\u001b[39;49m\u001b[39medge\u001b[39;49m\u001b[39m\"\u001b[39;49m,\n\u001b[1;32m    581\u001b[0m         \u001b[39m*\u001b[39;49m\u001b[39m*\u001b[39;49martist_kws,\n\u001b[1;32m    582\u001b[0m     )\n\u001b[1;32m    584\u001b[0m     \u001b[39mfor\u001b[39;00m bar \u001b[39min\u001b[39;00m artists:\n\u001b[1;32m    585\u001b[0m         \u001b[39mif\u001b[39;00m \u001b[39mself\u001b[39m\u001b[39m.\u001b[39mdata_variable \u001b[39m==\u001b[39m \u001b[39m\"\u001b[39m\u001b[39mx\u001b[39m\u001b[39m\"\u001b[39m:\n",
      "File \u001b[0;32m~/miniconda3/envs/nlp/lib/python3.11/site-packages/matplotlib/__init__.py:1442\u001b[0m, in \u001b[0;36m_preprocess_data.<locals>.inner\u001b[0;34m(ax, data, *args, **kwargs)\u001b[0m\n\u001b[1;32m   1439\u001b[0m \u001b[39m@functools\u001b[39m\u001b[39m.\u001b[39mwraps(func)\n\u001b[1;32m   1440\u001b[0m \u001b[39mdef\u001b[39;00m \u001b[39minner\u001b[39m(ax, \u001b[39m*\u001b[39margs, data\u001b[39m=\u001b[39m\u001b[39mNone\u001b[39;00m, \u001b[39m*\u001b[39m\u001b[39m*\u001b[39mkwargs):\n\u001b[1;32m   1441\u001b[0m     \u001b[39mif\u001b[39;00m data \u001b[39mis\u001b[39;00m \u001b[39mNone\u001b[39;00m:\n\u001b[0;32m-> 1442\u001b[0m         \u001b[39mreturn\u001b[39;00m func(ax, \u001b[39m*\u001b[39;49m\u001b[39mmap\u001b[39;49m(sanitize_sequence, args), \u001b[39m*\u001b[39;49m\u001b[39m*\u001b[39;49mkwargs)\n\u001b[1;32m   1444\u001b[0m     bound \u001b[39m=\u001b[39m new_sig\u001b[39m.\u001b[39mbind(ax, \u001b[39m*\u001b[39margs, \u001b[39m*\u001b[39m\u001b[39m*\u001b[39mkwargs)\n\u001b[1;32m   1445\u001b[0m     auto_label \u001b[39m=\u001b[39m (bound\u001b[39m.\u001b[39marguments\u001b[39m.\u001b[39mget(label_namer)\n\u001b[1;32m   1446\u001b[0m                   \u001b[39mor\u001b[39;00m bound\u001b[39m.\u001b[39mkwargs\u001b[39m.\u001b[39mget(label_namer))\n",
      "File \u001b[0;32m~/miniconda3/envs/nlp/lib/python3.11/site-packages/matplotlib/axes/_axes.py:2494\u001b[0m, in \u001b[0;36mAxes.bar\u001b[0;34m(self, x, height, width, bottom, align, **kwargs)\u001b[0m\n\u001b[1;32m   2492\u001b[0m     \u001b[39melse\u001b[39;00m:  \u001b[39m# horizontal\u001b[39;00m\n\u001b[1;32m   2493\u001b[0m         r\u001b[39m.\u001b[39msticky_edges\u001b[39m.\u001b[39mx\u001b[39m.\u001b[39mappend(l)\n\u001b[0;32m-> 2494\u001b[0m     \u001b[39mself\u001b[39;49m\u001b[39m.\u001b[39;49madd_patch(r)\n\u001b[1;32m   2495\u001b[0m     patches\u001b[39m.\u001b[39mappend(r)\n\u001b[1;32m   2497\u001b[0m \u001b[39mif\u001b[39;00m xerr \u001b[39mis\u001b[39;00m \u001b[39mnot\u001b[39;00m \u001b[39mNone\u001b[39;00m \u001b[39mor\u001b[39;00m yerr \u001b[39mis\u001b[39;00m \u001b[39mnot\u001b[39;00m \u001b[39mNone\u001b[39;00m:\n",
      "File \u001b[0;32m~/miniconda3/envs/nlp/lib/python3.11/site-packages/matplotlib/axes/_base.py:2379\u001b[0m, in \u001b[0;36m_AxesBase.add_patch\u001b[0;34m(self, p)\u001b[0m\n\u001b[1;32m   2377\u001b[0m \u001b[39mif\u001b[39;00m p\u001b[39m.\u001b[39mget_clip_path() \u001b[39mis\u001b[39;00m \u001b[39mNone\u001b[39;00m:\n\u001b[1;32m   2378\u001b[0m     p\u001b[39m.\u001b[39mset_clip_path(\u001b[39mself\u001b[39m\u001b[39m.\u001b[39mpatch)\n\u001b[0;32m-> 2379\u001b[0m \u001b[39mself\u001b[39;49m\u001b[39m.\u001b[39;49m_update_patch_limits(p)\n\u001b[1;32m   2380\u001b[0m \u001b[39mself\u001b[39m\u001b[39m.\u001b[39m_children\u001b[39m.\u001b[39mappend(p)\n\u001b[1;32m   2381\u001b[0m p\u001b[39m.\u001b[39m_remove_method \u001b[39m=\u001b[39m \u001b[39mself\u001b[39m\u001b[39m.\u001b[39m_children\u001b[39m.\u001b[39mremove\n",
      "File \u001b[0;32m~/miniconda3/envs/nlp/lib/python3.11/site-packages/matplotlib/axes/_base.py:2411\u001b[0m, in \u001b[0;36m_AxesBase._update_patch_limits\u001b[0;34m(self, patch)\u001b[0m\n\u001b[1;32m   2408\u001b[0m     vertices \u001b[39m=\u001b[39m np\u001b[39m.\u001b[39mrow_stack(vertices)\n\u001b[1;32m   2410\u001b[0m patch_trf \u001b[39m=\u001b[39m patch\u001b[39m.\u001b[39mget_transform()\n\u001b[0;32m-> 2411\u001b[0m updatex, updatey \u001b[39m=\u001b[39m patch_trf\u001b[39m.\u001b[39;49mcontains_branch_seperately(\u001b[39mself\u001b[39;49m\u001b[39m.\u001b[39;49mtransData)\n\u001b[1;32m   2412\u001b[0m \u001b[39mif\u001b[39;00m \u001b[39mnot\u001b[39;00m (updatex \u001b[39mor\u001b[39;00m updatey):\n\u001b[1;32m   2413\u001b[0m     \u001b[39mreturn\u001b[39;00m\n",
      "File \u001b[0;32m~/miniconda3/envs/nlp/lib/python3.11/site-packages/matplotlib/transforms.py:1411\u001b[0m, in \u001b[0;36mTransform.contains_branch_seperately\u001b[0;34m(self, other_transform)\u001b[0m\n\u001b[1;32m   1407\u001b[0m     \u001b[39mraise\u001b[39;00m \u001b[39mValueError\u001b[39;00m(\u001b[39m'\u001b[39m\u001b[39mcontains_branch_seperately only supports \u001b[39m\u001b[39m'\u001b[39m\n\u001b[1;32m   1408\u001b[0m                      \u001b[39m'\u001b[39m\u001b[39mtransforms with 2 output dimensions\u001b[39m\u001b[39m'\u001b[39m)\n\u001b[1;32m   1409\u001b[0m \u001b[39m# for a non-blended transform each separate dimension is the same, so\u001b[39;00m\n\u001b[1;32m   1410\u001b[0m \u001b[39m# just return the appropriate shape.\u001b[39;00m\n\u001b[0;32m-> 1411\u001b[0m \u001b[39mreturn\u001b[39;00m [\u001b[39mself\u001b[39;49m\u001b[39m.\u001b[39;49mcontains_branch(other_transform)] \u001b[39m*\u001b[39m \u001b[39m2\u001b[39m\n",
      "File \u001b[0;32m~/miniconda3/envs/nlp/lib/python3.11/site-packages/matplotlib/transforms.py:1391\u001b[0m, in \u001b[0;36mTransform.contains_branch\u001b[0;34m(self, other)\u001b[0m\n\u001b[1;32m   1389\u001b[0m \u001b[39m# check that a subtree is equal to other (starting from self)\u001b[39;00m\n\u001b[1;32m   1390\u001b[0m \u001b[39mfor\u001b[39;00m _, sub_tree \u001b[39min\u001b[39;00m \u001b[39mself\u001b[39m\u001b[39m.\u001b[39m_iter_break_from_left_to_right():\n\u001b[0;32m-> 1391\u001b[0m     \u001b[39mif\u001b[39;00m sub_tree \u001b[39m==\u001b[39;49m other:\n\u001b[1;32m   1392\u001b[0m         \u001b[39mreturn\u001b[39;00m \u001b[39mTrue\u001b[39;00m\n\u001b[1;32m   1393\u001b[0m \u001b[39mreturn\u001b[39;00m \u001b[39mFalse\u001b[39;00m\n",
      "File \u001b[0;32m~/miniconda3/envs/nlp/lib/python3.11/site-packages/matplotlib/transforms.py:2393\u001b[0m, in \u001b[0;36mCompositeGenericTransform.__eq__\u001b[0;34m(self, other)\u001b[0m\n\u001b[1;32m   2391\u001b[0m \u001b[39mdef\u001b[39;00m \u001b[39m__eq__\u001b[39m(\u001b[39mself\u001b[39m, other):\n\u001b[1;32m   2392\u001b[0m     \u001b[39mif\u001b[39;00m \u001b[39misinstance\u001b[39m(other, (CompositeGenericTransform, CompositeAffine2D)):\n\u001b[0;32m-> 2393\u001b[0m         \u001b[39mreturn\u001b[39;00m \u001b[39mself\u001b[39m \u001b[39mis\u001b[39;00m other \u001b[39mor\u001b[39;00m (\u001b[39mself\u001b[39;49m\u001b[39m.\u001b[39;49m_a \u001b[39m==\u001b[39;49m other\u001b[39m.\u001b[39;49m_a\n\u001b[1;32m   2394\u001b[0m                                  \u001b[39mand\u001b[39;00m \u001b[39mself\u001b[39m\u001b[39m.\u001b[39m_b \u001b[39m==\u001b[39m other\u001b[39m.\u001b[39m_b)\n\u001b[1;32m   2395\u001b[0m     \u001b[39melse\u001b[39;00m:\n\u001b[1;32m   2396\u001b[0m         \u001b[39mreturn\u001b[39;00m \u001b[39mFalse\u001b[39;00m\n",
      "File \u001b[0;32m~/miniconda3/envs/nlp/lib/python3.11/site-packages/matplotlib/transforms.py:1774\u001b[0m, in \u001b[0;36mAffineBase.__eq__\u001b[0;34m(self, other)\u001b[0m\n\u001b[1;32m   1772\u001b[0m \u001b[39mdef\u001b[39;00m \u001b[39m__eq__\u001b[39m(\u001b[39mself\u001b[39m, other):\n\u001b[1;32m   1773\u001b[0m     \u001b[39mif\u001b[39;00m \u001b[39mgetattr\u001b[39m(other, \u001b[39m\"\u001b[39m\u001b[39mis_affine\u001b[39m\u001b[39m\"\u001b[39m, \u001b[39mFalse\u001b[39;00m) \u001b[39mand\u001b[39;00m \u001b[39mhasattr\u001b[39m(other, \u001b[39m\"\u001b[39m\u001b[39mget_matrix\u001b[39m\u001b[39m\"\u001b[39m):\n\u001b[0;32m-> 1774\u001b[0m         \u001b[39mreturn\u001b[39;00m np\u001b[39m.\u001b[39;49mall(\u001b[39mself\u001b[39;49m\u001b[39m.\u001b[39;49mget_matrix() \u001b[39m==\u001b[39;49m other\u001b[39m.\u001b[39;49mget_matrix())\n\u001b[1;32m   1775\u001b[0m     \u001b[39mreturn\u001b[39;00m \u001b[39mNotImplemented\u001b[39m\n",
      "File \u001b[0;32m<__array_function__ internals>:177\u001b[0m, in \u001b[0;36mall\u001b[0;34m(*args, **kwargs)\u001b[0m\n",
      "\u001b[0;31mKeyboardInterrupt\u001b[0m: "
     ]
    }
   ],
   "source": [
    "print_col = set(df_bin.columns).difference(set([\"command\", \"job_state\", \"name\", \"priority\"]))\n",
    "fig, axs = plt.subplots(3, 4, figsize=(15, 15))\n",
    "\n",
    "sns.histplot(data=df_bin, x=\"user_id\", hue=\"job_state\", kde=True, color=\"skyblue\", ax=axs[0, 0])\n",
    "sns.histplot(data=df_bin, x=\"group_id\", hue=\"job_state\", kde=True, color=\"skyblue\", ax=axs[0, 1])\n",
    "sns.histplot(data=df_bin, x=\"partition\", hue=\"job_state\", kde=True, color=\"skyblue\", ax=axs[0, 2])\n",
    "sns.histplot(data=df_bin, x=\"cpus_per_task\", hue=\"job_state\", kde=True, color=\"skyblue\", ax=axs[0, 3])\n",
    "sns.histplot(data=df_bin, x=\"num_tasks\", hue=\"job_state\", kde=True, color=\"skyblue\", ax=axs[1, 0])\n",
    "sns.histplot(data=df_bin, x=\"qos\", hue=\"job_state\", kde=True, color=\"skyblue\", ax=axs[1, 1])\n",
    "sns.histplot(data=df_bin, x=\"time_limit\", hue=\"job_state\", kde=True, color=\"skyblue\", ax=axs[1, 2])\n",
    "sns.histplot(data=df_bin, x=\"req_cpu\", hue=\"job_state\", kde=True, color=\"skyblue\", ax=axs[1, 3])\n",
    "sns.histplot(data=df_bin, x=\"req_mem\", hue=\"job_state\", kde=True, color=\"skyblue\", ax=axs[2, 0])\n",
    "sns.histplot(data=df_bin, x=\"req_node\", hue=\"job_state\", kde=True, color=\"skyblue\", ax=axs[2, 1])\n",
    "sns.histplot(data=df_bin, x=\"req_billing\", hue=\"job_state\", kde=True, color=\"skyblue\", ax=axs[2, 2])\n",
    "sns.histplot(data=df_bin, x=\"req_gres/gpu\", hue=\"job_state\", kde=True, color=\"skyblue\", ax=axs[2, 3])\n",
    "\n",
    "# i, j = 0, 0\n",
    "# for col in print_col:\n",
    "#     sns.histplot(data=df_bin, x=col, hue=\"job_state\", kde=True, color=\"skyblue\", ax=axs[i, j])\n",
    "#     j+=1\n",
    "#     if j%4 == 0:\n",
    "#         i+=1\n",
    "#         j=0"
   ]
  },
  {
   "cell_type": "code",
   "execution_count": null,
   "metadata": {},
   "outputs": [
    {
     "data": {
      "image/png": "[encoded data removed]",
      "text/plain": [
       "<Figure size 2000x1200 with 16 Axes>"
      ]
     },
     "metadata": {},
     "output_type": "display_data"
    }
   ],
   "source": [
    "fig, axs = plt.subplots(4, 4, figsize=(20, 12))\n",
    "\n",
    "i, j = 0, 0\n",
    "for col in df_bin.columns:\n",
    "    if col != \"job_state\":\n",
    "        sns.boxplot(x=df_bin[\"job_state\"], y=df_bin[col], ax=axs[i, j])\n",
    "        j+=1\n",
    "        if j%4 == 0:\n",
    "            i+=1\n",
    "            j=0"
   ]
  },
  {
   "attachments": {},
   "cell_type": "markdown",
   "metadata": {},
   "source": [
    "# Job Exit State prediction - Binary\n",
    "\n",
    "As first attempt we want identify only whether a job is completed or not. We firstly binirize our data, converting 'OUT_OF_MEMORY' and 'TIMEOUT' job states into 'FAILED'. Secondly, we assign to each job integer label in the following way:\n",
    " - **0**: for completed job\n",
    " - **1**: for those failed\n"
   ]
  },
  {
   "cell_type": "code",
   "execution_count": 32,
   "metadata": {},
   "outputs": [
    {
     "name": "stdout",
     "output_type": "stream",
     "text": [
      "Loading data... Lodaded!\n",
      "\n",
      "Old labels:  ['COMPLETED' 'FAILED' 'OUT_OF_MEMORY' 'TIMEOUT']\n",
      "New labels:  ['COMPLETED', 'FAILED']\n"
     ]
    }
   ],
   "source": [
    "print(\"Loading data... \", end=\"\")\n",
    "data, labels = get_data(\"data/job_table_preproc.pkl\")\n",
    "print(\"Lodaded!\")\n",
    "print()\n",
    "print(\"Old labels: \", np.unique(labels))\n",
    "\n",
    "labels[labels == \"OUT_OF_MEMORY\"] = \"FAILED\"\n",
    "labels[labels == \"TIMEOUT\"] = \"FAILED\"\n",
    "\n",
    "print(\"New labels: \", list(np.unique(labels)))"
   ]
  },
  {
   "attachments": {},
   "cell_type": "markdown",
   "metadata": {},
   "source": [
    "Encode labels with integer values"
   ]
  },
  {
   "cell_type": "code",
   "execution_count": 33,
   "metadata": {},
   "outputs": [
    {
     "name": "stdout",
     "output_type": "stream",
     "text": [
      "Old values: ['COMPLETED' 'COMPLETED' 'COMPLETED' 'FAILED' 'COMPLETED']\n",
      "New values: [0 0 0 1 0]\n"
     ]
    }
   ],
   "source": [
    "lab_enc = {\"COMPLETED\": 0, \"FAILED\": 1}\n",
    "\n",
    "print(f\"Old values: {labels[:5]}\")\n",
    "labels = np.asarray([lab_enc[l] for l in labels])\n",
    "print(f\"New values: {labels[:5]}\")"
   ]
  },
  {
   "attachments": {},
   "cell_type": "markdown",
   "metadata": {},
   "source": [
    "Split the data into train, validation and test sets and normalize using only train information"
   ]
  },
  {
   "cell_type": "code",
   "execution_count": 34,
   "metadata": {},
   "outputs": [
    {
     "name": "stdout",
     "output_type": "stream",
     "text": [
      "train data shape: (546095, 16)\n",
      "val data shape: (136524, 16)\n",
      "test data shape: (292551, 16)\n",
      "train labels shape: 546095\n",
      "val labels shape: 136524\n",
      "test labels shape: 292551\n"
     ]
    }
   ],
   "source": [
    "x_train, x_test, y_train, y_test = train_test_split(data, labels, train_size=0.7, random_state=seed)\n",
    "x_train, x_val, y_train, y_val = train_test_split(x_train, y_train, train_size=0.8, random_state=seed)\n",
    "\n",
    "x_train_mean = x_train.mean()\n",
    "x_train_std = x_train.std()\n",
    "x_train = (x_train - x_train_mean) / x_train_std\n",
    "x_val = (x_val - x_train_mean) / x_train_std\n",
    "x_test = (x_test - x_train_mean) / x_train_std\n",
    "\n",
    "print(f\"train data shape: {x_train.shape}\")\n",
    "print(f\"val data shape: {x_val.shape}\")\n",
    "print(f\"test data shape: {x_test.shape}\")\n",
    "print(f\"train labels shape: {len(y_train)}\")\n",
    "print(f\"val labels shape: {len(y_val)}\")\n",
    "print(f\"test labels shape: {len(y_test)}\")"
   ]
  },
  {
   "cell_type": "markdown",
   "metadata": {},
   "source": [
    "Because of the high imbalance in the dataset, we weight each class with the invere of the class frequence. \n",
    "\\begin{equation}\n",
    "w = \n",
    "\\begin{cases}\n",
    "    \\frac{1}{f_0} & \\text{if }~~ y = 0 \\\\\n",
    "    \\frac{1}{f_1} & \\text{otherwise.}\n",
    "\\end{cases}\n",
    "\\end{equation}"
   ]
  },
  {
   "cell_type": "code",
   "execution_count": 45,
   "metadata": {},
   "outputs": [
    {
     "data": {
      "text/plain": [
       "{0: 1.1370606889055925, 1: 8.29603803968037}"
      ]
     },
     "execution_count": 45,
     "metadata": {},
     "output_type": "execute_result"
    }
   ],
   "source": [
    "n_positives = sum(y_train)\n",
    "total = len(y_train)\n",
    "\n",
    "class_weight = {\n",
    "    0: 1 / ((total-n_positives) / total),\n",
    "    1: 1 / (n_positives / total)\n",
    "}\n",
    "class_weight"
   ]
  },
  {
   "cell_type": "markdown",
   "metadata": {},
   "source": [
    "## Logistic Regression\n",
    "Since we are working on a binary classification task, we started our model selection from the **Logistic Regression**. "
   ]
  },
  {
   "cell_type": "code",
   "execution_count": 42,
   "metadata": {},
   "outputs": [
    {
     "name": "stdout",
     "output_type": "stream",
     "text": [
      "F1:\n",
      " - train set:\t\t0.401\n",
      " - validation set:\t0.400\n",
      "Recall:\n",
      " - train set:\t\t0.760\n",
      " - validation set:\t0.758\n",
      "Precision:\n",
      " - train set:\t\t0.272\n",
      " - validation set:\t0.272\n"
     ]
    },
    {
     "data": {
      "image/png": "[encoded data removed]",
      "text/plain": [
       "<Figure size 1300x500 with 2 Axes>"
      ]
     },
     "metadata": {},
     "output_type": "display_data"
    }
   ],
   "source": [
    "reg = LogisticRegression(class_weight=class_weight, random_state = seed, n_jobs=-1, max_iter=200)\n",
    "reg.fit(x_train, y_train)\n",
    "evaluate_model(reg)"
   ]
  },
  {
   "cell_type": "markdown",
   "metadata": {},
   "source": [
    "Very poor performance. The regressor have the same performance on train and validation. The only interesting results is the Recall. Even though, the regressor is not capable to learn any usefull information from the data (F1 score worst than a random classifier), it's still capable enough to classify well whether a job is failed (the recall is over 75%). However, we decided to not tune this model and move on the next."
   ]
  },
  {
   "cell_type": "markdown",
   "metadata": {},
   "source": [
    "## Classification"
   ]
  },
  {
   "cell_type": "markdown",
   "metadata": {},
   "source": [
    "### Decision Tree\n",
    "One of the simplest classification algorithms is **Decision Tree**, let's test it and look how it performs."
   ]
  },
  {
   "cell_type": "code",
   "execution_count": 47,
   "metadata": {},
   "outputs": [
    {
     "name": "stdout",
     "output_type": "stream",
     "text": [
      "F1:\n",
      " - train set:\t\t0.975\n",
      " - validation set:\t0.838\n",
      "Recall:\n",
      " - train set:\t\t0.999\n",
      " - validation set:\t0.855\n",
      "Precision:\n",
      " - train set:\t\t0.924\n",
      " - validation set:\t0.802\n"
     ]
    },
    {
     "data": {
      "image/png": "[encoded data removed]",
      "text/plain": [
       "<Figure size 1300x500 with 2 Axes>"
      ]
     },
     "metadata": {},
     "output_type": "display_data"
    }
   ],
   "source": [
    "dt_bin = DecisionTreeClassifier(class_weight=class_weight, random_state = seed)\n",
    "dt_bin = dt_bin.fit(x_train, y_train)\n",
    "evaluate_model(dt_bin, x_train, x_val, y_train, y_val, average=\"binary\")"
   ]
  },
  {
   "cell_type": "markdown",
   "metadata": {},
   "source": [
    "Preatty good results on validation set. However, there is a big gap between the train and validation results. Indeed, the classifier lost around 14% on the second set. This results highlighted that the tends to classify a job as failed when uncertain. As yoi can notice, the number of false positive are triplicated on validation set, while the number of false negative remained costant.\n",
    "\n",
    "Now, tune the DT-hyperparameters and try to improve results. We use a random serach over all the possible parameters configuration trying to increase both the F1 and the Recall. In this case the second is very important because minimizing the false negative bring more reliable system."
   ]
  },
  {
   "cell_type": "code",
   "execution_count": 68,
   "metadata": {},
   "outputs": [],
   "source": [
    "def rf_objective(search_space):\n",
    "    model = DecisionTreeClassifier(class_weight=class_weight, random_state = seed, **search_space)\n",
    "    model.fit(x_train, y_train)\n",
    "    y_pred = model.predict(x_val)\n",
    "    f_beta = fbeta_score(y_val, y_pred, beta = 1.5, average=\"binary\")\n",
    "    return {'f_beta': -f_beta, 'status': STATUS_OK}\n",
    "\n",
    "dt_search_space={'n_estimators':hp.randint('n_estimators',200,1000),\n",
    "                 'max_depth': hp.randint('max_depth',10,200),           \n",
    "                 'min_samples_split':hp.uniform('min_samples_split',0,1),   \n",
    "                 'min_samples_leaf':hp.randint('min_samples_leaf',1,10),\n",
    "                 'max_features':hp.choice('max_features',['sqrt', 'log2']) \n",
    "}\n",
    "\n",
    "dt_best_params = fmin(\n",
    "  fn=rf_objective,\n",
    "  space=dt_search_space,\n",
    "  algo=tpe.suggest,\n",
    "  max_evals=200)\n",
    "\n",
    "print(\"Best param Decision Tree (binary):\")\n",
    "print(dt_best_params)"
   ]
  },
  {
   "cell_type": "code",
   "execution_count": 69,
   "metadata": {},
   "outputs": [
    {
     "name": "stdout",
     "output_type": "stream",
     "text": [
      "Best params:\n",
      "{'min_samples_leaf': 1}\n",
      "F1:\n",
      " - train set:\t\t0.960\n",
      " - validation set:\t0.828\n",
      "Recall:\n",
      " - train set:\t\t0.999\n",
      " - validation set:\t0.855\n",
      "Precision:\n",
      " - train set:\t\t0.924\n",
      " - validation set:\t0.802\n"
     ]
    },
    {
     "data": {
      "image/png": "[encoded data removed]",
      "text/plain": [
       "<Figure size 1300x500 with 2 Axes>"
      ]
     },
     "metadata": {},
     "output_type": "display_data"
    }
   ],
   "source": [
    "dt_bin_tuned = DecisionTreeClassifier(class_weight=class_weight, random_state=seed, **dt_best_params)\n",
    "dt_bin_tuned.fit(x_train, y_train)\n",
    "evaluate_model(dt_bin_tuned)"
   ]
  },
  {
   "cell_type": "markdown",
   "metadata": {},
   "source": [
    "Gain somthing, but nothing expecial"
   ]
  },
  {
   "cell_type": "markdown",
   "metadata": {},
   "source": [
    "### Ensemble algorithm\n",
    "In the field of machine learning, **ensemble methods** are used to combine base estimators (i.e. weak learners). Two types of ensemble methods are averaging (eg. bagging) and boosting (eg. gradient boosting). Ensemble methods not only increase the performance but also reduce the risk of overfitting. We start using the bagging one, expecially the **Random Forest**.\n",
    "\n",
    "It consists of a large number of individual Decision Trees, where at the end the predictions of the learners are aggregated. Each individual tree in the random forest spits out a class prediction and the class with the most votes becomes our model’s prediction."
   ]
  },
  {
   "cell_type": "code",
   "execution_count": 2,
   "metadata": {},
   "outputs": [
    {
     "ename": "NameError",
     "evalue": "name 'RandomForestClassifier' is not defined",
     "output_type": "error",
     "traceback": [
      "\u001b[0;31m---------------------------------------------------------------------------\u001b[0m",
      "\u001b[0;31mNameError\u001b[0m                                 Traceback (most recent call last)",
      "\u001b[1;32m/home/matteo/github/job_exit_state/project.ipynb Cell 58\u001b[0m line \u001b[0;36m1\n\u001b[0;32m----> <a href='vscode-notebook-cell:/home/matteo/github/job_exit_state/project.ipynb#Y111sZmlsZQ%3D%3D?line=0'>1</a>\u001b[0m rf_clf \u001b[39m=\u001b[39m RandomForestClassifier(class_weight\u001b[39m=\u001b[39mclass_weight, random_state\u001b[39m=\u001b[39mseed)\n\u001b[1;32m      <a href='vscode-notebook-cell:/home/matteo/github/job_exit_state/project.ipynb#Y111sZmlsZQ%3D%3D?line=1'>2</a>\u001b[0m rf_clf\u001b[39m.\u001b[39mfit(x_train, y_train)\n\u001b[1;32m      <a href='vscode-notebook-cell:/home/matteo/github/job_exit_state/project.ipynb#Y111sZmlsZQ%3D%3D?line=2'>3</a>\u001b[0m evaluate_model(rf_clf, x_train, x_val, y_train, y_val)\n",
      "\u001b[0;31mNameError\u001b[0m: name 'RandomForestClassifier' is not defined"
     ]
    }
   ],
   "source": [
    "rf_bin = RandomForestClassifier(class_weight=class_weight, random_state=seed)\n",
    "rf_bin.fit(x_train, y_train)\n",
    "evaluate_model(rf_bin, x_train, x_val, y_train, y_val)"
   ]
  },
  {
   "cell_type": "markdown",
   "metadata": {},
   "source": [
    "As always, tune the model"
   ]
  },
  {
   "cell_type": "code",
   "execution_count": 10,
   "metadata": {},
   "outputs": [],
   "source": [
    "def rf_objective(search_space):\n",
    "    model = RandomForestClassifier(class_weight=class_weight, random_state=seed, **search_space)\n",
    "    model.fit(x_train, y_train)\n",
    "    y_pred = model.predict(x_val)\n",
    "    f_beta = fbeta_score(y_val, y_pred, beta = 1.2, average=\"binary\")\n",
    "    return {'f_beta': -f_beta, 'status': STATUS_OK}\n",
    "\n",
    "rf_search_space={'n_estimators':hp.randint('n_estimators',100,1000),\n",
    "                 'max_depth': hp.randint('max_depth',10,200),           \n",
    "                 'min_samples_split':hp.uniform('min_samples_split',0,1),   \n",
    "                 'min_samples_leaf':hp.randint('min_samples_leaf',1,10),\n",
    "                 'max_features':hp.choice('max_features',['sqrt', 'log2']) \n",
    "}\n",
    "\n",
    "rf_best_params = fmin(\n",
    "  fn=rf_objective,\n",
    "  space=rf_search_space,\n",
    "  algo=tpe.suggest,\n",
    "  max_evals=200)\n",
    "\n",
    "print(\"Best param Random Forest (binary):\")\n",
    "print(rf_best_params)"
   ]
  },
  {
   "cell_type": "code",
   "execution_count": 3,
   "metadata": {},
   "outputs": [
    {
     "ename": "NameError",
     "evalue": "name 'RandomForestClassifier' is not defined",
     "output_type": "error",
     "traceback": [
      "\u001b[0;31m---------------------------------------------------------------------------\u001b[0m",
      "\u001b[0;31mNameError\u001b[0m                                 Traceback (most recent call last)",
      "\u001b[1;32m/home/matteo/github/job_exit_state/project.ipynb Cell 61\u001b[0m line \u001b[0;36m1\n\u001b[0;32m----> <a href='vscode-notebook-cell:/home/matteo/github/job_exit_state/project.ipynb#Y114sZmlsZQ%3D%3D?line=0'>1</a>\u001b[0m rf_tuned \u001b[39m=\u001b[39m RandomForestClassifier(class_weight\u001b[39m=\u001b[39mclass_weight, random_state\u001b[39m=\u001b[39mseed, \u001b[39m*\u001b[39m\u001b[39m*\u001b[39mrf_best_params)\n\u001b[1;32m      <a href='vscode-notebook-cell:/home/matteo/github/job_exit_state/project.ipynb#Y114sZmlsZQ%3D%3D?line=1'>2</a>\u001b[0m rf_tuned\u001b[39m.\u001b[39mfit(x_train, y_train)\n\u001b[1;32m      <a href='vscode-notebook-cell:/home/matteo/github/job_exit_state/project.ipynb#Y114sZmlsZQ%3D%3D?line=2'>3</a>\u001b[0m evaluate_model(rf_tuned)\n",
      "\u001b[0;31mNameError\u001b[0m: name 'RandomForestClassifier' is not defined"
     ]
    }
   ],
   "source": [
    "rf_bin_tuned = RandomForestClassifier(class_weight=class_weight, random_state=seed, **rf_best_params)\n",
    "rf_bin_tuned.fit(x_train, y_train)\n",
    "evaluate_model(rf_bin_tuned)"
   ]
  },
  {
   "cell_type": "markdown",
   "metadata": {},
   "source": [
    "As you can see, tuning the model we lost a bit of F1 score, but we have greatly increased the Recall over the 90% on the validations set. With the Random Forest we obtain slightly better results compared to those obtained so far. This means that the powerness of use multiple Decision Tree togheter and aggregate the results help the classifier to better abstract the data. \n",
    "\n",
    "The last algorithm class tested is the **Gradient Booosting**. In particulare we use the **XGBoost**, that is a open-source implementation of the gradient boosted trees algorithm. It is so called for the uses of Decision Trees as weak classifiers and the gradient descent as loss function optimizer."
   ]
  },
  {
   "cell_type": "code",
   "execution_count": 7,
   "metadata": {},
   "outputs": [
    {
     "name": "stdout",
     "output_type": "stream",
     "text": [
      "F1:\n",
      " - train set:\t\t0.721\n",
      " - validation set:\t0.715\n",
      "Recall:\n",
      " - train set:\t\t0.969\n",
      " - validation set:\t0.961\n",
      "Precision:\n",
      " - train set:\t\t0.574\n",
      " - validation set:\t0.569\n"
     ]
    },
    {
     "data": {
      "image/png": "[encoded data removed]",
      "text/plain": [
       "<Figure size 1300x500 with 2 Axes>"
      ]
     },
     "metadata": {},
     "output_type": "display_data"
    }
   ],
   "source": [
    "xgb_clf = XGBClassifier(objective='binary:logistic',\n",
    "                        booster='gbtree',\n",
    "                        scale_pos_weight=(total - n_positives) / n_positives,\n",
    "                        random_state=seed,\n",
    "                        n_jobs = -1,\n",
    ")\n",
    "xgb_clf.fit(x_train, y_train)\n",
    "evaluate_model(xgb_clf, x_train, x_val, y_train, y_val)"
   ]
  },
  {
   "cell_type": "code",
   "execution_count": null,
   "metadata": {},
   "outputs": [],
   "source": [
    "def xgb_objective(search_space):\n",
    "    model = XGBClassifier(objective='binary:logistic',\n",
    "                         booster='gbtree',\n",
    "                         scale_pos_weight=(total - n_positives) / n_positives,\n",
    "                         random_state=seed,\n",
    "                         n_jobs = -1,\n",
    "                         **search_space\n",
    "    )\n",
    "    model.fit(x_train, y_train)\n",
    "    y_pred = model.predict(x_val)\n",
    "    f_beta = fbeta_score(y_val, y_pred, beta = 1.2, average=\"binary\")\n",
    "    return {'f_beta': -f_beta, 'status': STATUS_OK}\n",
    "\n",
    "xgb_search_space={'n_estimators':hp.randint('n_estimators',200,1000),\n",
    "                 'max_depth': hp.randint('max_depth',1,10),           \n",
    "                 'eta':hp.uniform('eta',0.01,0.2),   \n",
    "                 'min_samples_leaf':hp.randint('min_samples_leaf',1,10),\n",
    "                 'max_features':hp.choice('max_features',['sqrt', 'log2']) \n",
    "}"
   ]
  },
  {
   "cell_type": "markdown",
   "metadata": {},
   "source": []
  },
  {
   "cell_type": "markdown",
   "metadata": {},
   "source": [
    "# Job Exit State prediction - Multiclass\n",
    "Once completed the binary task, we extend it to the multiclass one. Indeed, inside the dataset failed job could in three status:\n",
    "1. **FAILED**: the job contains an error end it fails\n",
    "2. **OUT OF MEMORY**: the job exceed its memory limit and it has been terminated\n",
    "3. **TIMEOUT**: as for the previus, terminated beacuse exeeded the time limit\n",
    "\n"
   ]
  },
  {
   "cell_type": "code",
   "execution_count": 3,
   "metadata": {},
   "outputs": [
    {
     "name": "stdout",
     "output_type": "stream",
     "text": [
      "Loading data... Lodaded!\n",
      "Labels: ['COMPLETED' 'FAILED' 'OUT_OF_MEMORY' 'TIMEOUT']\n"
     ]
    }
   ],
   "source": [
    "print(\"Loading data... \", end=\"\")\n",
    "data, labels = get_data(\"data/job_table_preproc.pkl\")\n",
    "print(\"Lodaded!\")\n",
    "print(\"Labels:\", np.unique(labels))"
   ]
  },
  {
   "cell_type": "code",
   "execution_count": 4,
   "metadata": {},
   "outputs": [
    {
     "name": "stdout",
     "output_type": "stream",
     "text": [
      "Old values: ['COMPLETED' 'COMPLETED' 'COMPLETED' 'FAILED' 'COMPLETED']\n",
      "Old values: [0 0 0 1 0]\n"
     ]
    }
   ],
   "source": [
    "lab_enc_mc = LabelEncoder()\n",
    "print(f\"Old values: {labels[:5]}\")\n",
    "labels = lab_enc_mc.fit_transform(labels)\n",
    "print(f\"Old values: {labels[:5]}\")"
   ]
  },
  {
   "cell_type": "markdown",
   "metadata": {},
   "source": [
    "Split the data into train, validation and test sets and normalize using only train information"
   ]
  },
  {
   "cell_type": "code",
   "execution_count": 5,
   "metadata": {},
   "outputs": [
    {
     "name": "stdout",
     "output_type": "stream",
     "text": [
      "train data shape: (546095, 16)\n",
      "val data shape: (136524, 16)\n",
      "test data shape: (292551, 16)\n",
      "train labels shape: 546095\n",
      "val labels shape: 136524\n",
      "test labels shape: 292551\n"
     ]
    }
   ],
   "source": [
    "x_train, x_test, y_train, y_test = train_test_split(data, labels, train_size=0.7, random_state=seed)\n",
    "x_train, x_val, y_train, y_val = train_test_split(x_train, y_train, train_size=0.8, random_state=seed)\n",
    "\n",
    "x_train_mean = x_train.mean()\n",
    "x_train_std = x_train.std()\n",
    "x_train = (x_train - x_train_mean) / x_train_std\n",
    "x_val = (x_val - x_train_mean) / x_train_std\n",
    "x_test = (x_test - x_train_mean) / x_train_std\n",
    "\n",
    "print(f\"train data shape: {x_train.shape}\")\n",
    "print(f\"val data shape: {x_val.shape}\")\n",
    "print(f\"test data shape: {x_test.shape}\")\n",
    "print(f\"train labels shape: {len(y_train)}\")\n",
    "print(f\"val labels shape: {len(y_val)}\")\n",
    "print(f\"test labels shape: {len(y_test)}\")"
   ]
  },
  {
   "cell_type": "markdown",
   "metadata": {},
   "source": [
    "As mentioned in this [plot]{#job_state_dist} in data analisys, data are heavly unbalanced. Let's assign to each class a weight proportional to the inverse of its frequence in the train split"
   ]
  },
  {
   "cell_type": "code",
   "execution_count": 6,
   "metadata": {},
   "outputs": [
    {
     "data": {
      "text/plain": [
       "{0: 1.1370606889055925,\n",
       " 1: 9.808445290609958,\n",
       " 2: 232.67788666382614,\n",
       " 3: 69.98526207868768}"
      ]
     },
     "execution_count": 6,
     "metadata": {},
     "output_type": "execute_result"
    }
   ],
   "source": [
    "total = len(y_train)\n",
    "lbl_freq = np.bincount(y_train)\n",
    "class_weight_mc = {k:1/(freq/total) for k,freq in enumerate(lbl_freq)}\n",
    "class_weight_mc"
   ]
  },
  {
   "cell_type": "markdown",
   "metadata": {},
   "source": [
    "## Decision Tree\n",
    "As before, start with the easiest classifier and use the trees to infer knowledge on our data."
   ]
  },
  {
   "cell_type": "code",
   "execution_count": 19,
   "metadata": {},
   "outputs": [
    {
     "name": "stdout",
     "output_type": "stream",
     "text": [
      "F1:\n",
      " - train set:\t\t0.954\n",
      " - validation set:\t0.784\n",
      "Recall:\n",
      " - train set:\t\t0.989\n",
      " - validation set:\t0.804\n",
      "Precision:\n",
      " - train set:\t\t0.891\n",
      " - validation set:\t0.748\n"
     ]
    },
    {
     "data": {
      "image/png": "[encoded data removed]",
      "text/plain": [
       "<Figure size 1300x500 with 2 Axes>"
      ]
     },
     "metadata": {},
     "output_type": "display_data"
    }
   ],
   "source": [
    "dt_clf_mc = DecisionTreeClassifier(class_weight=class_weight_mc, random_state = seed)\n",
    "dt_clf_mc = dt_clf_mc.fit(x_train, y_train)\n",
    "evaluate_model(dt_clf_mc, x_train, x_val, y_train, y_val, average=\"macro\")"
   ]
  },
  {
   "cell_type": "markdown",
   "metadata": {},
   "source": [
    "This results are still encouraging. Indeed, with basic setup we saw a quiet good score in terms of F1 and Recall on validation set. The big gap between train and validation performance highlights the overfitting. This means that hyperparameters such as reducing the depth of the trees help the classifier to better abstract the data. All in all, we lost less than 10% point from the binary case, so we are satisfied with the results.\n",
    "\n",
    "Now, let's tune some parameters to increase the perfomance."
   ]
  },
  {
   "cell_type": "code",
   "execution_count": null,
   "metadata": {},
   "outputs": [],
   "source": [
    "def dt_mc_objective(search_space):\n",
    "    model = DecisionTreeClassifier(class_weight=class_weight, random_state = seed, **search_space)\n",
    "    model.fit(x_train, y_train)\n",
    "    y_pred = model.predict(x_val)\n",
    "    f_beta = fbeta_score(y_val, y_pred, beta = 1.2, average=\"binary\")\n",
    "    return {'f_beta': -f_beta, 'status': STATUS_OK}\n",
    "\n",
    "dt__mc_search_space={'max_depth': hp.randint('max_depth',50,100),\n",
    "                     'min_samples_split': hp.randint('min_samples_split',1,40),\n",
    "                     'min_samples_leaf':hp.randint('min_samples_leaf',1,20),\n",
    "                     'max_features':hp.choice('max_features',[None, 'sqrt', 'log2']) \n",
    "}\n",
    "\n",
    "dt_mc_best_params = fmin(\n",
    "  fn=dt_mc_objective,\n",
    "  space=dt__mc_search_space,\n",
    "  algo=tpe.suggest,\n",
    "  max_evals=100)\n",
    "\n",
    "print(\"Best param for Decision Tree (multiclass):\")\n",
    "print(dt_mc_best_params)"
   ]
  },
  {
   "cell_type": "code",
   "execution_count": null,
   "metadata": {},
   "outputs": [],
   "source": [
    "dt_clf_mc_tuned = DecisionTreeClassifier(class_weight=class_weight, random_state = seed, **dt_mc_best_params)\n",
    "dt_clf_mc_tuned = dt_clf_mc_tuned.fit(x_train, y_train)\n",
    "evaluate_model(dt_clf_mc_tuned, x_train, x_val, y_train, y_val, average=\"macro\")"
   ]
  },
  {
   "cell_type": "markdown",
   "metadata": {},
   "source": [
    "## Ensamble Classifier"
   ]
  },
  {
   "cell_type": "code",
   "execution_count": 17,
   "metadata": {},
   "outputs": [
    {
     "name": "stdout",
     "output_type": "stream",
     "text": [
      "F1:\n",
      " - train set:\t\t0.957\n",
      " - validation set:\t0.795\n",
      "Recall:\n",
      " - train set:\t\t0.988\n",
      " - validation set:\t0.806\n",
      "Precision:\n",
      " - train set:\t\t0.900\n",
      " - validation set:\t0.775\n"
     ]
    },
    {
     "data": {
      "image/png": "[encoded data removed]",
      "text/plain": [
       "<Figure size 1300x500 with 2 Axes>"
      ]
     },
     "metadata": {},
     "output_type": "display_data"
    }
   ],
   "source": [
    "rf_mc_clf = RandomForestClassifier(class_weight=class_weight_mc, random_state=seed)\n",
    "rf_mc_clf.fit(x_train, y_train)\n",
    "evaluate_model(rf_mc_clf, x_train, x_val, y_train, y_val, average=\"macro\")"
   ]
  },
  {
   "cell_type": "markdown",
   "metadata": {},
   "source": [
    "There results are very much in line with those of the Decision Tree. Tune it in order to increase the performance a bit."
   ]
  },
  {
   "cell_type": "code",
   "execution_count": null,
   "metadata": {},
   "outputs": [],
   "source": [
    "def rf_mc_objective(search_space):\n",
    "    model = RandomForestClassifier(class_weight=class_weight_mc, random_state=seed, **search_space)\n",
    "    model.fit(x_train, y_train)\n",
    "    y_pred = model.predict(x_val)\n",
    "    f_beta = fbeta_score(y_val, y_pred, beta = 1.2, average=\"binary\")\n",
    "    return {'f_beta': -f_beta, 'status': STATUS_OK}\n",
    "\n",
    "rf__mc_search_space={'max_depth': hp.randint('max_depth',50,100),\n",
    "                     'min_samples_split': hp.randint('min_samples_split',1,40),\n",
    "                     'min_samples_leaf':hp.randint('min_samples_leaf',1,20),\n",
    "                     'max_features':hp.choice('max_features',[None, 'sqrt', 'log2']) \n",
    "}\n",
    "\n",
    "rf_mc_best_params = fmin(\n",
    "  fn=rf_mc_objective,\n",
    "  space=rf__mc_search_space,\n",
    "  algo=tpe.suggest,\n",
    "  max_evals=100)\n",
    "\n",
    "print(\"Best param for Random Forest (multiclass):\")\n",
    "print(rf_mc_best_params)"
   ]
  },
  {
   "cell_type": "code",
   "execution_count": null,
   "metadata": {},
   "outputs": [],
   "source": [
    "rf_mc_tuned = RandomForestClassifier(class_weight=class_weight, random_state = seed, **rf_mc_best_params)\n",
    "rf_mc_tuned = rf_mc_tuned.fit(x_train, y_train)\n",
    "evaluate_model(rf_mc_tuned, x_train, x_val, y_train, y_val, average=\"macro\")"
   ]
  },
  {
   "cell_type": "markdown",
   "metadata": {},
   "source": [
    "Comment on tuned results\n",
    "\n",
    "And as did before, we try also the Gradient Boosting algorithm, in particulat **XGBoost**."
   ]
  },
  {
   "cell_type": "code",
   "execution_count": 11,
   "metadata": {},
   "outputs": [
    {
     "name": "stdout",
     "output_type": "stream",
     "text": [
      "F1:\n",
      " - train set:\t\t0.763\n",
      " - validation set:\t0.741\n",
      "Recall:\n",
      " - train set:\t\t0.730\n",
      " - validation set:\t0.709\n",
      "Precision:\n",
      " - train set:\t\t0.862\n",
      " - validation set:\t0.840\n"
     ]
    },
    {
     "data": {
      "image/png": "[encoded data removed]",
      "text/plain": [
       "<Figure size 1300x500 with 2 Axes>"
      ]
     },
     "metadata": {},
     "output_type": "display_data"
    }
   ],
   "source": [
    "xgb_mc = XGBClassifier(objective='multi:softmax',\n",
    "                        booster='gbtree',\n",
    "                        random_state=seed,\n",
    "                        n_jobs = -1,\n",
    ")\n",
    "xgb_mc.fit(x_train, y_train)\n",
    "evaluate_model(xgb_mc, x_train, x_val, y_train, y_val, average=\"macro\")"
   ]
  },
  {
   "cell_type": "markdown",
   "metadata": {},
   "source": [
    "As always, tune the classifier"
   ]
  },
  {
   "cell_type": "code",
   "execution_count": null,
   "metadata": {},
   "outputs": [],
   "source": [
    "def xgb_mc_objective(search_space):\n",
    "    model = XGBClassifier(objective='multi:softmax',\n",
    "                          booster='gbtree',\n",
    "                          random_state=seed,\n",
    "                          n_jobs = -1,\n",
    "                          **search_space\n",
    "    )\n",
    "    model.fit(x_train, y_train)\n",
    "    y_pred = model.predict(x_val)\n",
    "    f_beta = fbeta_score(y_val, y_pred, beta = 1.5, average=\"binary\")\n",
    "    return {'f_beta': -f_beta, 'status': STATUS_OK}\n",
    "\n",
    "xgb__mc_search_space={'max_depth': hp.randint('max_depth',50,100),\n",
    "                     'min_samples_split': hp.randint('min_samples_split',1,40),\n",
    "                     'min_samples_leaf':hp.randint('min_samples_leaf',1,20),\n",
    "                     'max_features':hp.choice('max_features',[None, 'sqrt', 'log2']) \n",
    "}\n",
    "\n",
    "xgb_mc_best_params = fmin(\n",
    "  fn=xgb_mc_objective,\n",
    "  space=xgb__mc_search_space,\n",
    "  algo=tpe.suggest,\n",
    "  max_evals=100)\n",
    "\n",
    "print(\"Best param for XGBoost (multiclass):\")\n",
    "print(xgb_mc_best_params)"
   ]
  },
  {
   "cell_type": "code",
   "execution_count": null,
   "metadata": {},
   "outputs": [],
   "source": [
    "xgb_mc_tuned = XGBClassifier(objective='multi:softmax',\n",
    "                             booster='gbtree',\n",
    "                             random_state=seed,\n",
    "                             n_jobs = -1,\n",
    "                             **xgb_mc_best_params\n",
    ")\n",
    "xgb_mc_tuned = xgb_mc_tuned.fit(x_train, y_train)\n",
    "evaluate_model(xgb_mc_tuned, x_train, x_val, y_train, y_val, average=\"macro\")"
   ]
  },
  {
   "cell_type": "markdown",
   "metadata": {},
   "source": [
    "## Ensemble of Ensembles"
   ]
  },
  {
   "cell_type": "code",
   "execution_count": 90,
   "metadata": {},
   "outputs": [],
   "source": [
    "train_labels = []\n",
    "for lbl in range(4):\n",
    "    train_labels.append([int(y_train[i] == lbl) for i in range(len(y_train))])"
   ]
  },
  {
   "cell_type": "code",
   "execution_count": 121,
   "metadata": {},
   "outputs": [
    {
     "data": {
      "text/plain": [
       "[{0: 8.29603803968037, 1: 1.1370606889055925},\n",
       " {0: 1.1135274122739942, 1: 9.808445290609958},\n",
       " {0: 1.004316337715265, 1: 232.67788666382614},\n",
       " {0: 1.0144958498361483, 1: 69.98526207868768}]"
      ]
     },
     "execution_count": 121,
     "metadata": {},
     "output_type": "execute_result"
    }
   ],
   "source": [
    "classes_freq = [np.bincount(train_labels[i]) for i in range(4)]\n",
    "weights = [{k:1/(freq/total) for k,freq in enumerate(classes_freq[i])} for i in range(4)]\n",
    "weights"
   ]
  },
  {
   "cell_type": "code",
   "execution_count": 130,
   "metadata": {},
   "outputs": [
    {
     "data": {
      "text/plain": [
       "[{0: 1, 1: 1},\n",
       " {0: 1.1135274122739942, 1: 9.808445290609958},\n",
       " {0: 1.004316337715265, 1: 232.67788666382614},\n",
       " {0: 1.0144958498361483, 1: 69.98526207868768}]"
      ]
     },
     "execution_count": 130,
     "metadata": {},
     "output_type": "execute_result"
    }
   ],
   "source": [
    "weights[0] = {0:1, 1:1}"
   ]
  },
  {
   "cell_type": "code",
   "execution_count": 132,
   "metadata": {},
   "outputs": [],
   "source": [
    "rf_bin_task = [DecisionTreeClassifier(class_weight=weights[i], random_state=seed) for i in range(4)]\n",
    "for i in range(4):\n",
    "    rf_bin_task[i].fit(x_train, train_labels[i])"
   ]
  },
  {
   "cell_type": "code",
   "execution_count": 135,
   "metadata": {},
   "outputs": [],
   "source": [
    "preds = []\n",
    "for i in range(4):\n",
    "    pred = rf_bin_task[i].predict(x_val)\n",
    "    preds.append(pred)\n",
    "preds = np.asarray(preds).T"
   ]
  },
  {
   "cell_type": "code",
   "execution_count": 136,
   "metadata": {},
   "outputs": [
    {
     "data": {
      "text/plain": [
       "array([[1, 0, 0, 0],\n",
       "       [1, 0, 0, 0],\n",
       "       [0, 1, 0, 0],\n",
       "       ...,\n",
       "       [1, 0, 0, 1],\n",
       "       [1, 0, 0, 0],\n",
       "       [1, 0, 0, 0]])"
      ]
     },
     "execution_count": 136,
     "metadata": {},
     "output_type": "execute_result"
    }
   ],
   "source": [
    "preds"
   ]
  },
  {
   "cell_type": "code",
   "execution_count": 134,
   "metadata": {},
   "outputs": [
    {
     "name": "stdout",
     "output_type": "stream",
     "text": [
      "F1:\t\t0.784\n",
      "Recall:\t\t0.785\n",
      "Precision:\t0.789\n"
     ]
    }
   ],
   "source": [
    "final_pred = np.argmax(preds, axis=1)\n",
    "prec, rec, f1, _ = precision_recall_fscore_support(y_val, final_pred, beta=1.5, average=\"macro\")\n",
    "print(f\"F1:\\t\\t{f1:.3f}\")\n",
    "print(f\"Recall:\\t\\t{rec:.3f}\")\n",
    "print(f\"Precision:\\t{prec:.3f}\")"
   ]
  },
  {
   "cell_type": "code",
   "execution_count": null,
   "metadata": {},
   "outputs": [],
   "source": [
    "F1:\t\t0.783\n",
    "Recall:\t\t0.765\n",
    "Precision:\t0.831"
   ]
  },
  {
   "attachments": {},
   "cell_type": "markdown",
   "metadata": {},
   "source": [
    "# Using Neural Networks"
   ]
  },
  {
   "attachments": {},
   "cell_type": "markdown",
   "metadata": {},
   "source": [
    "Build the model"
   ]
  },
  {
   "cell_type": "code",
   "execution_count": null,
   "metadata": {},
   "outputs": [],
   "source": [
    "def build_mlp_model(input_shape, output_shape, hiddens):\n",
    "    model_in = keras.Input(shape=input_shape)\n",
    "    x = model_in\n",
    "    for h in hiddens:\n",
    "        x = keras.layers.Dense(h, activation='relu')(x)\n",
    "    x = keras.layers.Dropout(0.2)(x)\n",
    "    model_out = keras.layers.Dense(output_shape, activation=\"sigmoid\")(x)\n",
    "    model = keras.Model(model_in, model_out)\n",
    "    return model"
   ]
  },
  {
   "cell_type": "code",
   "execution_count": null,
   "metadata": {},
   "outputs": [],
   "source": [
    "class WeightBCE(keras.losses.Loss):\n",
    "    def __init__(self, weights, from_logits=False,\n",
    "                 reduction=keras.losses.Reduction.AUTO,\n",
    "                 name='weighted_decay_bce'):\n",
    "        super().__init__(reduction=reduction, name=name)\n",
    "        self.weights = weights\n",
    "        self.from_logits = from_logits\n",
    "\n",
    "    def call(self, y_true, y_pred):\n",
    "        weights_v = tf.where(tf.equal(y_true, 1), self.weights[1], self.weights[0])\n",
    "        weights_v = tf.cast(weights_v, dtype=tf.float32)\n",
    "        bce = keras.backend.binary_crossentropy(y_true, y_pred, from_logits=self.from_logits)\n",
    "        loss = keras.backend.mean(tf.multiply(bce, weights_v))\n",
    "        return loss"
   ]
  },
  {
   "cell_type": "code",
   "execution_count": null,
   "metadata": {},
   "outputs": [
    {
     "name": "stdout",
     "output_type": "stream",
     "text": [
      "Model: \"model_6\"\n",
      "_________________________________________________________________\n",
      " Layer (type)                Output Shape              Param #   \n",
      "=================================================================\n",
      " input_7 (InputLayer)        [(None, None, 15)]        0         \n",
      "                                                                 \n",
      " dense_22 (Dense)            (None, None, 256)         4096      \n",
      "                                                                 \n",
      " dense_23 (Dense)            (None, None, 128)         32896     \n",
      "                                                                 \n",
      " dense_24 (Dense)            (None, None, 256)         33024     \n",
      "                                                                 \n",
      " dropout_6 (Dropout)         (None, None, 256)         0         \n",
      "                                                                 \n",
      " dense_25 (Dense)            (None, None, 1)           257       \n",
      "                                                                 \n",
      "=================================================================\n",
      "Total params: 70,273\n",
      "Trainable params: 70,273\n",
      "Non-trainable params: 0\n",
      "_________________________________________________________________\n"
     ]
    }
   ],
   "source": [
    "weights = class_weight.compute_class_weight(class_weight='balanced',\n",
    "                                            classes=np.unique(y_train),\n",
    "                                            y=y_train)\n",
    "\n",
    "model = build_mlp_model((None, x_train.shape[1], ), 1, hiddens=[256, 128, 256])\n",
    "model.compile(loss=WeightBCE(weights),\n",
    "              optimizer=keras.optimizers.Adam(), \n",
    "              metrics=[\"accuracy\"])\n",
    "model.summary()"
   ]
  },
  {
   "cell_type": "code",
   "execution_count": null,
   "metadata": {},
   "outputs": [
    {
     "name": "stdout",
     "output_type": "stream",
     "text": [
      "Epoch 1/30\n"
     ]
    },
    {
     "name": "stderr",
     "output_type": "stream",
     "text": [
      "2023-06-05 12:20:08.665347: I tensorflow/core/common_runtime/executor.cc:1197] [/device:CPU:0] (DEBUG INFO) Executor start aborting (this does not indicate an error and you can ignore this message): INVALID_ARGUMENT: You must feed a value for placeholder tensor 'Placeholder/_11' with dtype float and shape [436876]\n",
      "\t [[{{node Placeholder/_11}}]]\n",
      "2023-06-05 12:20:08.665631: I tensorflow/core/common_runtime/executor.cc:1197] [/device:CPU:0] (DEBUG INFO) Executor start aborting (this does not indicate an error and you can ignore this message): INVALID_ARGUMENT: You must feed a value for placeholder tensor 'Placeholder/_11' with dtype float and shape [436876]\n",
      "\t [[{{node Placeholder/_11}}]]\n"
     ]
    },
    {
     "name": "stdout",
     "output_type": "stream",
     "text": [
      "1690/1707 [============================>.] - ETA: 0s - loss: 0.4313 - accuracy: 0.7003"
     ]
    },
    {
     "name": "stderr",
     "output_type": "stream",
     "text": [
      "2023-06-05 12:20:15.059207: I tensorflow/core/common_runtime/executor.cc:1197] [/device:CPU:0] (DEBUG INFO) Executor start aborting (this does not indicate an error and you can ignore this message): INVALID_ARGUMENT: You must feed a value for placeholder tensor 'Placeholder/_11' with dtype float and shape [109219]\n",
      "\t [[{{node Placeholder/_11}}]]\n",
      "2023-06-05 12:20:15.059438: I tensorflow/core/common_runtime/executor.cc:1197] [/device:CPU:0] (DEBUG INFO) Executor start aborting (this does not indicate an error and you can ignore this message): INVALID_ARGUMENT: You must feed a value for placeholder tensor 'Placeholder/_11' with dtype float and shape [109219]\n",
      "\t [[{{node Placeholder/_11}}]]\n"
     ]
    },
    {
     "name": "stdout",
     "output_type": "stream",
     "text": [
      "1707/1707 [==============================] - 7s 3ms/step - loss: 0.4309 - accuracy: 0.7006 - val_loss: 0.3791 - val_accuracy: 0.7119\n",
      "Epoch 2/30\n",
      "1707/1707 [==============================] - 6s 3ms/step - loss: 0.3556 - accuracy: 0.7693 - val_loss: 0.3307 - val_accuracy: 0.7953\n",
      "Epoch 3/30\n",
      "1707/1707 [==============================] - 6s 3ms/step - loss: 0.3243 - accuracy: 0.7973 - val_loss: 0.3155 - val_accuracy: 0.7957\n",
      "Epoch 4/30\n",
      "1707/1707 [==============================] - 6s 3ms/step - loss: 0.3106 - accuracy: 0.8091 - val_loss: 0.3040 - val_accuracy: 0.8145\n",
      "Epoch 5/30\n",
      "1707/1707 [==============================] - 6s 3ms/step - loss: 0.3027 - accuracy: 0.8145 - val_loss: 0.3146 - val_accuracy: 0.8158\n",
      "Epoch 6/30\n",
      "1707/1707 [==============================] - 6s 3ms/step - loss: 0.2961 - accuracy: 0.8189 - val_loss: 0.2893 - val_accuracy: 0.8260\n",
      "Epoch 7/30\n",
      "1707/1707 [==============================] - 6s 3ms/step - loss: 0.2899 - accuracy: 0.8235 - val_loss: 0.2869 - val_accuracy: 0.8159\n",
      "Epoch 8/30\n",
      "1707/1707 [==============================] - 6s 3ms/step - loss: 0.2862 - accuracy: 0.8253 - val_loss: 0.2787 - val_accuracy: 0.8311\n",
      "Epoch 9/30\n",
      "1707/1707 [==============================] - 6s 3ms/step - loss: 0.2818 - accuracy: 0.8285 - val_loss: 0.2797 - val_accuracy: 0.8446\n",
      "Epoch 10/30\n",
      "1707/1707 [==============================] - 5s 3ms/step - loss: 0.2782 - accuracy: 0.8303 - val_loss: 0.2747 - val_accuracy: 0.8285\n",
      "Epoch 11/30\n",
      "1707/1707 [==============================] - 5s 3ms/step - loss: 0.2743 - accuracy: 0.8329 - val_loss: 0.2701 - val_accuracy: 0.8264\n",
      "Epoch 12/30\n",
      "1707/1707 [==============================] - 6s 3ms/step - loss: 0.2714 - accuracy: 0.8349 - val_loss: 0.2667 - val_accuracy: 0.8518\n",
      "Epoch 13/30\n",
      "1707/1707 [==============================] - 6s 4ms/step - loss: 0.2696 - accuracy: 0.8368 - val_loss: 0.2625 - val_accuracy: 0.8429\n",
      "Epoch 14/30\n",
      "1707/1707 [==============================] - 6s 3ms/step - loss: 0.2651 - accuracy: 0.8376 - val_loss: 0.2609 - val_accuracy: 0.8510\n",
      "Epoch 15/30\n",
      "1707/1707 [==============================] - 6s 3ms/step - loss: 0.2632 - accuracy: 0.8396 - val_loss: 0.2587 - val_accuracy: 0.8326\n",
      "Epoch 16/30\n",
      "1707/1707 [==============================] - 6s 3ms/step - loss: 0.2605 - accuracy: 0.8416 - val_loss: 0.2710 - val_accuracy: 0.8358\n",
      "Epoch 17/30\n",
      "1707/1707 [==============================] - 6s 4ms/step - loss: 0.2574 - accuracy: 0.8434 - val_loss: 0.2564 - val_accuracy: 0.8649\n",
      "Epoch 18/30\n",
      "1707/1707 [==============================] - 6s 3ms/step - loss: 0.2556 - accuracy: 0.8460 - val_loss: 0.2502 - val_accuracy: 0.8467\n",
      "Epoch 19/30\n",
      "1707/1707 [==============================] - 5s 3ms/step - loss: 0.2544 - accuracy: 0.8462 - val_loss: 0.2498 - val_accuracy: 0.8531\n",
      "Epoch 20/30\n",
      "1707/1707 [==============================] - 6s 3ms/step - loss: 0.2529 - accuracy: 0.8477 - val_loss: 0.2510 - val_accuracy: 0.8501\n",
      "Epoch 21/30\n",
      "1707/1707 [==============================] - 6s 3ms/step - loss: 0.2509 - accuracy: 0.8490 - val_loss: 0.2480 - val_accuracy: 0.8608\n",
      "Epoch 22/30\n",
      "1707/1707 [==============================] - 6s 4ms/step - loss: 0.2496 - accuracy: 0.8498 - val_loss: 0.2558 - val_accuracy: 0.8452\n",
      "Epoch 23/30\n",
      "1707/1707 [==============================] - 6s 3ms/step - loss: 0.2484 - accuracy: 0.8501 - val_loss: 0.2497 - val_accuracy: 0.8473\n",
      "Epoch 24/30\n",
      "1707/1707 [==============================] - 6s 3ms/step - loss: 0.2462 - accuracy: 0.8526 - val_loss: 0.2560 - val_accuracy: 0.8494\n",
      "Epoch 25/30\n",
      "1707/1707 [==============================] - 6s 3ms/step - loss: 0.2457 - accuracy: 0.8532 - val_loss: 0.2534 - val_accuracy: 0.8522\n",
      "Epoch 26/30\n",
      "1707/1707 [==============================] - 6s 3ms/step - loss: 0.2443 - accuracy: 0.8540 - val_loss: 0.2448 - val_accuracy: 0.8579\n",
      "Epoch 27/30\n",
      "1707/1707 [==============================] - 6s 3ms/step - loss: 0.2432 - accuracy: 0.8541 - val_loss: 0.2467 - val_accuracy: 0.8438\n",
      "Epoch 28/30\n",
      "1707/1707 [==============================] - 6s 3ms/step - loss: 0.2427 - accuracy: 0.8547 - val_loss: 0.2432 - val_accuracy: 0.8620\n",
      "Epoch 29/30\n",
      "1707/1707 [==============================] - 6s 4ms/step - loss: 0.2414 - accuracy: 0.8553 - val_loss: 0.2492 - val_accuracy: 0.8532\n",
      "Epoch 30/30\n",
      "1707/1707 [==============================] - 6s 3ms/step - loss: 0.2409 - accuracy: 0.8567 - val_loss: 0.2414 - val_accuracy: 0.8558\n"
     ]
    }
   ],
   "source": [
    "#callback = tf.keras.callbacks.EarlyStopping(monitor='val_loss', patience=3)\n",
    "history = model.fit(x_train, y_train, epochs=30, validation_split=0.2, batch_size=256, callbacks=[])\n",
    "# model.save_weights(\"checkpoints/mlp_wbce.h5\")"
   ]
  },
  {
   "cell_type": "code",
   "execution_count": null,
   "metadata": {},
   "outputs": [
    {
     "name": "stdout",
     "output_type": "stream",
     "text": [
      "146/286 [==============>...............] - ETA: 0s"
     ]
    },
    {
     "name": "stderr",
     "output_type": "stream",
     "text": [
      "2023-06-05 12:30:20.853114: I tensorflow/core/common_runtime/executor.cc:1197] [/device:CPU:0] (DEBUG INFO) Executor start aborting (this does not indicate an error and you can ignore this message): INVALID_ARGUMENT: You must feed a value for placeholder tensor 'Placeholder/_10' with dtype float and shape [292551,15]\n",
      "\t [[{{node Placeholder/_10}}]]\n",
      "2023-06-05 12:30:20.853344: I tensorflow/core/common_runtime/executor.cc:1197] [/device:CPU:0] (DEBUG INFO) Executor start aborting (this does not indicate an error and you can ignore this message): INVALID_ARGUMENT: You must feed a value for placeholder tensor 'Placeholder/_10' with dtype float and shape [292551,15]\n",
      "\t [[{{node Placeholder/_10}}]]\n"
     ]
    },
    {
     "name": "stdout",
     "output_type": "stream",
     "text": [
      "286/286 [==============================] - 0s 1ms/step\n",
      "F1 on test set: 0.61\n",
      "Recall on test set: 0.95\n",
      "Precision on test set: 0.45\n",
      "\n"
     ]
    },
    {
     "data": {
      "image/png": "[encoded data removed]",
      "text/plain": [
       "<Figure size 640x480 with 2 Axes>"
      ]
     },
     "metadata": {},
     "output_type": "display_data"
    }
   ],
   "source": [
    "# model.load_weights(\"checkpoints/tabMLP_wbce.h5\")\n",
    "\n",
    "y_pred = model.predict(x_test, batch_size=1024)\n",
    "y_pred = tf.reshape(y_pred, y_pred.shape[0]).numpy()\n",
    "y_pred = np.where(y_pred < 0.5, 0, 1)\n",
    "\n",
    "# Create the confusion matrix\n",
    "cm_nn = confusion_matrix(y_test, y_pred)\n",
    "ConfusionMatrixDisplay(confusion_matrix=cm_nn).plot()\n",
    "\n",
    "precision, recall, f1, _ = precision_recall_fscore_support(y_test, y_pred, average=\"binary\")\n",
    "print(f\"F1 on test set: {f1:.2f}\")\n",
    "print(f\"Recall on test set: {recall:.2f}\")\n",
    "print(f\"Precision on test set: {precision:.2f}\")\n",
    "print()"
   ]
  },
  {
   "attachments": {},
   "cell_type": "markdown",
   "metadata": {},
   "source": [
    "### Using Transformers"
   ]
  },
  {
   "cell_type": "code",
   "execution_count": null,
   "metadata": {},
   "outputs": [
    {
     "data": {
      "text/html": [
       "<style>#sk-container-id-8 {color: black;background-color: white;}#sk-container-id-8 pre{padding: 0;}#sk-container-id-8 div.sk-toggleable {background-color: white;}#sk-container-id-8 label.sk-toggleable__label {cursor: pointer;display: block;width: 100%;margin-bottom: 0;padding: 0.3em;box-sizing: border-box;text-align: center;}#sk-container-id-8 label.sk-toggleable__label-arrow:before {content: \"▸\";float: left;margin-right: 0.25em;color: #696969;}#sk-container-id-8 label.sk-toggleable__label-arrow:hover:before {color: black;}#sk-container-id-8 div.sk-estimator:hover label.sk-toggleable__label-arrow:before {color: black;}#sk-container-id-8 div.sk-toggleable__content {max-height: 0;max-width: 0;overflow: hidden;text-align: left;background-color: #f0f8ff;}#sk-container-id-8 div.sk-toggleable__content pre {margin: 0.2em;color: black;border-radius: 0.25em;background-color: #f0f8ff;}#sk-container-id-8 input.sk-toggleable__control:checked~div.sk-toggleable__content {max-height: 200px;max-width: 100%;overflow: auto;}#sk-container-id-8 input.sk-toggleable__control:checked~label.sk-toggleable__label-arrow:before {content: \"▾\";}#sk-container-id-8 div.sk-estimator input.sk-toggleable__control:checked~label.sk-toggleable__label {background-color: #d4ebff;}#sk-container-id-8 div.sk-label input.sk-toggleable__control:checked~label.sk-toggleable__label {background-color: #d4ebff;}#sk-container-id-8 input.sk-hidden--visually {border: 0;clip: rect(1px 1px 1px 1px);clip: rect(1px, 1px, 1px, 1px);height: 1px;margin: -1px;overflow: hidden;padding: 0;position: absolute;width: 1px;}#sk-container-id-8 div.sk-estimator {font-family: monospace;background-color: #f0f8ff;border: 1px dotted black;border-radius: 0.25em;box-sizing: border-box;margin-bottom: 0.5em;}#sk-container-id-8 div.sk-estimator:hover {background-color: #d4ebff;}#sk-container-id-8 div.sk-parallel-item::after {content: \"\";width: 100%;border-bottom: 1px solid gray;flex-grow: 1;}#sk-container-id-8 div.sk-label:hover label.sk-toggleable__label {background-color: #d4ebff;}#sk-container-id-8 div.sk-serial::before {content: \"\";position: absolute;border-left: 1px solid gray;box-sizing: border-box;top: 0;bottom: 0;left: 50%;z-index: 0;}#sk-container-id-8 div.sk-serial {display: flex;flex-direction: column;align-items: center;background-color: white;padding-right: 0.2em;padding-left: 0.2em;position: relative;}#sk-container-id-8 div.sk-item {position: relative;z-index: 1;}#sk-container-id-8 div.sk-parallel {display: flex;align-items: stretch;justify-content: center;background-color: white;position: relative;}#sk-container-id-8 div.sk-item::before, #sk-container-id-8 div.sk-parallel-item::before {content: \"\";position: absolute;border-left: 1px solid gray;box-sizing: border-box;top: 0;bottom: 0;left: 50%;z-index: -1;}#sk-container-id-8 div.sk-parallel-item {display: flex;flex-direction: column;z-index: 1;position: relative;background-color: white;}#sk-container-id-8 div.sk-parallel-item:first-child::after {align-self: flex-end;width: 50%;}#sk-container-id-8 div.sk-parallel-item:last-child::after {align-self: flex-start;width: 50%;}#sk-container-id-8 div.sk-parallel-item:only-child::after {width: 0;}#sk-container-id-8 div.sk-dashed-wrapped {border: 1px dashed gray;margin: 0 0.4em 0.5em 0.4em;box-sizing: border-box;padding-bottom: 0.4em;background-color: white;}#sk-container-id-8 div.sk-label label {font-family: monospace;font-weight: bold;display: inline-block;line-height: 1.2em;}#sk-container-id-8 div.sk-label-container {text-align: center;}#sk-container-id-8 div.sk-container {/* jupyter's `normalize.less` sets `[hidden] { display: none; }` but bootstrap.min.css set `[hidden] { display: none !important; }` so we also need the `!important` here to be able to override the default hidden behavior on the sphinx rendered scikit-learn.org. See: https://github.com/scikit-learn/scikit-learn/issues/21755 */display: inline-block !important;position: relative;}#sk-container-id-8 div.sk-text-repr-fallback {display: none;}</style><div id=\"sk-container-id-8\" class=\"sk-top-container\"><div class=\"sk-text-repr-fallback\"><pre>XGBClassifier(base_score=None, booster=&#x27;gbtree&#x27;, callbacks=None,\n",
       "              colsample_bylevel=None, colsample_bynode=None,\n",
       "              colsample_bytree=None, early_stopping_rounds=None,\n",
       "              enable_categorical=False, eta=0.1, eval_metric=&#x27;logloss&#x27;,\n",
       "              feature_types=None, gamma=None, gpu_id=None, grow_policy=None,\n",
       "              importance_type=None, interaction_constraints=None,\n",
       "              learning_rate=None, max_bin=None, max_cat_threshold=None,\n",
       "              max_cat_to_onehot=None, max_delta_step=None, max_depth=6,\n",
       "              max_leaves=None, min_child_weight=None, missing=nan,\n",
       "              monotone_constraints=None, n_estimators=100, n_jobs=None,\n",
       "              num_parallel_tree=None, predictor=None, ...)</pre><b>In a Jupyter environment, please rerun this cell to show the HTML representation or trust the notebook. <br />On GitHub, the HTML representation is unable to render, please try loading this page with nbviewer.org.</b></div><div class=\"sk-container\" hidden><div class=\"sk-item\"><div class=\"sk-estimator sk-toggleable\"><input class=\"sk-toggleable__control sk-hidden--visually\" id=\"sk-estimator-id-8\" type=\"checkbox\" checked><label for=\"sk-estimator-id-8\" class=\"sk-toggleable__label sk-toggleable__label-arrow\">XGBClassifier</label><div class=\"sk-toggleable__content\"><pre>XGBClassifier(base_score=None, booster=&#x27;gbtree&#x27;, callbacks=None,\n",
       "              colsample_bylevel=None, colsample_bynode=None,\n",
       "              colsample_bytree=None, early_stopping_rounds=None,\n",
       "              enable_categorical=False, eta=0.1, eval_metric=&#x27;logloss&#x27;,\n",
       "              feature_types=None, gamma=None, gpu_id=None, grow_policy=None,\n",
       "              importance_type=None, interaction_constraints=None,\n",
       "              learning_rate=None, max_bin=None, max_cat_threshold=None,\n",
       "              max_cat_to_onehot=None, max_delta_step=None, max_depth=6,\n",
       "              max_leaves=None, min_child_weight=None, missing=nan,\n",
       "              monotone_constraints=None, n_estimators=100, n_jobs=None,\n",
       "              num_parallel_tree=None, predictor=None, ...)</pre></div></div></div></div></div>"
      ],
      "text/plain": [
       "XGBClassifier(base_score=None, booster='gbtree', callbacks=None,\n",
       "              colsample_bylevel=None, colsample_bynode=None,\n",
       "              colsample_bytree=None, early_stopping_rounds=None,\n",
       "              enable_categorical=False, eta=0.1, eval_metric='logloss',\n",
       "              feature_types=None, gamma=None, gpu_id=None, grow_policy=None,\n",
       "              importance_type=None, interaction_constraints=None,\n",
       "              learning_rate=None, max_bin=None, max_cat_threshold=None,\n",
       "              max_cat_to_onehot=None, max_delta_step=None, max_depth=6,\n",
       "              max_leaves=None, min_child_weight=None, missing=nan,\n",
       "              monotone_constraints=None, n_estimators=100, n_jobs=None,\n",
       "              num_parallel_tree=None, predictor=None, ...)"
      ]
     },
     "execution_count": 24,
     "metadata": {},
     "output_type": "execute_result"
    }
   ],
   "source": [
    "import xgboost as xgb\n",
    "\n",
    "model = xgb.XGBClassifier(objective='binary:logistic',\n",
    "                          booster='gbtree',\n",
    "                          max_depth=6,\n",
    "                          scale_pos_weight=0.7,\n",
    "                          eval_metric=\"logloss\",\n",
    "                          seed=seed,\n",
    "                          eta=0.1)\n",
    "model.fit(x_train, y_train)"
   ]
  },
  {
   "cell_type": "code",
   "execution_count": null,
   "metadata": {},
   "outputs": [
    {
     "name": "stdout",
     "output_type": "stream",
     "text": [
      "F1 on test set: 0.6632287161287936\n"
     ]
    },
    {
     "data": {
      "text/plain": [
       "<sklearn.metrics._plot.confusion_matrix.ConfusionMatrixDisplay at 0x1a58be70fd0>"
      ]
     },
     "execution_count": 25,
     "metadata": {},
     "output_type": "execute_result"
    },
    {
     "data": {
      "image/png": "[encoded data removed]",
      "text/plain": [
       "<Figure size 640x480 with 2 Axes>"
      ]
     },
     "metadata": {},
     "output_type": "display_data"
    }
   ],
   "source": [
    "y_pred = model.predict(x_test)\n",
    "f1 = f1_score(y_test, y_pred)\n",
    "print(\"F1 on test set:\", f1)\n",
    "cm = confusion_matrix(y_test, y_pred)\n",
    "ConfusionMatrixDisplay(confusion_matrix=cm).plot()"
   ]
  }
 ],
 "metadata": {
  "kernelspec": {
   "display_name": "venv",
   "language": "python",
   "name": "python3"
  },
  "language_info": {
   "codemirror_mode": {
    "name": "ipython",
    "version": 3
   },
   "file_extension": ".py",
   "mimetype": "text/x-python",
   "name": "python",
   "nbconvert_exporter": "python",
   "pygments_lexer": "ipython3",
   "version": "3.10.13"
  },
  "orig_nbformat": 4
 },
 "nbformat": 4,
 "nbformat_minor": 2
}
